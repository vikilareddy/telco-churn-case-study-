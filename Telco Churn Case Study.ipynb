{
 "cells": [
  {
   "cell_type": "code",
   "execution_count": 1,
   "metadata": {},
   "outputs": [],
   "source": [
    "## Libraries\n",
    "import pandas as pd\n",
    "import numpy as np"
   ]
  },
  {
   "cell_type": "code",
   "execution_count": 2,
   "metadata": {},
   "outputs": [],
   "source": [
    "T = pd.read_csv('Project - 2 Data (Telco Churn Data).csv')"
   ]
  },
  {
   "cell_type": "code",
   "execution_count": 3,
   "metadata": {},
   "outputs": [
    {
     "data": {
      "text/html": [
       "<div>\n",
       "<style scoped>\n",
       "    .dataframe tbody tr th:only-of-type {\n",
       "        vertical-align: middle;\n",
       "    }\n",
       "\n",
       "    .dataframe tbody tr th {\n",
       "        vertical-align: top;\n",
       "    }\n",
       "\n",
       "    .dataframe thead th {\n",
       "        text-align: right;\n",
       "    }\n",
       "</style>\n",
       "<table border=\"1\" class=\"dataframe\">\n",
       "  <thead>\n",
       "    <tr style=\"text-align: right;\">\n",
       "      <th></th>\n",
       "      <th>customerID</th>\n",
       "      <th>gender</th>\n",
       "      <th>SeniorCitizen</th>\n",
       "      <th>Partner</th>\n",
       "      <th>Dependents</th>\n",
       "      <th>tenure</th>\n",
       "      <th>PhoneService</th>\n",
       "      <th>MultipleLines</th>\n",
       "      <th>InternetService</th>\n",
       "      <th>OnlineSecurity</th>\n",
       "      <th>...</th>\n",
       "      <th>DeviceProtection</th>\n",
       "      <th>TechSupport</th>\n",
       "      <th>StreamingTV</th>\n",
       "      <th>StreamingMovies</th>\n",
       "      <th>Contract</th>\n",
       "      <th>PaperlessBilling</th>\n",
       "      <th>PaymentMethod</th>\n",
       "      <th>MonthlyCharges</th>\n",
       "      <th>TotalCharges</th>\n",
       "      <th>Churn</th>\n",
       "    </tr>\n",
       "  </thead>\n",
       "  <tbody>\n",
       "    <tr>\n",
       "      <th>0</th>\n",
       "      <td>7590-VHVEG</td>\n",
       "      <td>Female</td>\n",
       "      <td>0</td>\n",
       "      <td>Yes</td>\n",
       "      <td>No</td>\n",
       "      <td>1</td>\n",
       "      <td>No</td>\n",
       "      <td>No</td>\n",
       "      <td>DSL</td>\n",
       "      <td>No</td>\n",
       "      <td>...</td>\n",
       "      <td>No</td>\n",
       "      <td>No</td>\n",
       "      <td>No</td>\n",
       "      <td>No</td>\n",
       "      <td>Month-to-month</td>\n",
       "      <td>Yes</td>\n",
       "      <td>Electronic check</td>\n",
       "      <td>29.85</td>\n",
       "      <td>29.85</td>\n",
       "      <td>No</td>\n",
       "    </tr>\n",
       "    <tr>\n",
       "      <th>1</th>\n",
       "      <td>5575-GNVDE</td>\n",
       "      <td>Male</td>\n",
       "      <td>0</td>\n",
       "      <td>No</td>\n",
       "      <td>No</td>\n",
       "      <td>34</td>\n",
       "      <td>Yes</td>\n",
       "      <td>No</td>\n",
       "      <td>DSL</td>\n",
       "      <td>Yes</td>\n",
       "      <td>...</td>\n",
       "      <td>Yes</td>\n",
       "      <td>No</td>\n",
       "      <td>No</td>\n",
       "      <td>No</td>\n",
       "      <td>One year</td>\n",
       "      <td>No</td>\n",
       "      <td>Mailed check</td>\n",
       "      <td>56.95</td>\n",
       "      <td>1889.5</td>\n",
       "      <td>No</td>\n",
       "    </tr>\n",
       "    <tr>\n",
       "      <th>2</th>\n",
       "      <td>3668-QPYBK</td>\n",
       "      <td>Male</td>\n",
       "      <td>0</td>\n",
       "      <td>No</td>\n",
       "      <td>No</td>\n",
       "      <td>2</td>\n",
       "      <td>Yes</td>\n",
       "      <td>No</td>\n",
       "      <td>DSL</td>\n",
       "      <td>Yes</td>\n",
       "      <td>...</td>\n",
       "      <td>No</td>\n",
       "      <td>No</td>\n",
       "      <td>No</td>\n",
       "      <td>No</td>\n",
       "      <td>Month-to-month</td>\n",
       "      <td>Yes</td>\n",
       "      <td>Mailed check</td>\n",
       "      <td>53.85</td>\n",
       "      <td>108.15</td>\n",
       "      <td>Yes</td>\n",
       "    </tr>\n",
       "    <tr>\n",
       "      <th>3</th>\n",
       "      <td>7795-CFOCW</td>\n",
       "      <td>Male</td>\n",
       "      <td>0</td>\n",
       "      <td>No</td>\n",
       "      <td>No</td>\n",
       "      <td>45</td>\n",
       "      <td>No</td>\n",
       "      <td>No</td>\n",
       "      <td>DSL</td>\n",
       "      <td>Yes</td>\n",
       "      <td>...</td>\n",
       "      <td>Yes</td>\n",
       "      <td>Yes</td>\n",
       "      <td>No</td>\n",
       "      <td>No</td>\n",
       "      <td>One year</td>\n",
       "      <td>No</td>\n",
       "      <td>Bank transfer (automatic)</td>\n",
       "      <td>42.30</td>\n",
       "      <td>1840.75</td>\n",
       "      <td>No</td>\n",
       "    </tr>\n",
       "    <tr>\n",
       "      <th>4</th>\n",
       "      <td>9237-HQITU</td>\n",
       "      <td>Female</td>\n",
       "      <td>0</td>\n",
       "      <td>No</td>\n",
       "      <td>No</td>\n",
       "      <td>2</td>\n",
       "      <td>Yes</td>\n",
       "      <td>No</td>\n",
       "      <td>Fiber optic</td>\n",
       "      <td>No</td>\n",
       "      <td>...</td>\n",
       "      <td>No</td>\n",
       "      <td>No</td>\n",
       "      <td>No</td>\n",
       "      <td>No</td>\n",
       "      <td>Month-to-month</td>\n",
       "      <td>Yes</td>\n",
       "      <td>Electronic check</td>\n",
       "      <td>70.70</td>\n",
       "      <td>151.65</td>\n",
       "      <td>Yes</td>\n",
       "    </tr>\n",
       "  </tbody>\n",
       "</table>\n",
       "<p>5 rows × 21 columns</p>\n",
       "</div>"
      ],
      "text/plain": [
       "   customerID  gender  SeniorCitizen Partner Dependents  tenure PhoneService  \\\n",
       "0  7590-VHVEG  Female              0     Yes         No       1           No   \n",
       "1  5575-GNVDE    Male              0      No         No      34          Yes   \n",
       "2  3668-QPYBK    Male              0      No         No       2          Yes   \n",
       "3  7795-CFOCW    Male              0      No         No      45           No   \n",
       "4  9237-HQITU  Female              0      No         No       2          Yes   \n",
       "\n",
       "  MultipleLines InternetService OnlineSecurity  ... DeviceProtection  \\\n",
       "0            No             DSL             No  ...               No   \n",
       "1            No             DSL            Yes  ...              Yes   \n",
       "2            No             DSL            Yes  ...               No   \n",
       "3            No             DSL            Yes  ...              Yes   \n",
       "4            No     Fiber optic             No  ...               No   \n",
       "\n",
       "  TechSupport StreamingTV StreamingMovies        Contract PaperlessBilling  \\\n",
       "0          No          No              No  Month-to-month              Yes   \n",
       "1          No          No              No        One year               No   \n",
       "2          No          No              No  Month-to-month              Yes   \n",
       "3         Yes          No              No        One year               No   \n",
       "4          No          No              No  Month-to-month              Yes   \n",
       "\n",
       "               PaymentMethod MonthlyCharges  TotalCharges Churn  \n",
       "0           Electronic check          29.85         29.85    No  \n",
       "1               Mailed check          56.95        1889.5    No  \n",
       "2               Mailed check          53.85        108.15   Yes  \n",
       "3  Bank transfer (automatic)          42.30       1840.75    No  \n",
       "4           Electronic check          70.70        151.65   Yes  \n",
       "\n",
       "[5 rows x 21 columns]"
      ]
     },
     "execution_count": 3,
     "metadata": {},
     "output_type": "execute_result"
    }
   ],
   "source": [
    "T.head()"
   ]
  },
  {
   "cell_type": "code",
   "execution_count": 4,
   "metadata": {},
   "outputs": [
    {
     "data": {
      "text/plain": [
       "(7043, 21)"
      ]
     },
     "execution_count": 4,
     "metadata": {},
     "output_type": "execute_result"
    }
   ],
   "source": [
    "T.shape"
   ]
  },
  {
   "cell_type": "code",
   "execution_count": 5,
   "metadata": {},
   "outputs": [
    {
     "data": {
      "text/html": [
       "<div>\n",
       "<style scoped>\n",
       "    .dataframe tbody tr th:only-of-type {\n",
       "        vertical-align: middle;\n",
       "    }\n",
       "\n",
       "    .dataframe tbody tr th {\n",
       "        vertical-align: top;\n",
       "    }\n",
       "\n",
       "    .dataframe thead th {\n",
       "        text-align: right;\n",
       "    }\n",
       "</style>\n",
       "<table border=\"1\" class=\"dataframe\">\n",
       "  <thead>\n",
       "    <tr style=\"text-align: right;\">\n",
       "      <th></th>\n",
       "      <th>SeniorCitizen</th>\n",
       "      <th>tenure</th>\n",
       "      <th>MonthlyCharges</th>\n",
       "    </tr>\n",
       "  </thead>\n",
       "  <tbody>\n",
       "    <tr>\n",
       "      <th>count</th>\n",
       "      <td>7043.000000</td>\n",
       "      <td>7043.000000</td>\n",
       "      <td>7043.000000</td>\n",
       "    </tr>\n",
       "    <tr>\n",
       "      <th>mean</th>\n",
       "      <td>0.162147</td>\n",
       "      <td>32.371149</td>\n",
       "      <td>64.761692</td>\n",
       "    </tr>\n",
       "    <tr>\n",
       "      <th>std</th>\n",
       "      <td>0.368612</td>\n",
       "      <td>24.559481</td>\n",
       "      <td>30.090047</td>\n",
       "    </tr>\n",
       "    <tr>\n",
       "      <th>min</th>\n",
       "      <td>0.000000</td>\n",
       "      <td>0.000000</td>\n",
       "      <td>18.250000</td>\n",
       "    </tr>\n",
       "    <tr>\n",
       "      <th>25%</th>\n",
       "      <td>0.000000</td>\n",
       "      <td>9.000000</td>\n",
       "      <td>35.500000</td>\n",
       "    </tr>\n",
       "    <tr>\n",
       "      <th>50%</th>\n",
       "      <td>0.000000</td>\n",
       "      <td>29.000000</td>\n",
       "      <td>70.350000</td>\n",
       "    </tr>\n",
       "    <tr>\n",
       "      <th>75%</th>\n",
       "      <td>0.000000</td>\n",
       "      <td>55.000000</td>\n",
       "      <td>89.850000</td>\n",
       "    </tr>\n",
       "    <tr>\n",
       "      <th>max</th>\n",
       "      <td>1.000000</td>\n",
       "      <td>72.000000</td>\n",
       "      <td>118.750000</td>\n",
       "    </tr>\n",
       "  </tbody>\n",
       "</table>\n",
       "</div>"
      ],
      "text/plain": [
       "       SeniorCitizen       tenure  MonthlyCharges\n",
       "count    7043.000000  7043.000000     7043.000000\n",
       "mean        0.162147    32.371149       64.761692\n",
       "std         0.368612    24.559481       30.090047\n",
       "min         0.000000     0.000000       18.250000\n",
       "25%         0.000000     9.000000       35.500000\n",
       "50%         0.000000    29.000000       70.350000\n",
       "75%         0.000000    55.000000       89.850000\n",
       "max         1.000000    72.000000      118.750000"
      ]
     },
     "execution_count": 5,
     "metadata": {},
     "output_type": "execute_result"
    }
   ],
   "source": [
    "T.describe()"
   ]
  },
  {
   "cell_type": "code",
   "execution_count": 6,
   "metadata": {},
   "outputs": [
    {
     "data": {
      "text/plain": [
       "customerID           object\n",
       "gender               object\n",
       "SeniorCitizen         int64\n",
       "Partner              object\n",
       "Dependents           object\n",
       "tenure                int64\n",
       "PhoneService         object\n",
       "MultipleLines        object\n",
       "InternetService      object\n",
       "OnlineSecurity       object\n",
       "OnlineBackup         object\n",
       "DeviceProtection     object\n",
       "TechSupport          object\n",
       "StreamingTV          object\n",
       "StreamingMovies      object\n",
       "Contract             object\n",
       "PaperlessBilling     object\n",
       "PaymentMethod        object\n",
       "MonthlyCharges      float64\n",
       "TotalCharges         object\n",
       "Churn                object\n",
       "dtype: object"
      ]
     },
     "execution_count": 6,
     "metadata": {},
     "output_type": "execute_result"
    }
   ],
   "source": [
    "T.dtypes"
   ]
  },
  {
   "cell_type": "code",
   "execution_count": 7,
   "metadata": {},
   "outputs": [],
   "source": [
    "T['SeniorCitizen'] = T['SeniorCitizen'].astype('category')    # Converting SeniorCitizen from numerical to categorical"
   ]
  },
  {
   "cell_type": "code",
   "execution_count": 8,
   "metadata": {},
   "outputs": [
    {
     "data": {
      "text/plain": [
       "array(['29.85', '1889.5', '108.15', ..., '346.45', '306.6', '6844.5'],\n",
       "      dtype=object)"
      ]
     },
     "execution_count": 8,
     "metadata": {},
     "output_type": "execute_result"
    }
   ],
   "source": [
    "T['TotalCharges'].unique()           # TotalCharges which should be numerical has quotes in the data"
   ]
  },
  {
   "cell_type": "code",
   "execution_count": 9,
   "metadata": {},
   "outputs": [],
   "source": [
    "T ['TotalCharges'] = pd.to_numeric(T['TotalCharges'], errors='coerce') \n",
    "# Converting TotaCharges to numeric by removing quotes"
   ]
  },
  {
   "cell_type": "markdown",
   "metadata": {},
   "source": [
    "### EDA"
   ]
  },
  {
   "cell_type": "code",
   "execution_count": 10,
   "metadata": {
    "scrolled": true
   },
   "outputs": [
    {
     "data": {
      "text/plain": [
       "<seaborn.axisgrid.FacetGrid at 0x7f9dea99efa0>"
      ]
     },
     "execution_count": 10,
     "metadata": {},
     "output_type": "execute_result"
    },
    {
     "data": {
      "image/png": "[encoded data removed]",
      "text/plain": [
       "<Figure size 412x360 with 1 Axes>"
      ]
     },
     "metadata": {
      "needs_background": "light"
     },
     "output_type": "display_data"
    }
   ],
   "source": [
    "import seaborn as sns   # importing seaborn for visualisations\n",
    "\n",
    "# Plotting the distribution of churn by gender\n",
    "sns.catplot(y=\"gender\", hue=\"Churn\", kind=\"count\",\n",
    "            palette=\"pastel\", edgecolor=\".6\",\n",
    "            data=T)"
   ]
  },
  {
   "cell_type": "code",
   "execution_count": 11,
   "metadata": {},
   "outputs": [
    {
     "data": {
      "text/plain": [
       "<seaborn.axisgrid.FacetGrid at 0x7f9dd8b87880>"
      ]
     },
     "execution_count": 11,
     "metadata": {},
     "output_type": "execute_result"
    },
    {
     "data": {
      "image/png": "[encoded data removed]",
      "text/plain": [
       "<Figure size 412x360 with 1 Axes>"
      ]
     },
     "metadata": {
      "needs_background": "light"
     },
     "output_type": "display_data"
    }
   ],
   "source": [
    "# Plotting the distribution of Churn by Payment method\n",
    "sns.catplot(y=\"PaymentMethod\", hue=\"Churn\", kind=\"count\",\n",
    "            palette=\"pastel\", edgecolor=\".6\",\n",
    "            data=T)"
   ]
  },
  {
   "cell_type": "code",
   "execution_count": 12,
   "metadata": {},
   "outputs": [
    {
     "data": {
      "text/plain": [
       "<seaborn.axisgrid.FacetGrid at 0x7f9dc89d6dc0>"
      ]
     },
     "execution_count": 12,
     "metadata": {},
     "output_type": "execute_result"
    },
    {
     "data": {
      "image/png": "[encoded data removed]",
      "text/plain": [
       "<Figure size 412x360 with 1 Axes>"
      ]
     },
     "metadata": {
      "needs_background": "light"
     },
     "output_type": "display_data"
    }
   ],
   "source": [
    "# Plotting the distribution of Churn by Contract\n",
    "sns.catplot(y=\"Contract\", hue=\"Churn\", kind=\"count\",\n",
    "            palette=\"pastel\", edgecolor=\".6\",\n",
    "            data=T)"
   ]
  },
  {
   "cell_type": "code",
   "execution_count": 13,
   "metadata": {},
   "outputs": [
    {
     "data": {
      "text/plain": [
       "<seaborn.axisgrid.FacetGrid at 0x7f9dc89e2490>"
      ]
     },
     "execution_count": 13,
     "metadata": {},
     "output_type": "execute_result"
    },
    {
     "data": {
      "image/png": "[encoded data removed]",
      "text/plain": [
       "<Figure size 412x360 with 1 Axes>"
      ]
     },
     "metadata": {
      "needs_background": "light"
     },
     "output_type": "display_data"
    }
   ],
   "source": [
    "# Plotting the distribution of Churn by SeniorCitizen (1 = Senior, 0 = Not a Senior)\n",
    "sns.catplot(y=\"SeniorCitizen\", hue=\"Churn\", kind=\"count\",\n",
    "            palette=\"pastel\", edgecolor=\".6\",\n",
    "            data=T)"
   ]
  },
  {
   "cell_type": "code",
   "execution_count": 14,
   "metadata": {},
   "outputs": [
    {
     "data": {
      "text/plain": [
       "<seaborn.axisgrid.FacetGrid at 0x7f9dc89ce670>"
      ]
     },
     "execution_count": 14,
     "metadata": {},
     "output_type": "execute_result"
    },
    {
     "data": {
      "text/plain": [
       "<Figure size 2880x720 with 0 Axes>"
      ]
     },
     "metadata": {},
     "output_type": "display_data"
    },
    {
     "data": {
      "image/png": "[encoded data removed]",
      "text/plain": [
       "<Figure size 412x360 with 1 Axes>"
      ]
     },
     "metadata": {
      "needs_background": "light"
     },
     "output_type": "display_data"
    }
   ],
   "source": [
    "# Plotting the distribution of Churn by Tenure of Customer\n",
    "import matplotlib.pyplot as plt\n",
    "plt.figure(figsize=(40,10))\n",
    "sns.catplot(y=\"tenure\", hue=\"Churn\", kind=\"count\",\n",
    "            palette=\"pastel\", edgecolor=\".6\",\n",
    "            data=T)"
   ]
  },
  {
   "cell_type": "code",
   "execution_count": 15,
   "metadata": {},
   "outputs": [],
   "source": [
    "# Bucketing the tenure variable for better insight\n",
    "def tenure(row):\n",
    "    if row['tenure']>=72:\n",
    "        return '>=6 Years'\n",
    "    elif row['tenure']>=60:\n",
    "        return '5-6 Years'\n",
    "    elif row['tenure']>=48:\n",
    "        return '4-5 Years'\n",
    "    elif row['tenure']>=36:\n",
    "        return '3-4 Years'\n",
    "    elif row['tenure']>=24:\n",
    "        return '2-3 Years'\n",
    "    elif row['tenure']>=12:\n",
    "        return '1-2 Years'\n",
    "    elif row['tenure']>=6:\n",
    "        return '6 Months - 1 Year'\n",
    "    else:\n",
    "        return '<6 months'\n",
    "T['tenure_buc'] = T.apply(tenure, axis=1)"
   ]
  },
  {
   "cell_type": "code",
   "execution_count": 16,
   "metadata": {},
   "outputs": [
    {
     "data": {
      "text/plain": [
       "<seaborn.axisgrid.FacetGrid at 0x7f9dd91bcd30>"
      ]
     },
     "execution_count": 16,
     "metadata": {},
     "output_type": "execute_result"
    },
    {
     "data": {
      "image/png": "[encoded data removed]",
      "text/plain": [
       "<Figure size 412x360 with 1 Axes>"
      ]
     },
     "metadata": {
      "needs_background": "light"
     },
     "output_type": "display_data"
    }
   ],
   "source": [
    "# Plotting the distribution of Churn by Tenure Bucket\n",
    "import matplotlib.pyplot as plt\n",
    "sns.catplot(y=\"tenure_buc\", hue=\"Churn\", kind=\"count\",\n",
    "            palette=\"pastel\", edgecolor=\".6\",\n",
    "            data=T, order=['<6 months','6 Months - 1 Year','1-2 Years','2-3 Years','3-4 Years','4-5 Years','5-6 Years','>=6 Years'])"
   ]
  },
  {
   "cell_type": "code",
   "execution_count": 17,
   "metadata": {},
   "outputs": [
    {
     "data": {
      "text/plain": [
       "<seaborn.axisgrid.FacetGrid at 0x7f9db830cfa0>"
      ]
     },
     "execution_count": 17,
     "metadata": {},
     "output_type": "execute_result"
    },
    {
     "data": {
      "text/plain": [
       "<Figure size 2880x720 with 0 Axes>"
      ]
     },
     "metadata": {},
     "output_type": "display_data"
    },
    {
     "data": {
      "image/png": "[encoded data removed]",
      "text/plain": [
       "<Figure size 412x360 with 1 Axes>"
      ]
     },
     "metadata": {
      "needs_background": "light"
     },
     "output_type": "display_data"
    }
   ],
   "source": [
    "# Plotting the distribution of Churn by Dependents\n",
    "import matplotlib.pyplot as plt\n",
    "plt.figure(figsize=(40,10))\n",
    "sns.catplot(y=\"Dependents\", hue=\"Churn\", kind=\"count\",\n",
    "            palette=\"pastel\", edgecolor=\".6\",\n",
    "            data=T)"
   ]
  },
  {
   "cell_type": "code",
   "execution_count": 18,
   "metadata": {},
   "outputs": [
    {
     "data": {
      "text/plain": [
       "<AxesSubplot:xlabel='Churn', ylabel='TotalCharges'>"
      ]
     },
     "execution_count": 18,
     "metadata": {},
     "output_type": "execute_result"
    },
    {
     "data": {
      "image/png": "[encoded data removed]",
      "text/plain": [
       "<Figure size 432x288 with 1 Axes>"
      ]
     },
     "metadata": {
      "needs_background": "light"
     },
     "output_type": "display_data"
    }
   ],
   "source": [
    "# Plotting the Boxplot of TotalCharges by Churn\n",
    "sns.boxplot(\n",
    "    data=T,\n",
    "    x='Churn',\n",
    "    y='TotalCharges',\n",
    "    color='red')"
   ]
  },
  {
   "cell_type": "code",
   "execution_count": 19,
   "metadata": {},
   "outputs": [
    {
     "data": {
      "text/plain": [
       "<AxesSubplot:xlabel='Churn', ylabel='MonthlyCharges'>"
      ]
     },
     "execution_count": 19,
     "metadata": {},
     "output_type": "execute_result"
    },
    {
     "data": {
      "image/png": "[encoded data removed]",
      "text/plain": [
       "<Figure size 432x288 with 1 Axes>"
      ]
     },
     "metadata": {
      "needs_background": "light"
     },
     "output_type": "display_data"
    }
   ],
   "source": [
    "# Plotting the Boxplot of MonthlyCharges by Churn\n",
    "sns.boxplot(\n",
    "    data=T,\n",
    "    x='Churn',\n",
    "    y='MonthlyCharges',\n",
    "    color='red')"
   ]
  },
  {
   "cell_type": "code",
   "execution_count": 20,
   "metadata": {},
   "outputs": [
    {
     "data": {
      "text/plain": [
       "<seaborn.axisgrid.FacetGrid at 0x7f9dd903db80>"
      ]
     },
     "execution_count": 20,
     "metadata": {},
     "output_type": "execute_result"
    },
    {
     "data": {
      "image/png": "[encoded data removed]",
      "text/plain": [
       "<Figure size 412x360 with 1 Axes>"
      ]
     },
     "metadata": {
      "needs_background": "light"
     },
     "output_type": "display_data"
    }
   ],
   "source": [
    "# Plotting the distribution of Churn by Partner\n",
    "import matplotlib.pyplot as plt\n",
    "sns.catplot(y=\"Partner\", hue=\"Churn\", kind=\"count\",\n",
    "            palette=\"pastel\", edgecolor=\".6\",\n",
    "            data=T)"
   ]
  },
  {
   "cell_type": "code",
   "execution_count": 21,
   "metadata": {},
   "outputs": [
    {
     "data": {
      "text/plain": [
       "customerID           0\n",
       "gender               0\n",
       "SeniorCitizen        0\n",
       "Partner              0\n",
       "Dependents           0\n",
       "tenure               0\n",
       "PhoneService         0\n",
       "MultipleLines        0\n",
       "InternetService      0\n",
       "OnlineSecurity       0\n",
       "OnlineBackup         0\n",
       "DeviceProtection     0\n",
       "TechSupport          0\n",
       "StreamingTV          0\n",
       "StreamingMovies      0\n",
       "Contract             0\n",
       "PaperlessBilling     0\n",
       "PaymentMethod        0\n",
       "MonthlyCharges       0\n",
       "TotalCharges        11\n",
       "Churn                0\n",
       "tenure_buc           0\n",
       "dtype: int64"
      ]
     },
     "execution_count": 21,
     "metadata": {},
     "output_type": "execute_result"
    }
   ],
   "source": [
    "# Checking for missing values\n",
    "T.isna().sum()"
   ]
  },
  {
   "cell_type": "markdown",
   "metadata": {},
   "source": [
    "## Splitting into Test and Train"
   ]
  },
  {
   "cell_type": "code",
   "execution_count": 22,
   "metadata": {},
   "outputs": [],
   "source": [
    "# Converting Yes and No in Churn to categories of 1 and 0 resp.\n",
    "def target(row):\n",
    "    if row['Churn']=='Yes':\n",
    "        return 1\n",
    "    else:\n",
    "        return 0\n",
    "T['Churn_target'] = T.apply(target, axis=1)"
   ]
  },
  {
   "cell_type": "code",
   "execution_count": 23,
   "metadata": {},
   "outputs": [
    {
     "data": {
      "text/html": [
       "<div>\n",
       "<style scoped>\n",
       "    .dataframe tbody tr th:only-of-type {\n",
       "        vertical-align: middle;\n",
       "    }\n",
       "\n",
       "    .dataframe tbody tr th {\n",
       "        vertical-align: top;\n",
       "    }\n",
       "\n",
       "    .dataframe thead th {\n",
       "        text-align: right;\n",
       "    }\n",
       "</style>\n",
       "<table border=\"1\" class=\"dataframe\">\n",
       "  <thead>\n",
       "    <tr style=\"text-align: right;\">\n",
       "      <th></th>\n",
       "      <th>customerID</th>\n",
       "      <th>gender</th>\n",
       "      <th>SeniorCitizen</th>\n",
       "      <th>Partner</th>\n",
       "      <th>Dependents</th>\n",
       "      <th>tenure</th>\n",
       "      <th>PhoneService</th>\n",
       "      <th>MultipleLines</th>\n",
       "      <th>InternetService</th>\n",
       "      <th>OnlineSecurity</th>\n",
       "      <th>...</th>\n",
       "      <th>StreamingTV</th>\n",
       "      <th>StreamingMovies</th>\n",
       "      <th>Contract</th>\n",
       "      <th>PaperlessBilling</th>\n",
       "      <th>PaymentMethod</th>\n",
       "      <th>MonthlyCharges</th>\n",
       "      <th>TotalCharges</th>\n",
       "      <th>Churn</th>\n",
       "      <th>tenure_buc</th>\n",
       "      <th>Churn_target</th>\n",
       "    </tr>\n",
       "  </thead>\n",
       "  <tbody>\n",
       "    <tr>\n",
       "      <th>0</th>\n",
       "      <td>7590-VHVEG</td>\n",
       "      <td>Female</td>\n",
       "      <td>0</td>\n",
       "      <td>Yes</td>\n",
       "      <td>No</td>\n",
       "      <td>1</td>\n",
       "      <td>No</td>\n",
       "      <td>No</td>\n",
       "      <td>DSL</td>\n",
       "      <td>No</td>\n",
       "      <td>...</td>\n",
       "      <td>No</td>\n",
       "      <td>No</td>\n",
       "      <td>Month-to-month</td>\n",
       "      <td>Yes</td>\n",
       "      <td>Electronic check</td>\n",
       "      <td>29.85</td>\n",
       "      <td>29.85</td>\n",
       "      <td>No</td>\n",
       "      <td>&lt;6 months</td>\n",
       "      <td>0</td>\n",
       "    </tr>\n",
       "    <tr>\n",
       "      <th>1</th>\n",
       "      <td>5575-GNVDE</td>\n",
       "      <td>Male</td>\n",
       "      <td>0</td>\n",
       "      <td>No</td>\n",
       "      <td>No</td>\n",
       "      <td>34</td>\n",
       "      <td>Yes</td>\n",
       "      <td>No</td>\n",
       "      <td>DSL</td>\n",
       "      <td>Yes</td>\n",
       "      <td>...</td>\n",
       "      <td>No</td>\n",
       "      <td>No</td>\n",
       "      <td>One year</td>\n",
       "      <td>No</td>\n",
       "      <td>Mailed check</td>\n",
       "      <td>56.95</td>\n",
       "      <td>1889.50</td>\n",
       "      <td>No</td>\n",
       "      <td>2-3 Years</td>\n",
       "      <td>0</td>\n",
       "    </tr>\n",
       "    <tr>\n",
       "      <th>2</th>\n",
       "      <td>3668-QPYBK</td>\n",
       "      <td>Male</td>\n",
       "      <td>0</td>\n",
       "      <td>No</td>\n",
       "      <td>No</td>\n",
       "      <td>2</td>\n",
       "      <td>Yes</td>\n",
       "      <td>No</td>\n",
       "      <td>DSL</td>\n",
       "      <td>Yes</td>\n",
       "      <td>...</td>\n",
       "      <td>No</td>\n",
       "      <td>No</td>\n",
       "      <td>Month-to-month</td>\n",
       "      <td>Yes</td>\n",
       "      <td>Mailed check</td>\n",
       "      <td>53.85</td>\n",
       "      <td>108.15</td>\n",
       "      <td>Yes</td>\n",
       "      <td>&lt;6 months</td>\n",
       "      <td>1</td>\n",
       "    </tr>\n",
       "    <tr>\n",
       "      <th>3</th>\n",
       "      <td>7795-CFOCW</td>\n",
       "      <td>Male</td>\n",
       "      <td>0</td>\n",
       "      <td>No</td>\n",
       "      <td>No</td>\n",
       "      <td>45</td>\n",
       "      <td>No</td>\n",
       "      <td>No</td>\n",
       "      <td>DSL</td>\n",
       "      <td>Yes</td>\n",
       "      <td>...</td>\n",
       "      <td>No</td>\n",
       "      <td>No</td>\n",
       "      <td>One year</td>\n",
       "      <td>No</td>\n",
       "      <td>Bank transfer (automatic)</td>\n",
       "      <td>42.30</td>\n",
       "      <td>1840.75</td>\n",
       "      <td>No</td>\n",
       "      <td>3-4 Years</td>\n",
       "      <td>0</td>\n",
       "    </tr>\n",
       "    <tr>\n",
       "      <th>4</th>\n",
       "      <td>9237-HQITU</td>\n",
       "      <td>Female</td>\n",
       "      <td>0</td>\n",
       "      <td>No</td>\n",
       "      <td>No</td>\n",
       "      <td>2</td>\n",
       "      <td>Yes</td>\n",
       "      <td>No</td>\n",
       "      <td>Fiber optic</td>\n",
       "      <td>No</td>\n",
       "      <td>...</td>\n",
       "      <td>No</td>\n",
       "      <td>No</td>\n",
       "      <td>Month-to-month</td>\n",
       "      <td>Yes</td>\n",
       "      <td>Electronic check</td>\n",
       "      <td>70.70</td>\n",
       "      <td>151.65</td>\n",
       "      <td>Yes</td>\n",
       "      <td>&lt;6 months</td>\n",
       "      <td>1</td>\n",
       "    </tr>\n",
       "  </tbody>\n",
       "</table>\n",
       "<p>5 rows × 23 columns</p>\n",
       "</div>"
      ],
      "text/plain": [
       "   customerID  gender SeniorCitizen Partner Dependents  tenure PhoneService  \\\n",
       "0  7590-VHVEG  Female             0     Yes         No       1           No   \n",
       "1  5575-GNVDE    Male             0      No         No      34          Yes   \n",
       "2  3668-QPYBK    Male             0      No         No       2          Yes   \n",
       "3  7795-CFOCW    Male             0      No         No      45           No   \n",
       "4  9237-HQITU  Female             0      No         No       2          Yes   \n",
       "\n",
       "  MultipleLines InternetService OnlineSecurity  ... StreamingTV  \\\n",
       "0            No             DSL             No  ...          No   \n",
       "1            No             DSL            Yes  ...          No   \n",
       "2            No             DSL            Yes  ...          No   \n",
       "3            No             DSL            Yes  ...          No   \n",
       "4            No     Fiber optic             No  ...          No   \n",
       "\n",
       "  StreamingMovies        Contract PaperlessBilling              PaymentMethod  \\\n",
       "0              No  Month-to-month              Yes           Electronic check   \n",
       "1              No        One year               No               Mailed check   \n",
       "2              No  Month-to-month              Yes               Mailed check   \n",
       "3              No        One year               No  Bank transfer (automatic)   \n",
       "4              No  Month-to-month              Yes           Electronic check   \n",
       "\n",
       "  MonthlyCharges TotalCharges Churn  tenure_buc  Churn_target  \n",
       "0          29.85        29.85    No   <6 months             0  \n",
       "1          56.95      1889.50    No   2-3 Years             0  \n",
       "2          53.85       108.15   Yes   <6 months             1  \n",
       "3          42.30      1840.75    No   3-4 Years             0  \n",
       "4          70.70       151.65   Yes   <6 months             1  \n",
       "\n",
       "[5 rows x 23 columns]"
      ]
     },
     "execution_count": 23,
     "metadata": {},
     "output_type": "execute_result"
    }
   ],
   "source": [
    "T.head()"
   ]
  },
  {
   "cell_type": "code",
   "execution_count": 24,
   "metadata": {},
   "outputs": [],
   "source": [
    "# Splitting the data into Train and Test using Stratified Sampling\n",
    "from sklearn.model_selection import train_test_split\n",
    "X = T.drop(['Churn','Churn_target'], axis=1)  # Getting the independent variables\n",
    "y = T['Churn_target']                         # Getting the dependent variable\n",
    "\n",
    "# Splitting the data into 25% test and 75% train using stratified sampling\n",
    "X_train, X_test, y_train, y_test = train_test_split(X, y, test_size=0.25, random_state=123, stratify = y) "
   ]
  },
  {
   "cell_type": "code",
   "execution_count": 25,
   "metadata": {},
   "outputs": [
    {
     "name": "stdout",
     "output_type": "stream",
     "text": [
      "0    0.73457\n",
      "1    0.26543\n",
      "Name: Churn_target, dtype: float64\n",
      "0    0.73481\n",
      "1    0.26519\n",
      "Name: Churn_target, dtype: float64\n"
     ]
    }
   ],
   "source": [
    "# Looking at the proprtion of 1 and 0 in target variable in both Train and Test\n",
    "print(y_train.value_counts(normalize=True))\n",
    "print(y_test.value_counts(normalize=True))"
   ]
  },
  {
   "cell_type": "markdown",
   "metadata": {},
   "source": [
    "## Treating Missing Values"
   ]
  },
  {
   "cell_type": "code",
   "execution_count": 26,
   "metadata": {},
   "outputs": [],
   "source": [
    "# Separating out the categorical and numerical variables\n",
    "cat_attr = list(X_train.select_dtypes(include=['category','object']).columns)\n",
    "num_attr = list(X_train.select_dtypes(include=['number']).columns)"
   ]
  },
  {
   "cell_type": "code",
   "execution_count": 27,
   "metadata": {},
   "outputs": [
    {
     "data": {
      "text/plain": [
       "(['customerID',\n",
       "  'gender',\n",
       "  'SeniorCitizen',\n",
       "  'Partner',\n",
       "  'Dependents',\n",
       "  'PhoneService',\n",
       "  'MultipleLines',\n",
       "  'InternetService',\n",
       "  'OnlineSecurity',\n",
       "  'OnlineBackup',\n",
       "  'DeviceProtection',\n",
       "  'TechSupport',\n",
       "  'StreamingTV',\n",
       "  'StreamingMovies',\n",
       "  'Contract',\n",
       "  'PaperlessBilling',\n",
       "  'PaymentMethod',\n",
       "  'tenure_buc'],\n",
       " ['tenure', 'MonthlyCharges', 'TotalCharges'])"
      ]
     },
     "execution_count": 27,
     "metadata": {},
     "output_type": "execute_result"
    }
   ],
   "source": [
    "cat_attr, num_attr"
   ]
  },
  {
   "cell_type": "code",
   "execution_count": 28,
   "metadata": {},
   "outputs": [
    {
     "name": "stderr",
     "output_type": "stream",
     "text": [
      "<ipython-input-28-42c17e6a4822>:6: SettingWithCopyWarning: \n",
      "A value is trying to be set on a copy of a slice from a DataFrame.\n",
      "Try using .loc[row_indexer,col_indexer] = value instead\n",
      "\n",
      "See the caveats in the documentation: https://pandas.pydata.org/pandas-docs/stable/user_guide/indexing.html#returning-a-view-versus-a-copy\n",
      "  X_train[num_attr] = imputer.transform(X_train[num_attr])\n",
      "/opt/anaconda3/lib/python3.8/site-packages/pandas/core/indexing.py:1738: SettingWithCopyWarning: \n",
      "A value is trying to be set on a copy of a slice from a DataFrame.\n",
      "Try using .loc[row_indexer,col_indexer] = value instead\n",
      "\n",
      "See the caveats in the documentation: https://pandas.pydata.org/pandas-docs/stable/user_guide/indexing.html#returning-a-view-versus-a-copy\n",
      "  self._setitem_single_column(loc, value[:, i].tolist(), pi)\n",
      "<ipython-input-28-42c17e6a4822>:7: SettingWithCopyWarning: \n",
      "A value is trying to be set on a copy of a slice from a DataFrame.\n",
      "Try using .loc[row_indexer,col_indexer] = value instead\n",
      "\n",
      "See the caveats in the documentation: https://pandas.pydata.org/pandas-docs/stable/user_guide/indexing.html#returning-a-view-versus-a-copy\n",
      "  X_test[num_attr] = imputer.transform(X_test[num_attr])\n",
      "/opt/anaconda3/lib/python3.8/site-packages/pandas/core/indexing.py:1738: SettingWithCopyWarning: \n",
      "A value is trying to be set on a copy of a slice from a DataFrame.\n",
      "Try using .loc[row_indexer,col_indexer] = value instead\n",
      "\n",
      "See the caveats in the documentation: https://pandas.pydata.org/pandas-docs/stable/user_guide/indexing.html#returning-a-view-versus-a-copy\n",
      "  self._setitem_single_column(loc, value[:, i].tolist(), pi)\n"
     ]
    }
   ],
   "source": [
    "# Imputing the missing values\n",
    "from sklearn.impute import SimpleImputer\n",
    "\n",
    "imputer = SimpleImputer(strategy='median')  # Initializing Median imputer\n",
    "imputer = imputer.fit(X_train[num_attr])    # Calculating the median of each numerical variable\n",
    "\n",
    "X_train[num_attr] = imputer.transform(X_train[num_attr])  # Imputing missing values in train by above calulated median\n",
    "X_test[num_attr] = imputer.transform(X_test[num_attr])    # Imputing missing values in test by above calulated median"
   ]
  },
  {
   "cell_type": "code",
   "execution_count": 29,
   "metadata": {},
   "outputs": [
    {
     "name": "stdout",
     "output_type": "stream",
     "text": [
      "customerID          0\n",
      "gender              0\n",
      "SeniorCitizen       0\n",
      "Partner             0\n",
      "Dependents          0\n",
      "tenure              0\n",
      "PhoneService        0\n",
      "MultipleLines       0\n",
      "InternetService     0\n",
      "OnlineSecurity      0\n",
      "OnlineBackup        0\n",
      "DeviceProtection    0\n",
      "TechSupport         0\n",
      "StreamingTV         0\n",
      "StreamingMovies     0\n",
      "Contract            0\n",
      "PaperlessBilling    0\n",
      "PaymentMethod       0\n",
      "MonthlyCharges      0\n",
      "TotalCharges        0\n",
      "tenure_buc          0\n",
      "dtype: int64 customerID          0\n",
      "gender              0\n",
      "SeniorCitizen       0\n",
      "Partner             0\n",
      "Dependents          0\n",
      "tenure              0\n",
      "PhoneService        0\n",
      "MultipleLines       0\n",
      "InternetService     0\n",
      "OnlineSecurity      0\n",
      "OnlineBackup        0\n",
      "DeviceProtection    0\n",
      "TechSupport         0\n",
      "StreamingTV         0\n",
      "StreamingMovies     0\n",
      "Contract            0\n",
      "PaperlessBilling    0\n",
      "PaymentMethod       0\n",
      "MonthlyCharges      0\n",
      "TotalCharges        0\n",
      "tenure_buc          0\n",
      "dtype: int64\n"
     ]
    }
   ],
   "source": [
    "# Checking missing values in train and test\n",
    "print(X_train.isna().sum(), X_test.isna().sum())"
   ]
  },
  {
   "cell_type": "markdown",
   "metadata": {},
   "source": [
    "### Removing Irrelavant Columns"
   ]
  },
  {
   "cell_type": "code",
   "execution_count": 30,
   "metadata": {},
   "outputs": [],
   "source": [
    "# Removing customerid column\n",
    "X_train = X_train.drop(['customerID'], axis=1)\n",
    "X_test = X_test.drop(['customerID'], axis=1)"
   ]
  },
  {
   "cell_type": "markdown",
   "metadata": {},
   "source": [
    "## Standardizing the numeric Data"
   ]
  },
  {
   "cell_type": "code",
   "execution_count": 31,
   "metadata": {},
   "outputs": [],
   "source": [
    "from sklearn.preprocessing import StandardScaler     # Importing standard scalar\n",
    "\n",
    "scaler = StandardScaler()      # Initializing scaler\n",
    "scaler.fit(X_train[num_attr])  # Calculating Z-value for all numeric variables\n",
    " \n",
    "# transforming train data into Standard Normal Distribution\n",
    "X_train_std = pd.DataFrame(scaler.transform(X_train[num_attr]), columns=num_attr)  \n",
    "\n",
    "# transforming test data into Standard Normal Distribution\n",
    "X_test_std = pd.DataFrame(scaler.transform(X_test[num_attr]), columns=num_attr)    "
   ]
  },
  {
   "cell_type": "code",
   "execution_count": 32,
   "metadata": {},
   "outputs": [
    {
     "data": {
      "text/plain": [
       "[1.2153179720527557e-16, 1.0000946745564259]"
      ]
     },
     "execution_count": 32,
     "metadata": {},
     "output_type": "execute_result"
    }
   ],
   "source": [
    "# Checking the train data for standard normal distribution\n",
    "[X_train_std['MonthlyCharges'].mean(), X_train_std['MonthlyCharges'].std()]"
   ]
  },
  {
   "cell_type": "markdown",
   "metadata": {},
   "source": [
    "## One - Hot Encoding of Categorical Data"
   ]
  },
  {
   "cell_type": "code",
   "execution_count": 33,
   "metadata": {},
   "outputs": [
    {
     "data": {
      "text/plain": [
       "['gender',\n",
       " 'SeniorCitizen',\n",
       " 'Partner',\n",
       " 'Dependents',\n",
       " 'PhoneService',\n",
       " 'MultipleLines',\n",
       " 'InternetService',\n",
       " 'OnlineSecurity',\n",
       " 'OnlineBackup',\n",
       " 'DeviceProtection',\n",
       " 'TechSupport',\n",
       " 'StreamingTV',\n",
       " 'StreamingMovies',\n",
       " 'Contract',\n",
       " 'PaperlessBilling',\n",
       " 'PaymentMethod',\n",
       " 'tenure_buc']"
      ]
     },
     "execution_count": 33,
     "metadata": {},
     "output_type": "execute_result"
    }
   ],
   "source": [
    "# Making a list of all categorical columns\n",
    "cat_attr = list(X_train.select_dtypes(include=['category','object']).columns)\n",
    "cat_attr"
   ]
  },
  {
   "cell_type": "code",
   "execution_count": 34,
   "metadata": {},
   "outputs": [],
   "source": [
    "# Importing OneHotEncoder\n",
    "from sklearn.preprocessing import StandardScaler, OneHotEncoder"
   ]
  },
  {
   "cell_type": "code",
   "execution_count": 35,
   "metadata": {},
   "outputs": [
    {
     "name": "stdout",
     "output_type": "stream",
     "text": [
      "['gender_Female', 'gender_Male', 'SeniorCitizen_0', 'SeniorCitizen_1', 'Partner_No', 'Partner_Yes', 'Dependents_No', 'Dependents_Yes', 'PhoneService_No', 'PhoneService_Yes', 'MultipleLines_No', 'MultipleLines_Yes', 'InternetService_DSL', 'InternetService_Fiber optic', 'InternetService_No', 'OnlineSecurity_No', 'OnlineSecurity_Yes', 'OnlineBackup_No', 'OnlineBackup_Yes', 'DeviceProtection_No', 'DeviceProtection_Yes', 'TechSupport_No', 'TechSupport_Yes', 'StreamingTV_No', 'StreamingTV_Yes', 'StreamingMovies_No', 'StreamingMovies_Yes', 'Contract_Month-to-month', 'Contract_One year', 'Contract_Two year', 'PaperlessBilling_No', 'PaperlessBilling_Yes', 'PaymentMethod_Bank transfer (automatic)', 'PaymentMethod_Credit card (automatic)', 'PaymentMethod_Electronic check', 'PaymentMethod_Mailed check', 'tenure_buc_1-2 Years', 'tenure_buc_2-3 Years', 'tenure_buc_3-4 Years', 'tenure_buc_4-5 Years', 'tenure_buc_5-6 Years', 'tenure_buc_6 Months - 1 Year', 'tenure_buc_<6 months', 'tenure_buc_>=6 Years']\n"
     ]
    }
   ],
   "source": [
    "ohe = OneHotEncoder(handle_unknown='error')   # Initializing OHE\n",
    "\n",
    "ohe.fit(X_train[cat_attr])                    # Fitting OHE on X_train\n",
    "\n",
    "columns_ohe = list(ohe.get_feature_names(cat_attr))     # Creating a list of One hot encoded varibales\n",
    "print(columns_ohe)\n",
    "\n",
    "X_train_cat = ohe.transform(X_train[cat_attr])          # Transforing the X_train to OHE variables\n",
    "X_test_cat = ohe.transform(X_test[cat_attr])            # Transforing the X_test to OHE variables\n",
    "\n",
    "# Converting sparse dataframe to dense\n",
    "X_train_cat = pd.DataFrame(X_train_cat.todense(), columns=columns_ohe)   \n",
    "X_test_cat = pd.DataFrame(X_test_cat.todense(), columns=columns_ohe)"
   ]
  },
  {
   "cell_type": "code",
   "execution_count": 36,
   "metadata": {},
   "outputs": [],
   "source": [
    "# Concatenating the standardized numeric varibles with the OneHotEncoded categorical variables to form final dataset\n",
    "X_train_preprocessed = pd.concat([X_train_std, X_train_cat], axis=1)\n",
    "X_test_preprocessed = pd.concat([X_test_std, X_test_cat], axis=1)"
   ]
  },
  {
   "cell_type": "code",
   "execution_count": 37,
   "metadata": {},
   "outputs": [
    {
     "data": {
      "text/plain": [
       "[(5282, 47), (1761, 47)]"
      ]
     },
     "execution_count": 37,
     "metadata": {},
     "output_type": "execute_result"
    }
   ],
   "source": [
    "[X_train_preprocessed.shape, X_test_preprocessed.shape]"
   ]
  },
  {
   "cell_type": "markdown",
   "metadata": {},
   "source": [
    "## Modelling"
   ]
  },
  {
   "cell_type": "code",
   "execution_count": 38,
   "metadata": {},
   "outputs": [],
   "source": [
    "from sklearn.model_selection import cross_validate\n",
    "from sklearn.model_selection import RandomizedSearchCV\n",
    "from sklearn.model_selection import StratifiedKFold\n",
    "from sklearn.ensemble import RandomForestClassifier\n",
    "from sklearn.metrics import classification_report\n",
    "import sklearn\n",
    "from sklearn import linear_model\n",
    "from sklearn import preprocessing\n",
    "from sklearn import metrics\n",
    "from sklearn.preprocessing import scale\n",
    "from sklearn.linear_model import LogisticRegression\n",
    "from sklearn.model_selection import train_test_split\n",
    "from pandas import Series, DataFrame\n",
    "from sklearn.preprocessing import StandardScaler\n",
    "import scipy\n",
    "from scipy.stats import spearmanr"
   ]
  },
  {
   "cell_type": "markdown",
   "metadata": {},
   "source": [
    "### 1. Logistic Regression"
   ]
  },
  {
   "cell_type": "code",
   "execution_count": 39,
   "metadata": {},
   "outputs": [
    {
     "name": "stderr",
     "output_type": "stream",
     "text": [
      "/opt/anaconda3/lib/python3.8/site-packages/sklearn/linear_model/_logistic.py:763: ConvergenceWarning: lbfgs failed to converge (status=1):\n",
      "STOP: TOTAL NO. of ITERATIONS REACHED LIMIT.\n",
      "\n",
      "Increase the number of iterations (max_iter) or scale the data as shown in:\n",
      "    https://scikit-learn.org/stable/modules/preprocessing.html\n",
      "Please also refer to the documentation for alternative solver options:\n",
      "    https://scikit-learn.org/stable/modules/linear_model.html#logistic-regression\n",
      "  n_iter_i = _check_optimize_result(\n"
     ]
    },
    {
     "data": {
      "text/plain": [
       "LogisticRegression()"
      ]
     },
     "execution_count": 39,
     "metadata": {},
     "output_type": "execute_result"
    }
   ],
   "source": [
    "LR = LogisticRegression()\n",
    "LR.fit(X_train_preprocessed, y_train)"
   ]
  },
  {
   "cell_type": "code",
   "execution_count": 40,
   "metadata": {},
   "outputs": [
    {
     "name": "stdout",
     "output_type": "stream",
     "text": [
      "              precision    recall  f1-score   support\n",
      "\n",
      "           0       0.84      0.91      0.87      3880\n",
      "           1       0.68      0.54      0.60      1402\n",
      "\n",
      "    accuracy                           0.81      5282\n",
      "   macro avg       0.76      0.72      0.74      5282\n",
      "weighted avg       0.80      0.81      0.80      5282\n",
      "\n"
     ]
    }
   ],
   "source": [
    "# Prediction and Classification Report on Train set\n",
    "y_pred_train_LR = LR.predict(X_train_preprocessed)\n",
    "print(classification_report(y_train, y_pred_train_LR))"
   ]
  },
  {
   "cell_type": "code",
   "execution_count": 41,
   "metadata": {},
   "outputs": [
    {
     "name": "stdout",
     "output_type": "stream",
     "text": [
      "              precision    recall  f1-score   support\n",
      "\n",
      "           0       0.83      0.91      0.87      1294\n",
      "           1       0.66      0.48      0.56       467\n",
      "\n",
      "    accuracy                           0.80      1761\n",
      "   macro avg       0.75      0.70      0.71      1761\n",
      "weighted avg       0.79      0.80      0.79      1761\n",
      "\n"
     ]
    }
   ],
   "source": [
    "# Prediction and Classification Report on Test set\n",
    "y_pred_test_LR = LR.predict(X_test_preprocessed)\n",
    "print(classification_report(y_test, y_pred_test_LR))"
   ]
  },
  {
   "cell_type": "markdown",
   "metadata": {},
   "source": [
    "#### Taking the weighted avg metrics we have \n",
    "#### Precision = 79%\n",
    "#### Recall = 80%\n",
    "#### F1 = 79%"
   ]
  },
  {
   "cell_type": "markdown",
   "metadata": {},
   "source": [
    "### 2. Decision Tree"
   ]
  },
  {
   "cell_type": "code",
   "execution_count": 54,
   "metadata": {},
   "outputs": [],
   "source": [
    "# Importing the Decision Tree library from Sklearn\n",
    "from sklearn import tree"
   ]
  },
  {
   "cell_type": "code",
   "execution_count": 55,
   "metadata": {},
   "outputs": [],
   "source": [
    "DT = tree.DecisionTreeClassifier()     # Initializing DT"
   ]
  },
  {
   "cell_type": "code",
   "execution_count": 56,
   "metadata": {},
   "outputs": [
    {
     "data": {
      "text/plain": [
       "DecisionTreeClassifier()"
      ]
     },
     "execution_count": 56,
     "metadata": {},
     "output_type": "execute_result"
    }
   ],
   "source": [
    "DT.fit(X_train_preprocessed,y_train)   # Fitting DT on Train data"
   ]
  },
  {
   "cell_type": "code",
   "execution_count": 57,
   "metadata": {},
   "outputs": [
    {
     "name": "stdout",
     "output_type": "stream",
     "text": [
      "              precision    recall  f1-score   support\n",
      "\n",
      "           0       1.00      1.00      1.00      3880\n",
      "           1       1.00      0.99      1.00      1402\n",
      "\n",
      "    accuracy                           1.00      5282\n",
      "   macro avg       1.00      1.00      1.00      5282\n",
      "weighted avg       1.00      1.00      1.00      5282\n",
      "\n"
     ]
    }
   ],
   "source": [
    "# Prediction and Classification Report on Train set\n",
    "y_pred_train_DT = DT.predict(X_train_preprocessed)\n",
    "print(classification_report(y_train, y_pred_train_DT))"
   ]
  },
  {
   "cell_type": "code",
   "execution_count": 58,
   "metadata": {},
   "outputs": [
    {
     "name": "stdout",
     "output_type": "stream",
     "text": [
      "              precision    recall  f1-score   support\n",
      "\n",
      "           0       0.80      0.81      0.80      1294\n",
      "           1       0.46      0.45      0.45       467\n",
      "\n",
      "    accuracy                           0.71      1761\n",
      "   macro avg       0.63      0.63      0.63      1761\n",
      "weighted avg       0.71      0.71      0.71      1761\n",
      "\n"
     ]
    }
   ],
   "source": [
    "# Prediction and Classification Report on Train set\n",
    "y_pred_test_DT = DT.predict(X_test_preprocessed)\n",
    "print(classification_report(y_test, y_pred_test_DT))"
   ]
  },
  {
   "cell_type": "markdown",
   "metadata": {},
   "source": [
    "#### Taking the weighted avg metrics we have \n",
    "#### Precision = 71%\n",
    "#### Recall = 71%\n",
    "#### F1 = 71%\n",
    "\n",
    "#### There is also a huge difference in train and test metrics leading to overfitting"
   ]
  },
  {
   "cell_type": "code",
   "execution_count": 114,
   "metadata": {},
   "outputs": [],
   "source": [
    "# Hyperparameter Tuning\n",
    "\n",
    "# Setting the hyperparameters\n",
    "params={\n",
    " \"criterion\"        : ['gini','entropy'],\n",
    " \"max_depth\"        : [2,4,8,10],\n",
    " \"min_samples_leaf\" : [2,4,8,10] \n",
    "}\n"
   ]
  },
  {
   "cell_type": "code",
   "execution_count": 115,
   "metadata": {},
   "outputs": [],
   "source": [
    "# Random search on parameters\n",
    "model = tree.DecisionTreeClassifier()\n",
    "\n",
    "# Initializing Random models with different combinatons of hyperparameters with objective being F1 score\n",
    "random_search=RandomizedSearchCV(model,param_distributions=params,n_iter=5,scoring='f1',n_jobs=-1,cv=StratifiedKFold(10),verbose=3)"
   ]
  },
  {
   "cell_type": "code",
   "execution_count": 116,
   "metadata": {},
   "outputs": [
    {
     "name": "stdout",
     "output_type": "stream",
     "text": [
      "Fitting 10 folds for each of 5 candidates, totalling 50 fits\n",
      "{'min_samples_leaf': 10, 'max_depth': 2, 'criterion': 'gini'}\n",
      "DecisionTreeClassifier(max_depth=2, min_samples_leaf=10)\n"
     ]
    }
   ],
   "source": [
    "# Running the Random Search models on train data\n",
    "random_search.fit(X_train_preprocessed, y_train)\n",
    "print(random_search.best_params_)      # Getting the best parameters from all models run\n",
    "print(random_search.best_estimator_)   # Getting the best model from all models"
   ]
  },
  {
   "cell_type": "code",
   "execution_count": 117,
   "metadata": {},
   "outputs": [
    {
     "data": {
      "text/plain": [
       "DecisionTreeClassifier(max_depth=2, min_samples_leaf=10)"
      ]
     },
     "execution_count": 117,
     "metadata": {},
     "output_type": "execute_result"
    }
   ],
   "source": [
    "# Running the DT with best parameters\n",
    "DT_tuned = tree.DecisionTreeClassifier(min_samples_leaf = 10, max_depth = 2, criterion = 'gini')\n",
    "DT_tuned.fit(X_train_preprocessed,y_train)"
   ]
  },
  {
   "cell_type": "code",
   "execution_count": 118,
   "metadata": {},
   "outputs": [
    {
     "name": "stdout",
     "output_type": "stream",
     "text": [
      "              precision    recall  f1-score   support\n",
      "\n",
      "           0       0.86      0.81      0.84      3880\n",
      "           1       0.55      0.63      0.59      1402\n",
      "\n",
      "    accuracy                           0.77      5282\n",
      "   macro avg       0.71      0.72      0.71      5282\n",
      "weighted avg       0.78      0.77      0.77      5282\n",
      "\n"
     ]
    }
   ],
   "source": [
    "# Prediction and Classification Report on Train set\n",
    "y_pred_train_DTtuned = DT_tuned.predict(X_train_preprocessed)\n",
    "print(classification_report(y_train, y_pred_train_DTtuned))"
   ]
  },
  {
   "cell_type": "code",
   "execution_count": 119,
   "metadata": {},
   "outputs": [
    {
     "name": "stdout",
     "output_type": "stream",
     "text": [
      "              precision    recall  f1-score   support\n",
      "\n",
      "           0       0.85      0.81      0.83      1294\n",
      "           1       0.53      0.59      0.56       467\n",
      "\n",
      "    accuracy                           0.75      1761\n",
      "   macro avg       0.69      0.70      0.69      1761\n",
      "weighted avg       0.76      0.75      0.76      1761\n",
      "\n"
     ]
    }
   ],
   "source": [
    "y_pred_test_DTtuned = DT_tuned.predict(X_test_preprocessed)\n",
    "print(classification_report(y_test, y_pred_test_DTtuned))"
   ]
  },
  {
   "cell_type": "markdown",
   "metadata": {},
   "source": [
    "#### Taking the weighted avg metrics we have \n",
    "#### Precision = 76%\n",
    "#### Recall = 75%\n",
    "#### F1 = 76%\n",
    "\n",
    "#### The performance of DT improved after hyperparameter tuning with F1 going up from 71% to 76%, also \n",
    "#### hyperparameter tuning reduced removed overfitting"
   ]
  },
  {
   "cell_type": "markdown",
   "metadata": {},
   "source": [
    "### 3. Random Forest"
   ]
  },
  {
   "cell_type": "code",
   "execution_count": 42,
   "metadata": {},
   "outputs": [
    {
     "data": {
      "text/plain": [
       "RandomForestClassifier()"
      ]
     },
     "execution_count": 42,
     "metadata": {},
     "output_type": "execute_result"
    }
   ],
   "source": [
    "# Fitting the RF model\n",
    "RF = RandomForestClassifier()\n",
    "RF.fit(X_train_preprocessed,y_train)"
   ]
  },
  {
   "cell_type": "code",
   "execution_count": 43,
   "metadata": {},
   "outputs": [
    {
     "name": "stdout",
     "output_type": "stream",
     "text": [
      "              precision    recall  f1-score   support\n",
      "\n",
      "           0       1.00      1.00      1.00      3880\n",
      "           1       1.00      1.00      1.00      1402\n",
      "\n",
      "    accuracy                           1.00      5282\n",
      "   macro avg       1.00      1.00      1.00      5282\n",
      "weighted avg       1.00      1.00      1.00      5282\n",
      "\n"
     ]
    }
   ],
   "source": [
    "# Prediction and Classification Report on Train set\n",
    "y_pred_train_RF = RF.predict(X_train_preprocessed)\n",
    "print(classification_report(y_train, y_pred_train_RF))"
   ]
  },
  {
   "cell_type": "code",
   "execution_count": 44,
   "metadata": {},
   "outputs": [
    {
     "name": "stdout",
     "output_type": "stream",
     "text": [
      "              precision    recall  f1-score   support\n",
      "\n",
      "           0       0.83      0.89      0.86      1294\n",
      "           1       0.63      0.49      0.55       467\n",
      "\n",
      "    accuracy                           0.79      1761\n",
      "   macro avg       0.73      0.69      0.71      1761\n",
      "weighted avg       0.78      0.79      0.78      1761\n",
      "\n"
     ]
    }
   ],
   "source": [
    "# Prediction and Classification Report on Test set\n",
    "y_pred_test_RF = RF.predict(X_test_preprocessed)\n",
    "print(classification_report(y_test, y_pred_test_RF))"
   ]
  },
  {
   "cell_type": "markdown",
   "metadata": {},
   "source": [
    "#### Taking the weighted avg metrics we have \n",
    "#### Precision = 78%\n",
    "#### Recall = 79%\n",
    "#### F1 = 78%\n",
    "\n",
    "#### There is also a huge difference in train and test metrics leading to overfitting"
   ]
  },
  {
   "cell_type": "code",
   "execution_count": 124,
   "metadata": {},
   "outputs": [],
   "source": [
    "# Hyperparameter tuning\n",
    "max_depth = list(np.arange(5,100,1))     # Iterating on max_depth from 5 to 100 in intervals of 1\n",
    "min_samples = list(np.arange(2,100,1))   # Iterating on min_samples from 2 to 100 in intervals of 1\n",
    "\n",
    "n_estimators = list(np.arange(100, 2500, 50))  # Iterating on no: of estimators (trees) from 100 to 2500 in intervals of 50\n",
    "\n",
    "# Initializing the hyperparameters\n",
    "params={\n",
    " \"n_estimators\"     : n_estimators,\n",
    " \"criterion\"        : ['gini','entropy'],\n",
    " \"max_depth\"        : max_depth,\n",
    " \"min_samples_split\" : min_samples,\n",
    " \"min_samples_leaf\" : min_samples,\n",
    " \"max_features\"     : ['auto', 'sqrt', 'log2']    # max_features is selecting a subset of independent variables by using this formula\n",
    "    \n",
    "}"
   ]
  },
  {
   "cell_type": "code",
   "execution_count": 130,
   "metadata": {},
   "outputs": [],
   "source": [
    "# Random search on parameters\n",
    "model = RandomForestClassifier()\n",
    "\n",
    "# Initializing Random models with different combinatons of hyperparameters with objective being F1 score\n",
    "random_search=RandomizedSearchCV(model,param_distributions=params,n_iter=20,scoring='f1',n_jobs=-1,cv=StratifiedKFold(10),verbose=3)"
   ]
  },
  {
   "cell_type": "code",
   "execution_count": 131,
   "metadata": {},
   "outputs": [
    {
     "name": "stdout",
     "output_type": "stream",
     "text": [
      "Fitting 10 folds for each of 20 candidates, totalling 200 fits\n",
      "{'n_estimators': 1700, 'min_samples_split': 35, 'min_samples_leaf': 6, 'max_features': 'log2', 'max_depth': 47, 'criterion': 'entropy'}\n",
      "RandomForestClassifier(criterion='entropy', max_depth=47, max_features='log2',\n",
      "                       min_samples_leaf=6, min_samples_split=35,\n",
      "                       n_estimators=1700)\n"
     ]
    }
   ],
   "source": [
    "# Running the Random Search models on train data\n",
    "random_search.fit(X_train_preprocessed, y_train)\n",
    "print(random_search.best_params_)\n",
    "print(random_search.best_estimator_)"
   ]
  },
  {
   "cell_type": "code",
   "execution_count": 135,
   "metadata": {},
   "outputs": [
    {
     "data": {
      "text/plain": [
       "RandomForestClassifier(criterion='entropy', max_depth=47, max_features='log2',\n",
       "                       min_samples_leaf=6, min_samples_split=35,\n",
       "                       n_estimators=1700)"
      ]
     },
     "execution_count": 135,
     "metadata": {},
     "output_type": "execute_result"
    }
   ],
   "source": [
    "RF_tuned = RandomForestClassifier(bootstrap=True, class_weight=None, criterion='entropy',\n",
    "            max_depth=47, max_features='log2', max_leaf_nodes=None,\n",
    "            min_impurity_decrease=0.0, min_impurity_split=None,\n",
    "            min_samples_leaf=6, min_samples_split=35,\n",
    "            min_weight_fraction_leaf=0.0, n_estimators=1700, n_jobs=None,\n",
    "            oob_score=False, random_state=None, verbose=0,\n",
    "            warm_start=False)\n",
    "RF_tuned.fit(X_train_preprocessed,y_train)"
   ]
  },
  {
   "cell_type": "code",
   "execution_count": 136,
   "metadata": {},
   "outputs": [
    {
     "name": "stdout",
     "output_type": "stream",
     "text": [
      "              precision    recall  f1-score   support\n",
      "\n",
      "           0       0.85      0.93      0.89      3880\n",
      "           1       0.75      0.56      0.64      1402\n",
      "\n",
      "    accuracy                           0.83      5282\n",
      "   macro avg       0.80      0.75      0.77      5282\n",
      "weighted avg       0.83      0.83      0.83      5282\n",
      "\n"
     ]
    }
   ],
   "source": [
    "# Prediction and Classification Report on Train set\n",
    "y_pred_train_RFtuned = RF_tuned.predict(X_train_preprocessed)\n",
    "print(classification_report(y_train, y_pred_train_RFtuned))"
   ]
  },
  {
   "cell_type": "code",
   "execution_count": 137,
   "metadata": {},
   "outputs": [
    {
     "name": "stdout",
     "output_type": "stream",
     "text": [
      "              precision    recall  f1-score   support\n",
      "\n",
      "           0       0.83      0.92      0.87      1294\n",
      "           1       0.69      0.46      0.55       467\n",
      "\n",
      "    accuracy                           0.80      1761\n",
      "   macro avg       0.76      0.69      0.71      1761\n",
      "weighted avg       0.79      0.80      0.79      1761\n",
      "\n"
     ]
    }
   ],
   "source": [
    "# Prediction and Classification Report on Train set\n",
    "y_pred_test_RFtuned = RF_tuned.predict(X_test_preprocessed)\n",
    "print(classification_report(y_test, y_pred_test_RFtuned))"
   ]
  },
  {
   "cell_type": "markdown",
   "metadata": {},
   "source": [
    "#### Taking the weighted avg metrics we have \n",
    "#### Precision = 79%\n",
    "#### Recall = 80%\n",
    "#### F1 = 79%\n",
    "\n",
    "#### Performance improvement slightly after overfitting and removal of overfitting"
   ]
  },
  {
   "cell_type": "markdown",
   "metadata": {},
   "source": [
    "### 4. XGBOOST"
   ]
  },
  {
   "cell_type": "code",
   "execution_count": 73,
   "metadata": {},
   "outputs": [],
   "source": [
    "import xgboost as xgb\n",
    "xgb_m = xgb.XGBClassifier()"
   ]
  },
  {
   "cell_type": "code",
   "execution_count": 74,
   "metadata": {},
   "outputs": [],
   "source": [
    "X_train_xgb = X_train_preprocessed\n",
    "y_train_xgb = y_train\n",
    "X_test_xgb = X_test_preprocessed\n",
    "y_test_xgb = y_test"
   ]
  },
  {
   "cell_type": "code",
   "execution_count": 75,
   "metadata": {},
   "outputs": [],
   "source": [
    "import re\n",
    "regex = re.compile(r\"\\[|\\]|<\", re.IGNORECASE)\n",
    "X_train_xgb.columns = [regex.sub(\"_\", col) if any(x in str(col) for x in set(('[', ']', '<'))) else col for col in X_train_xgb.columns.values]\n",
    "X_test_xgb.columns = [regex.sub(\"_\", col) if any(x in str(col) for x in set(('[', ']', '<'))) else col for col in X_test_xgb.columns.values]"
   ]
  },
  {
   "cell_type": "code",
   "execution_count": 77,
   "metadata": {},
   "outputs": [
    {
     "data": {
      "text/plain": [
       "XGBClassifier(base_score=0.5, booster='gbtree', colsample_bylevel=1,\n",
       "       colsample_bynode=1, colsample_bytree=1, gamma=0, gpu_id=-1,\n",
       "       importance_type='gain', interaction_constraints='',\n",
       "       learning_rate=0.300000012, max_delta_step=0, max_depth=6,\n",
       "       min_child_weight=1, missing=nan, monotone_constraints='()',\n",
       "       n_estimators=100, n_jobs=0, num_parallel_tree=1,\n",
       "       objective='binary:logistic', random_state=0, reg_alpha=0,\n",
       "       reg_lambda=1, scale_pos_weight=1, subsample=1, tree_method='exact',\n",
       "       validate_parameters=1, verbosity=None)"
      ]
     },
     "execution_count": 77,
     "metadata": {},
     "output_type": "execute_result"
    }
   ],
   "source": [
    "xgb_m.fit(X_train_xgb,y_train_xgb)"
   ]
  },
  {
   "cell_type": "code",
   "execution_count": 78,
   "metadata": {},
   "outputs": [
    {
     "name": "stdout",
     "output_type": "stream",
     "text": [
      "              precision    recall  f1-score   support\n",
      "\n",
      "           0       0.95      0.97      0.96      3880\n",
      "           1       0.91      0.87      0.89      1402\n",
      "\n",
      "   micro avg       0.94      0.94      0.94      5282\n",
      "   macro avg       0.93      0.92      0.92      5282\n",
      "weighted avg       0.94      0.94      0.94      5282\n",
      "\n"
     ]
    }
   ],
   "source": [
    "# Prediction and Classification Report on Train set\n",
    "y_pred_train_xgb = xgb_m.predict(X_train_preprocessed)\n",
    "print(classification_report(y_train, y_pred_train_xgb))"
   ]
  },
  {
   "cell_type": "code",
   "execution_count": 79,
   "metadata": {},
   "outputs": [
    {
     "name": "stdout",
     "output_type": "stream",
     "text": [
      "              precision    recall  f1-score   support\n",
      "\n",
      "           0       0.83      0.88      0.85      1294\n",
      "           1       0.60      0.51      0.55       467\n",
      "\n",
      "   micro avg       0.78      0.78      0.78      1761\n",
      "   macro avg       0.72      0.69      0.70      1761\n",
      "weighted avg       0.77      0.78      0.77      1761\n",
      "\n"
     ]
    }
   ],
   "source": [
    "# Prediction and Classification Report on Test set\n",
    "y_pred_test_xgb = xgb_m.predict(X_test_preprocessed)\n",
    "print(classification_report(y_test, y_pred_test_xgb))"
   ]
  },
  {
   "cell_type": "code",
   "execution_count": 80,
   "metadata": {},
   "outputs": [],
   "source": [
    "# Hyperparamter Tuning\n",
    "max_depth = [int(x) for x in np.linspace(10, 110, num = 11)]\n",
    "max_depth.append(None)\n",
    "n_estimators = [int(x) for x in np.linspace(start = 200, stop = 2000, num = 10)]\n",
    "\n",
    "params={\n",
    " \"n_estimators\"     : n_estimators,\n",
    " \"learning_rate\"    : [0.05, 0.10, 0.15, 0.20, 0.25, 0.30] ,\n",
    " \"max_depth\"        : [3, 4, 5, 6, 8, 10, 12, 15],\n",
    " \"min_child_weight\" : [1, 3, 5, 7],\n",
    " \"gamma\"            : [0.0, 0.1, 0.2 , 0.3, 0.4],\n",
    " \"colsample_bytree\" : [0.3, 0.4, 0.5 , 0.7]   \n",
    "}"
   ]
  },
  {
   "cell_type": "code",
   "execution_count": 88,
   "metadata": {},
   "outputs": [],
   "source": [
    "# Random search on parameters\n",
    "model_xgb = xgb_m\n",
    "random_search=RandomizedSearchCV(model_xgb,param_distributions=params,n_iter=10,scoring='f1',n_jobs=-1,cv=StratifiedKFold(10),verbose=3)"
   ]
  },
  {
   "cell_type": "code",
   "execution_count": 89,
   "metadata": {},
   "outputs": [
    {
     "name": "stdout",
     "output_type": "stream",
     "text": [
      "Fitting 10 folds for each of 10 candidates, totalling 100 fits\n"
     ]
    },
    {
     "name": "stderr",
     "output_type": "stream",
     "text": [
      "[Parallel(n_jobs=-1)]: Using backend LokyBackend with 8 concurrent workers.\n",
      "[Parallel(n_jobs=-1)]: Done  16 tasks      | elapsed:   24.5s\n",
      "[Parallel(n_jobs=-1)]: Done 100 out of 100 | elapsed: 11.7min finished\n"
     ]
    },
    {
     "name": "stdout",
     "output_type": "stream",
     "text": [
      "{'n_estimators': 400, 'min_child_weight': 3, 'max_depth': 5, 'learning_rate': 0.1, 'gamma': 0.1, 'colsample_bytree': 0.4}\n",
      "XGBClassifier(base_score=0.5, booster='gbtree', colsample_bylevel=1,\n",
      "       colsample_bynode=1, colsample_bytree=0.4, gamma=0.1, gpu_id=-1,\n",
      "       importance_type='gain', interaction_constraints='',\n",
      "       learning_rate=0.1, max_delta_step=0, max_depth=5,\n",
      "       min_child_weight=3, missing=nan, monotone_constraints='()',\n",
      "       n_estimators=400, n_jobs=0, num_parallel_tree=1,\n",
      "       objective='binary:logistic', random_state=0, reg_alpha=0,\n",
      "       reg_lambda=1, scale_pos_weight=1, subsample=1, tree_method='exact',\n",
      "       validate_parameters=1, verbosity=None)\n"
     ]
    }
   ],
   "source": [
    "random_search.fit(X_train_xgb, y_train_xgb)\n",
    "print(random_search.best_params_)\n",
    "print(random_search.best_estimator_)"
   ]
  },
  {
   "cell_type": "code",
   "execution_count": 90,
   "metadata": {},
   "outputs": [
    {
     "data": {
      "text/plain": [
       "XGBClassifier(base_score=0.5, booster='gbtree', colsample_bylevel=1,\n",
       "       colsample_bynode=1, colsample_bytree=0.7, gamma=0.4, gpu_id=-1,\n",
       "       importance_type='gain', interaction_constraints='',\n",
       "       learning_rate=0.2, max_delta_step=0, max_depth=6,\n",
       "       min_child_weight=7, missing=nan, monotone_constraints='()',\n",
       "       n_estimators=1800, n_jobs=0, num_parallel_tree=1,\n",
       "       objective='binary:logistic', random_state=0, reg_alpha=0,\n",
       "       reg_lambda=1, scale_pos_weight=1, subsample=1, tree_method='exact',\n",
       "       validate_parameters=1, verbosity=None)"
      ]
     },
     "execution_count": 90,
     "metadata": {},
     "output_type": "execute_result"
    }
   ],
   "source": [
    "XGB_tuned = xgb.XGBClassifier(base_score=0.5, booster='gbtree', colsample_bylevel=1,\n",
    "       colsample_bynode=1, colsample_bytree=0.7, gamma=0.4, gpu_id=-1,\n",
    "       importance_type='gain', interaction_constraints='',\n",
    "       learning_rate=0.2, max_delta_step=0, max_depth=6,\n",
    "       min_child_weight=7, monotone_constraints='()',\n",
    "       n_estimators=1800, n_jobs=0, num_parallel_tree=1,\n",
    "       objective='binary:logistic', random_state=0, reg_alpha=0,\n",
    "       reg_lambda=1, scale_pos_weight=1, subsample=1, tree_method='exact',\n",
    "       validate_parameters=1, verbosity=None)\n",
    "XGB_tuned.fit(X_train_xgb,y_train_xgb)"
   ]
  },
  {
   "cell_type": "code",
   "execution_count": 86,
   "metadata": {},
   "outputs": [
    {
     "name": "stdout",
     "output_type": "stream",
     "text": [
      "              precision    recall  f1-score   support\n",
      "\n",
      "           0       0.96      0.97      0.97      3880\n",
      "           1       0.92      0.89      0.91      1402\n",
      "\n",
      "   micro avg       0.95      0.95      0.95      5282\n",
      "   macro avg       0.94      0.93      0.94      5282\n",
      "weighted avg       0.95      0.95      0.95      5282\n",
      "\n"
     ]
    }
   ],
   "source": [
    "# Prediction and Classification Report on Train set\n",
    "y_pred_train_XGBtuned = XGB_tuned.predict(X_train_xgb)\n",
    "print(classification_report(y_train_xgb, y_pred_train_XGBtuned))"
   ]
  },
  {
   "cell_type": "code",
   "execution_count": 87,
   "metadata": {},
   "outputs": [
    {
     "name": "stdout",
     "output_type": "stream",
     "text": [
      "              precision    recall  f1-score   support\n",
      "\n",
      "           0       0.83      0.87      0.85      1294\n",
      "           1       0.58      0.49      0.53       467\n",
      "\n",
      "   micro avg       0.77      0.77      0.77      1761\n",
      "   macro avg       0.70      0.68      0.69      1761\n",
      "weighted avg       0.76      0.77      0.76      1761\n",
      "\n"
     ]
    }
   ],
   "source": [
    "# Prediction and Classification Report on Test set\n",
    "y_pred_test_XGBtuned = XGB_tuned.predict(X_test_xgb)\n",
    "print(classification_report(y_test_xgb, y_pred_test_XGBtuned))"
   ]
  },
  {
   "cell_type": "code",
   "execution_count": null,
   "metadata": {},
   "outputs": [],
   "source": []
  },
  {
   "cell_type": "code",
   "execution_count": 44,
   "metadata": {},
   "outputs": [
    {
     "name": "stderr",
     "output_type": "stream",
     "text": [
      "Using TensorFlow backend.\n"
     ]
    }
   ],
   "source": [
    "# Import all necessary modules\n",
    "import keras\n",
    "from keras.models import Sequential\n",
    "from keras.layers import Dense\n",
    "from keras.activations import softmax,relu\n",
    "from keras.optimizers import Adam,SGD\n",
    "from sklearn.metrics import accuracy_score,recall_score,confusion_matrix,f1_score"
   ]
  },
  {
   "cell_type": "code",
   "execution_count": 45,
   "metadata": {},
   "outputs": [
    {
     "name": "stdout",
     "output_type": "stream",
     "text": [
      "<class 'pandas.core.frame.DataFrame'>\n",
      "<class 'pandas.core.frame.DataFrame'>\n",
      "<class 'numpy.ndarray'>\n",
      "<class 'numpy.ndarray'>\n"
     ]
    }
   ],
   "source": [
    "print(type(X_train_preprocessed))\n",
    "print(type(X_val_preprocessed))\n",
    "\n",
    "X_train_preprocessed_arr = X_train_preprocessed.values\n",
    "X_val_preprocessed_arr = X_val_preprocessed.values\n",
    "\n",
    "print(type(X_train_preprocessed_arr))\n",
    "print(type(X_val_preprocessed_arr))"
   ]
  },
  {
   "cell_type": "markdown",
   "metadata": {},
   "source": [
    "### Model-1 (Perceptron Model)"
   ]
  },
  {
   "cell_type": "code",
   "execution_count": 47,
   "metadata": {},
   "outputs": [],
   "source": [
    "perceptron_model = Sequential()\n",
    "perceptron_model.add(Dense(1, activation='sigmoid', input_shape=(47,)))"
   ]
  },
  {
   "cell_type": "code",
   "execution_count": 48,
   "metadata": {},
   "outputs": [
    {
     "name": "stdout",
     "output_type": "stream",
     "text": [
      "Model: \"sequential_1\"\n",
      "_________________________________________________________________\n",
      "Layer (type)                 Output Shape              Param #   \n",
      "=================================================================\n",
      "dense_1 (Dense)              (None, 1)                 48        \n",
      "=================================================================\n",
      "Total params: 48\n",
      "Trainable params: 48\n",
      "Non-trainable params: 0\n",
      "_________________________________________________________________\n"
     ]
    }
   ],
   "source": [
    "perceptron_model.summary()"
   ]
  },
  {
   "cell_type": "code",
   "execution_count": 49,
   "metadata": {},
   "outputs": [],
   "source": [
    "perceptron_model.compile(loss='binary_crossentropy', optimizer='sgd', metrics=['accuracy'])"
   ]
  },
  {
   "cell_type": "code",
   "execution_count": 50,
   "metadata": {},
   "outputs": [
    {
     "name": "stdout",
     "output_type": "stream",
     "text": [
      "Train on 4225 samples, validate on 1057 samples\n",
      "Epoch 1/100\n",
      "4225/4225 [==============================] - 0s 62us/step - loss: 0.6565 - accuracy: 0.6033 - val_loss: 0.5578 - val_accuracy: 0.7133\n",
      "Epoch 2/100\n",
      "4225/4225 [==============================] - 0s 20us/step - loss: 0.5344 - accuracy: 0.7399 - val_loss: 0.5132 - val_accuracy: 0.7389\n",
      "Epoch 3/100\n",
      "4225/4225 [==============================] - 0s 21us/step - loss: 0.5039 - accuracy: 0.7484 - val_loss: 0.4892 - val_accuracy: 0.7502\n",
      "Epoch 4/100\n",
      "4225/4225 [==============================] - 0s 24us/step - loss: 0.4848 - accuracy: 0.7617 - val_loss: 0.4724 - val_accuracy: 0.7644\n",
      "Epoch 5/100\n",
      "4225/4225 [==============================] - 0s 26us/step - loss: 0.4712 - accuracy: 0.7678 - val_loss: 0.4598 - val_accuracy: 0.7871\n",
      "Epoch 6/100\n",
      "4225/4225 [==============================] - 0s 22us/step - loss: 0.4618 - accuracy: 0.7858 - val_loss: 0.4492 - val_accuracy: 0.7975\n",
      "Epoch 7/100\n",
      "4225/4225 [==============================] - 0s 24us/step - loss: 0.4535 - accuracy: 0.7882 - val_loss: 0.4425 - val_accuracy: 0.7938\n",
      "Epoch 8/100\n",
      "4225/4225 [==============================] - 0s 26us/step - loss: 0.4474 - accuracy: 0.7912 - val_loss: 0.4371 - val_accuracy: 0.8004\n",
      "Epoch 9/100\n",
      "4225/4225 [==============================] - 0s 29us/step - loss: 0.4428 - accuracy: 0.7922 - val_loss: 0.4328 - val_accuracy: 0.8061\n",
      "Epoch 10/100\n",
      "4225/4225 [==============================] - 0s 36us/step - loss: 0.4391 - accuracy: 0.7957 - val_loss: 0.4274 - val_accuracy: 0.8089\n",
      "Epoch 11/100\n",
      "4225/4225 [==============================] - 0s 26us/step - loss: 0.4357 - accuracy: 0.7946 - val_loss: 0.4248 - val_accuracy: 0.8070\n",
      "Epoch 12/100\n",
      "4225/4225 [==============================] - 0s 25us/step - loss: 0.4331 - accuracy: 0.7950 - val_loss: 0.4213 - val_accuracy: 0.8117\n",
      "Epoch 13/100\n",
      "4225/4225 [==============================] - 0s 36us/step - loss: 0.4309 - accuracy: 0.7972 - val_loss: 0.4195 - val_accuracy: 0.8127\n",
      "Epoch 14/100\n",
      "4225/4225 [==============================] - 0s 34us/step - loss: 0.4290 - accuracy: 0.7972 - val_loss: 0.4177 - val_accuracy: 0.8117\n",
      "Epoch 15/100\n",
      "4225/4225 [==============================] - 0s 29us/step - loss: 0.4275 - accuracy: 0.7981 - val_loss: 0.4152 - val_accuracy: 0.8174\n",
      "Epoch 16/100\n",
      "4225/4225 [==============================] - 0s 24us/step - loss: 0.4261 - accuracy: 0.7991 - val_loss: 0.4147 - val_accuracy: 0.8155\n",
      "Epoch 17/100\n",
      "4225/4225 [==============================] - 0s 26us/step - loss: 0.4247 - accuracy: 0.7986 - val_loss: 0.4129 - val_accuracy: 0.8174\n",
      "Epoch 18/100\n",
      "4225/4225 [==============================] - 0s 24us/step - loss: 0.4239 - accuracy: 0.7998 - val_loss: 0.4141 - val_accuracy: 0.8098\n",
      "Epoch 19/100\n",
      "4225/4225 [==============================] - 0s 23us/step - loss: 0.4231 - accuracy: 0.7998 - val_loss: 0.4122 - val_accuracy: 0.8174\n",
      "Epoch 20/100\n",
      "4225/4225 [==============================] - 0s 26us/step - loss: 0.4222 - accuracy: 0.7998 - val_loss: 0.4113 - val_accuracy: 0.8202\n",
      "Epoch 21/100\n",
      "4225/4225 [==============================] - 0s 24us/step - loss: 0.4214 - accuracy: 0.8005 - val_loss: 0.4123 - val_accuracy: 0.8108\n",
      "Epoch 22/100\n",
      "4225/4225 [==============================] - 0s 33us/step - loss: 0.4210 - accuracy: 0.8014 - val_loss: 0.4087 - val_accuracy: 0.8193\n",
      "Epoch 23/100\n",
      "4225/4225 [==============================] - 0s 33us/step - loss: 0.4203 - accuracy: 0.8012 - val_loss: 0.4079 - val_accuracy: 0.8193\n",
      "Epoch 24/100\n",
      "4225/4225 [==============================] - 0s 21us/step - loss: 0.4197 - accuracy: 0.8040 - val_loss: 0.4080 - val_accuracy: 0.8155\n",
      "Epoch 25/100\n",
      "4225/4225 [==============================] - 0s 20us/step - loss: 0.4189 - accuracy: 0.8012 - val_loss: 0.4101 - val_accuracy: 0.8155\n",
      "Epoch 26/100\n",
      "4225/4225 [==============================] - 0s 20us/step - loss: 0.4188 - accuracy: 0.8021 - val_loss: 0.4088 - val_accuracy: 0.8174\n",
      "Epoch 27/100\n",
      "4225/4225 [==============================] - 0s 26us/step - loss: 0.4182 - accuracy: 0.8012 - val_loss: 0.4064 - val_accuracy: 0.8174\n",
      "Epoch 28/100\n",
      "4225/4225 [==============================] - 0s 24us/step - loss: 0.4178 - accuracy: 0.8043 - val_loss: 0.4057 - val_accuracy: 0.8193\n",
      "Epoch 29/100\n",
      "4225/4225 [==============================] - 0s 23us/step - loss: 0.4174 - accuracy: 0.8040 - val_loss: 0.4065 - val_accuracy: 0.8155\n",
      "Epoch 30/100\n",
      "4225/4225 [==============================] - 0s 22us/step - loss: 0.4169 - accuracy: 0.8017 - val_loss: 0.4062 - val_accuracy: 0.8165\n",
      "Epoch 31/100\n",
      "4225/4225 [==============================] - 0s 22us/step - loss: 0.4165 - accuracy: 0.8017 - val_loss: 0.4057 - val_accuracy: 0.8174\n",
      "Epoch 32/100\n",
      "4225/4225 [==============================] - 0s 23us/step - loss: 0.4161 - accuracy: 0.8043 - val_loss: 0.4062 - val_accuracy: 0.8165\n",
      "Epoch 33/100\n",
      "4225/4225 [==============================] - 0s 34us/step - loss: 0.4159 - accuracy: 0.8038 - val_loss: 0.4056 - val_accuracy: 0.8174\n",
      "Epoch 34/100\n",
      "4225/4225 [==============================] - 0s 23us/step - loss: 0.4155 - accuracy: 0.8038 - val_loss: 0.4051 - val_accuracy: 0.8174\n",
      "Epoch 35/100\n",
      "4225/4225 [==============================] - 0s 33us/step - loss: 0.4153 - accuracy: 0.8059 - val_loss: 0.4053 - val_accuracy: 0.8174\n",
      "Epoch 36/100\n",
      "4225/4225 [==============================] - 0s 34us/step - loss: 0.4149 - accuracy: 0.8036 - val_loss: 0.4033 - val_accuracy: 0.8184\n",
      "Epoch 37/100\n",
      "4225/4225 [==============================] - 0s 34us/step - loss: 0.4151 - accuracy: 0.8088 - val_loss: 0.4040 - val_accuracy: 0.8174\n",
      "Epoch 38/100\n",
      "4225/4225 [==============================] - 0s 32us/step - loss: 0.4146 - accuracy: 0.8059 - val_loss: 0.4057 - val_accuracy: 0.8146\n",
      "Epoch 39/100\n",
      "4225/4225 [==============================] - 0s 34us/step - loss: 0.4145 - accuracy: 0.8052 - val_loss: 0.4065 - val_accuracy: 0.8136\n",
      "Epoch 40/100\n",
      "4225/4225 [==============================] - 0s 27us/step - loss: 0.4144 - accuracy: 0.8043 - val_loss: 0.4049 - val_accuracy: 0.8155\n",
      "Epoch 41/100\n",
      "4225/4225 [==============================] - 0s 23us/step - loss: 0.4138 - accuracy: 0.8054 - val_loss: 0.4032 - val_accuracy: 0.8193\n",
      "Epoch 42/100\n",
      "4225/4225 [==============================] - 0s 25us/step - loss: 0.4136 - accuracy: 0.8066 - val_loss: 0.4035 - val_accuracy: 0.8174\n",
      "Epoch 43/100\n",
      "4225/4225 [==============================] - 0s 21us/step - loss: 0.4133 - accuracy: 0.8059 - val_loss: 0.4034 - val_accuracy: 0.8193\n",
      "Epoch 44/100\n",
      "4225/4225 [==============================] - 0s 19us/step - loss: 0.4132 - accuracy: 0.8069 - val_loss: 0.4032 - val_accuracy: 0.8202\n",
      "Epoch 45/100\n",
      "4225/4225 [==============================] - 0s 24us/step - loss: 0.4129 - accuracy: 0.8076 - val_loss: 0.4033 - val_accuracy: 0.8193\n",
      "Epoch 46/100\n",
      "4225/4225 [==============================] - 0s 20us/step - loss: 0.4128 - accuracy: 0.8080 - val_loss: 0.4041 - val_accuracy: 0.8146\n",
      "Epoch 47/100\n",
      "4225/4225 [==============================] - 0s 21us/step - loss: 0.4128 - accuracy: 0.8066 - val_loss: 0.4036 - val_accuracy: 0.8155\n",
      "Epoch 48/100\n",
      "4225/4225 [==============================] - 0s 20us/step - loss: 0.4125 - accuracy: 0.8071 - val_loss: 0.4029 - val_accuracy: 0.8193\n",
      "Epoch 49/100\n",
      "4225/4225 [==============================] - 0s 20us/step - loss: 0.4123 - accuracy: 0.8076 - val_loss: 0.4017 - val_accuracy: 0.8193\n",
      "Epoch 50/100\n",
      "4225/4225 [==============================] - 0s 21us/step - loss: 0.4123 - accuracy: 0.8085 - val_loss: 0.4023 - val_accuracy: 0.8174\n",
      "Epoch 51/100\n",
      "4225/4225 [==============================] - 0s 22us/step - loss: 0.4120 - accuracy: 0.8083 - val_loss: 0.4024 - val_accuracy: 0.8174\n",
      "Epoch 52/100\n",
      "4225/4225 [==============================] - 0s 28us/step - loss: 0.4118 - accuracy: 0.8078 - val_loss: 0.4024 - val_accuracy: 0.8174\n",
      "Epoch 53/100\n",
      "4225/4225 [==============================] - 0s 31us/step - loss: 0.4116 - accuracy: 0.8092 - val_loss: 0.4023 - val_accuracy: 0.8184\n",
      "Epoch 54/100\n",
      "4225/4225 [==============================] - 0s 24us/step - loss: 0.4115 - accuracy: 0.8088 - val_loss: 0.4016 - val_accuracy: 0.8174\n",
      "Epoch 55/100\n",
      "4225/4225 [==============================] - 0s 19us/step - loss: 0.4114 - accuracy: 0.8090 - val_loss: 0.4032 - val_accuracy: 0.8165\n",
      "Epoch 56/100\n",
      "4225/4225 [==============================] - 0s 20us/step - loss: 0.4114 - accuracy: 0.8071 - val_loss: 0.4020 - val_accuracy: 0.8165\n",
      "Epoch 57/100\n",
      "4225/4225 [==============================] - 0s 20us/step - loss: 0.4112 - accuracy: 0.8090 - val_loss: 0.4021 - val_accuracy: 0.8165\n",
      "Epoch 58/100\n",
      "4225/4225 [==============================] - 0s 20us/step - loss: 0.4110 - accuracy: 0.8080 - val_loss: 0.4024 - val_accuracy: 0.8165\n",
      "Epoch 59/100\n",
      "4225/4225 [==============================] - 0s 34us/step - loss: 0.4109 - accuracy: 0.8090 - val_loss: 0.4022 - val_accuracy: 0.8165\n",
      "Epoch 60/100\n",
      "4225/4225 [==============================] - 0s 37us/step - loss: 0.4108 - accuracy: 0.8080 - val_loss: 0.4031 - val_accuracy: 0.8155\n",
      "Epoch 61/100\n",
      "4225/4225 [==============================] - 0s 31us/step - loss: 0.4107 - accuracy: 0.8076 - val_loss: 0.4040 - val_accuracy: 0.8117\n",
      "Epoch 62/100\n",
      "4225/4225 [==============================] - 0s 32us/step - loss: 0.4107 - accuracy: 0.8064 - val_loss: 0.4025 - val_accuracy: 0.8174\n",
      "Epoch 63/100\n",
      "4225/4225 [==============================] - 0s 27us/step - loss: 0.4105 - accuracy: 0.8071 - val_loss: 0.4023 - val_accuracy: 0.8174\n",
      "Epoch 64/100\n",
      "4225/4225 [==============================] - 0s 36us/step - loss: 0.4103 - accuracy: 0.8085 - val_loss: 0.4008 - val_accuracy: 0.8184\n",
      "Epoch 65/100\n",
      "4225/4225 [==============================] - 0s 28us/step - loss: 0.4102 - accuracy: 0.8095 - val_loss: 0.4004 - val_accuracy: 0.8193\n",
      "Epoch 66/100\n",
      "4225/4225 [==============================] - 0s 32us/step - loss: 0.4103 - accuracy: 0.8092 - val_loss: 0.4010 - val_accuracy: 0.8174\n",
      "Epoch 67/100\n",
      "4225/4225 [==============================] - 0s 33us/step - loss: 0.4100 - accuracy: 0.8099 - val_loss: 0.4005 - val_accuracy: 0.8174\n",
      "Epoch 68/100\n",
      "4225/4225 [==============================] - 0s 30us/step - loss: 0.4102 - accuracy: 0.8099 - val_loss: 0.4014 - val_accuracy: 0.8193\n",
      "Epoch 69/100\n",
      "4225/4225 [==============================] - 0s 27us/step - loss: 0.4098 - accuracy: 0.8092 - val_loss: 0.4008 - val_accuracy: 0.8193\n",
      "Epoch 70/100\n",
      "4225/4225 [==============================] - 0s 35us/step - loss: 0.4099 - accuracy: 0.8088 - val_loss: 0.4009 - val_accuracy: 0.8184\n",
      "Epoch 71/100\n",
      "4225/4225 [==============================] - 0s 35us/step - loss: 0.4098 - accuracy: 0.8088 - val_loss: 0.4014 - val_accuracy: 0.8165\n",
      "Epoch 72/100\n",
      "4225/4225 [==============================] - 0s 30us/step - loss: 0.4095 - accuracy: 0.8085 - val_loss: 0.4024 - val_accuracy: 0.8155\n",
      "Epoch 73/100\n",
      "4225/4225 [==============================] - 0s 23us/step - loss: 0.4095 - accuracy: 0.8088 - val_loss: 0.4022 - val_accuracy: 0.8117\n",
      "Epoch 74/100\n",
      "4225/4225 [==============================] - 0s 30us/step - loss: 0.4093 - accuracy: 0.8088 - val_loss: 0.4021 - val_accuracy: 0.8117\n",
      "Epoch 75/100\n",
      "4225/4225 [==============================] - 0s 33us/step - loss: 0.4094 - accuracy: 0.8080 - val_loss: 0.4018 - val_accuracy: 0.8155\n",
      "Epoch 76/100\n",
      "4225/4225 [==============================] - 0s 23us/step - loss: 0.4092 - accuracy: 0.8090 - val_loss: 0.4018 - val_accuracy: 0.8155\n",
      "Epoch 77/100\n",
      "4225/4225 [==============================] - 0s 21us/step - loss: 0.4091 - accuracy: 0.8095 - val_loss: 0.4008 - val_accuracy: 0.8184\n",
      "Epoch 78/100\n",
      "4225/4225 [==============================] - 0s 23us/step - loss: 0.4091 - accuracy: 0.8078 - val_loss: 0.4019 - val_accuracy: 0.8155\n",
      "Epoch 79/100\n",
      "4225/4225 [==============================] - 0s 36us/step - loss: 0.4090 - accuracy: 0.8078 - val_loss: 0.4022 - val_accuracy: 0.8127\n",
      "Epoch 80/100\n",
      "4225/4225 [==============================] - 0s 38us/step - loss: 0.4090 - accuracy: 0.8071 - val_loss: 0.4020 - val_accuracy: 0.8136\n",
      "Epoch 81/100\n",
      "4225/4225 [==============================] - 0s 37us/step - loss: 0.4088 - accuracy: 0.8076 - val_loss: 0.4016 - val_accuracy: 0.8155\n",
      "Epoch 82/100\n",
      "4225/4225 [==============================] - 0s 34us/step - loss: 0.4087 - accuracy: 0.8076 - val_loss: 0.4015 - val_accuracy: 0.8165\n",
      "Epoch 83/100\n",
      "4225/4225 [==============================] - 0s 36us/step - loss: 0.4087 - accuracy: 0.8078 - val_loss: 0.4023 - val_accuracy: 0.8146\n",
      "Epoch 84/100\n",
      "4225/4225 [==============================] - 0s 33us/step - loss: 0.4087 - accuracy: 0.8069 - val_loss: 0.4017 - val_accuracy: 0.8146\n",
      "Epoch 85/100\n",
      "4225/4225 [==============================] - 0s 38us/step - loss: 0.4086 - accuracy: 0.8083 - val_loss: 0.4021 - val_accuracy: 0.8165\n",
      "Epoch 86/100\n",
      "4225/4225 [==============================] - 0s 33us/step - loss: 0.4086 - accuracy: 0.8073 - val_loss: 0.4019 - val_accuracy: 0.8155\n",
      "Epoch 87/100\n",
      "4225/4225 [==============================] - 0s 31us/step - loss: 0.4085 - accuracy: 0.8073 - val_loss: 0.4016 - val_accuracy: 0.8155\n",
      "Epoch 88/100\n",
      "4225/4225 [==============================] - 0s 34us/step - loss: 0.4084 - accuracy: 0.8083 - val_loss: 0.4023 - val_accuracy: 0.8146\n",
      "Epoch 89/100\n",
      "4225/4225 [==============================] - 0s 36us/step - loss: 0.4084 - accuracy: 0.8071 - val_loss: 0.4017 - val_accuracy: 0.8155\n",
      "Epoch 90/100\n",
      "4225/4225 [==============================] - 0s 34us/step - loss: 0.4083 - accuracy: 0.8069 - val_loss: 0.4013 - val_accuracy: 0.8165\n",
      "Epoch 91/100\n",
      "4225/4225 [==============================] - 0s 35us/step - loss: 0.4082 - accuracy: 0.8080 - val_loss: 0.4019 - val_accuracy: 0.8155\n",
      "Epoch 92/100\n",
      "4225/4225 [==============================] - 0s 22us/step - loss: 0.4082 - accuracy: 0.8062 - val_loss: 0.4016 - val_accuracy: 0.8174\n",
      "Epoch 93/100\n",
      "4225/4225 [==============================] - 0s 31us/step - loss: 0.4081 - accuracy: 0.8076 - val_loss: 0.4008 - val_accuracy: 0.8174\n",
      "Epoch 94/100\n",
      "4225/4225 [==============================] - 0s 37us/step - loss: 0.4081 - accuracy: 0.8085 - val_loss: 0.4010 - val_accuracy: 0.8165\n",
      "Epoch 95/100\n",
      "4225/4225 [==============================] - 0s 41us/step - loss: 0.4080 - accuracy: 0.8085 - val_loss: 0.4003 - val_accuracy: 0.8184\n",
      "Epoch 96/100\n",
      "4225/4225 [==============================] - 0s 35us/step - loss: 0.4080 - accuracy: 0.8085 - val_loss: 0.4007 - val_accuracy: 0.8165\n",
      "Epoch 97/100\n",
      "4225/4225 [==============================] - 0s 34us/step - loss: 0.4079 - accuracy: 0.8085 - val_loss: 0.4005 - val_accuracy: 0.8184\n",
      "Epoch 98/100\n",
      "4225/4225 [==============================] - 0s 36us/step - loss: 0.4079 - accuracy: 0.8069 - val_loss: 0.4017 - val_accuracy: 0.8136\n",
      "Epoch 99/100\n",
      "4225/4225 [==============================] - 0s 36us/step - loss: 0.4078 - accuracy: 0.8071 - val_loss: 0.4015 - val_accuracy: 0.8146\n",
      "Epoch 100/100\n",
      "4225/4225 [==============================] - 0s 33us/step - loss: 0.4078 - accuracy: 0.8071 - val_loss: 0.4014 - val_accuracy: 0.8174\n"
     ]
    }
   ],
   "source": [
    "perceptron_model_history = perceptron_model.fit(X_train_preprocessed_arr, y_train, epochs=100, batch_size=64, validation_split=0.2)"
   ]
  },
  {
   "cell_type": "code",
   "execution_count": 55,
   "metadata": {},
   "outputs": [
    {
     "data": {
      "image/png": "[encoded data removed]",
      "text/plain": [
       "<Figure size 600x400 with 1 Axes>"
      ]
     },
     "metadata": {},
     "output_type": "display_data"
    }
   ],
   "source": [
    "from matplotlib import pyplot as plt\n",
    "plt.plot(perceptron_model_history.history['accuracy'])\n",
    "plt.plot(perceptron_model_history.history['val_accuracy'])\n",
    "plt.title('Accuracy Plot')\n",
    "plt.ylabel('Accuracy')\n",
    "plt.xlabel('Epoch')\n",
    "plt.legend(['Train', 'Validation'])\n",
    "plt.show()"
   ]
  },
  {
   "cell_type": "code",
   "execution_count": 56,
   "metadata": {},
   "outputs": [
    {
     "data": {
      "image/png": "[encoded data removed]",
      "text/plain": [
       "<Figure size 600x400 with 1 Axes>"
      ]
     },
     "metadata": {},
     "output_type": "display_data"
    }
   ],
   "source": [
    "plt.plot(perceptron_model_history.history['loss'])\n",
    "plt.plot(perceptron_model_history.history['val_loss'])\n",
    "plt.title('Loss Function Plot')\n",
    "plt.ylabel('Loss')\n",
    "plt.xlabel('Epoch')\n",
    "plt.legend(['Train', 'Validation'])\n",
    "plt.show()"
   ]
  },
  {
   "cell_type": "code",
   "execution_count": 57,
   "metadata": {},
   "outputs": [
    {
     "name": "stdout",
     "output_type": "stream",
     "text": [
      "[[3539  341]\n",
      " [ 668  734]]\n",
      "[[1187  107]\n",
      " [ 248  219]]\n"
     ]
    }
   ],
   "source": [
    "val_pred = perceptron_model.predict_classes(X_val_preprocessed_arr)\n",
    "train_pred = perceptron_model.predict_classes(X_train_preprocessed_arr)\n",
    "\n",
    "confusion_matrix_val = confusion_matrix(y_val, val_pred)\n",
    "confusion_matrix_train = confusion_matrix(y_train, train_pred)\n",
    "\n",
    "print(confusion_matrix_train)\n",
    "print(confusion_matrix_val)"
   ]
  },
  {
   "cell_type": "code",
   "execution_count": 59,
   "metadata": {},
   "outputs": [
    {
     "name": "stdout",
     "output_type": "stream",
     "text": [
      "Train Accuracy:  0.8089738735327527\n",
      "Train Recall:  0.5235378031383737\n",
      "Train Precision:  0.6827906976744186\n",
      "-----------------------\n",
      "Val Accuracy:  0.7984099943214082\n",
      "Val Recall:  0.4689507494646681\n",
      "Val Precision:  0.6717791411042945\n"
     ]
    }
   ],
   "source": [
    "from sklearn.metrics import accuracy_score,recall_score,confusion_matrix,f1_score,precision_score\n",
    "accuracy_score_train = accuracy_score(y_train, train_pred)\n",
    "accuracy_score_val = accuracy_score(y_val, val_pred)\n",
    "\n",
    "recall_score_train = recall_score(y_train, train_pred)\n",
    "recall_score_val = recall_score(y_val, val_pred)\n",
    "\n",
    "precision_score_train = precision_score(y_train, train_pred)\n",
    "precision_score_val = precision_score(y_val, val_pred)\n",
    "\n",
    "\n",
    "print(\"Train Accuracy: \",accuracy_score_train)\n",
    "print(\"Train Recall: \",recall_score_train)\n",
    "print(\"Train Precision: \",precision_score_train)\n",
    "\n",
    "print(\"-----------------------\")\n",
    "\n",
    "print(\"Val Accuracy: \",accuracy_score_val)\n",
    "print(\"Val Recall: \",recall_score_val)\n",
    "print(\"Val Precision: \",precision_score_val)"
   ]
  },
  {
   "cell_type": "markdown",
   "metadata": {},
   "source": [
    "### Model - 2 (MLP with 2 layers)\n",
    "#### Activation function - relu and 25 neurons in hidden layer and 'SGD' as optimization"
   ]
  },
  {
   "cell_type": "code",
   "execution_count": 60,
   "metadata": {},
   "outputs": [],
   "source": [
    "model2 = Sequential()\n",
    "\n",
    "model2.add(Dense(25, input_shape=(47,), activation='relu', kernel_initializer='normal'))\n",
    "model2.add(Dense(1, activation='sigmoid', kernel_initializer='normal'))"
   ]
  },
  {
   "cell_type": "code",
   "execution_count": 61,
   "metadata": {},
   "outputs": [],
   "source": [
    "model2.compile(loss='binary_crossentropy', optimizer='sgd', metrics=['accuracy'])"
   ]
  },
  {
   "cell_type": "code",
   "execution_count": 62,
   "metadata": {},
   "outputs": [
    {
     "name": "stdout",
     "output_type": "stream",
     "text": [
      "Train on 4225 samples, validate on 1057 samples\n",
      "Epoch 1/100\n",
      "4225/4225 [==============================] - 0s 55us/step - loss: 0.6671 - accuracy: 0.7221 - val_loss: 0.6465 - val_accuracy: 0.7360\n",
      "Epoch 2/100\n",
      "4225/4225 [==============================] - 0s 28us/step - loss: 0.6305 - accuracy: 0.7342 - val_loss: 0.6167 - val_accuracy: 0.7360\n",
      "Epoch 3/100\n",
      "4225/4225 [==============================] - 0s 24us/step - loss: 0.6041 - accuracy: 0.7342 - val_loss: 0.5892 - val_accuracy: 0.7360\n",
      "Epoch 4/100\n",
      "4225/4225 [==============================] - 0s 26us/step - loss: 0.5800 - accuracy: 0.7342 - val_loss: 0.5670 - val_accuracy: 0.7360\n",
      "Epoch 5/100\n",
      "4225/4225 [==============================] - 0s 24us/step - loss: 0.5608 - accuracy: 0.7342 - val_loss: 0.5506 - val_accuracy: 0.7360\n",
      "Epoch 6/100\n",
      "4225/4225 [==============================] - 0s 25us/step - loss: 0.5459 - accuracy: 0.7342 - val_loss: 0.5373 - val_accuracy: 0.7360\n",
      "Epoch 7/100\n",
      "4225/4225 [==============================] - 0s 24us/step - loss: 0.5337 - accuracy: 0.7342 - val_loss: 0.5227 - val_accuracy: 0.7360\n",
      "Epoch 8/100\n",
      "4225/4225 [==============================] - 0s 23us/step - loss: 0.5204 - accuracy: 0.7342 - val_loss: 0.5093 - val_accuracy: 0.7360\n",
      "Epoch 9/100\n",
      "4225/4225 [==============================] - 0s 22us/step - loss: 0.5080 - accuracy: 0.7342 - val_loss: 0.4969 - val_accuracy: 0.7360\n",
      "Epoch 10/100\n",
      "4225/4225 [==============================] - 0s 25us/step - loss: 0.4965 - accuracy: 0.7342 - val_loss: 0.4860 - val_accuracy: 0.7360\n",
      "Epoch 11/100\n",
      "4225/4225 [==============================] - 0s 23us/step - loss: 0.4865 - accuracy: 0.7342 - val_loss: 0.4759 - val_accuracy: 0.7360\n",
      "Epoch 12/100\n",
      "4225/4225 [==============================] - 0s 22us/step - loss: 0.4770 - accuracy: 0.7342 - val_loss: 0.4667 - val_accuracy: 0.7360\n",
      "Epoch 13/100\n",
      "4225/4225 [==============================] - 0s 22us/step - loss: 0.4684 - accuracy: 0.7342 - val_loss: 0.4585 - val_accuracy: 0.7360\n",
      "Epoch 14/100\n",
      "4225/4225 [==============================] - 0s 23us/step - loss: 0.4608 - accuracy: 0.7344 - val_loss: 0.4510 - val_accuracy: 0.7370\n",
      "Epoch 15/100\n",
      "4225/4225 [==============================] - 0s 22us/step - loss: 0.4538 - accuracy: 0.7460 - val_loss: 0.4441 - val_accuracy: 0.7673\n",
      "Epoch 16/100\n",
      "4225/4225 [==============================] - 0s 28us/step - loss: 0.4476 - accuracy: 0.7692 - val_loss: 0.4383 - val_accuracy: 0.7900\n",
      "Epoch 17/100\n",
      "4225/4225 [==============================] - 0s 33us/step - loss: 0.4422 - accuracy: 0.7867 - val_loss: 0.4325 - val_accuracy: 0.8032\n",
      "Epoch 18/100\n",
      "4225/4225 [==============================] - 0s 36us/step - loss: 0.4373 - accuracy: 0.7922 - val_loss: 0.4278 - val_accuracy: 0.8070\n",
      "Epoch 19/100\n",
      "4225/4225 [==============================] - 0s 41us/step - loss: 0.4331 - accuracy: 0.7955 - val_loss: 0.4242 - val_accuracy: 0.8098\n",
      "Epoch 20/100\n",
      "4225/4225 [==============================] - 0s 41us/step - loss: 0.4298 - accuracy: 0.7960 - val_loss: 0.4210 - val_accuracy: 0.8089\n",
      "Epoch 21/100\n",
      "4225/4225 [==============================] - 0s 41us/step - loss: 0.4270 - accuracy: 0.7988 - val_loss: 0.4190 - val_accuracy: 0.8089\n",
      "Epoch 22/100\n",
      "4225/4225 [==============================] - 0s 36us/step - loss: 0.4249 - accuracy: 0.7986 - val_loss: 0.4157 - val_accuracy: 0.8098\n",
      "Epoch 23/100\n",
      "4225/4225 [==============================] - 0s 40us/step - loss: 0.4224 - accuracy: 0.8009 - val_loss: 0.4133 - val_accuracy: 0.8098\n",
      "Epoch 24/100\n",
      "4225/4225 [==============================] - 0s 44us/step - loss: 0.4214 - accuracy: 0.8028 - val_loss: 0.4130 - val_accuracy: 0.8089\n",
      "Epoch 25/100\n",
      "4225/4225 [==============================] - 0s 40us/step - loss: 0.4202 - accuracy: 0.8031 - val_loss: 0.4107 - val_accuracy: 0.8089\n",
      "Epoch 26/100\n",
      "4225/4225 [==============================] - 0s 39us/step - loss: 0.4187 - accuracy: 0.8026 - val_loss: 0.4105 - val_accuracy: 0.8098\n",
      "Epoch 27/100\n",
      "4225/4225 [==============================] - 0s 40us/step - loss: 0.4177 - accuracy: 0.8019 - val_loss: 0.4087 - val_accuracy: 0.8117\n",
      "Epoch 28/100\n",
      "4225/4225 [==============================] - 0s 37us/step - loss: 0.4166 - accuracy: 0.8050 - val_loss: 0.4074 - val_accuracy: 0.8127\n",
      "Epoch 29/100\n",
      "4225/4225 [==============================] - 0s 39us/step - loss: 0.4157 - accuracy: 0.8062 - val_loss: 0.4067 - val_accuracy: 0.8117\n",
      "Epoch 30/100\n",
      "4225/4225 [==============================] - 0s 39us/step - loss: 0.4150 - accuracy: 0.8066 - val_loss: 0.4061 - val_accuracy: 0.8117\n",
      "Epoch 31/100\n",
      "4225/4225 [==============================] - 0s 39us/step - loss: 0.4144 - accuracy: 0.8073 - val_loss: 0.4058 - val_accuracy: 0.8127\n",
      "Epoch 32/100\n",
      "4225/4225 [==============================] - 0s 39us/step - loss: 0.4139 - accuracy: 0.8071 - val_loss: 0.4069 - val_accuracy: 0.8108\n",
      "Epoch 33/100\n",
      "4225/4225 [==============================] - 0s 39us/step - loss: 0.4137 - accuracy: 0.8071 - val_loss: 0.4059 - val_accuracy: 0.8136\n",
      "Epoch 34/100\n",
      "4225/4225 [==============================] - 0s 40us/step - loss: 0.4131 - accuracy: 0.8092 - val_loss: 0.4052 - val_accuracy: 0.8146\n",
      "Epoch 35/100\n",
      "4225/4225 [==============================] - 0s 37us/step - loss: 0.4127 - accuracy: 0.8092 - val_loss: 0.4052 - val_accuracy: 0.8155\n",
      "Epoch 36/100\n",
      "4225/4225 [==============================] - 0s 41us/step - loss: 0.4123 - accuracy: 0.8097 - val_loss: 0.4046 - val_accuracy: 0.8146\n",
      "Epoch 37/100\n",
      "4225/4225 [==============================] - 0s 42us/step - loss: 0.4119 - accuracy: 0.8078 - val_loss: 0.4054 - val_accuracy: 0.8146\n",
      "Epoch 38/100\n",
      "4225/4225 [==============================] - 0s 43us/step - loss: 0.4116 - accuracy: 0.8090 - val_loss: 0.4031 - val_accuracy: 0.8184\n",
      "Epoch 39/100\n",
      "4225/4225 [==============================] - 0s 40us/step - loss: 0.4116 - accuracy: 0.8085 - val_loss: 0.4032 - val_accuracy: 0.8165\n",
      "Epoch 40/100\n",
      "4225/4225 [==============================] - 0s 42us/step - loss: 0.4116 - accuracy: 0.8097 - val_loss: 0.4034 - val_accuracy: 0.8146\n",
      "Epoch 41/100\n",
      "4225/4225 [==============================] - 0s 42us/step - loss: 0.4107 - accuracy: 0.8090 - val_loss: 0.4044 - val_accuracy: 0.8155\n",
      "Epoch 42/100\n",
      "4225/4225 [==============================] - 0s 38us/step - loss: 0.4105 - accuracy: 0.8088 - val_loss: 0.4039 - val_accuracy: 0.8146\n",
      "Epoch 43/100\n",
      "4225/4225 [==============================] - 0s 41us/step - loss: 0.4102 - accuracy: 0.8088 - val_loss: 0.4028 - val_accuracy: 0.8155\n",
      "Epoch 44/100\n",
      "4225/4225 [==============================] - 0s 43us/step - loss: 0.4099 - accuracy: 0.8073 - val_loss: 0.4029 - val_accuracy: 0.8165\n",
      "Epoch 45/100\n",
      "4225/4225 [==============================] - 0s 40us/step - loss: 0.4097 - accuracy: 0.8083 - val_loss: 0.4026 - val_accuracy: 0.8146\n",
      "Epoch 46/100\n",
      "4225/4225 [==============================] - 0s 41us/step - loss: 0.4095 - accuracy: 0.8073 - val_loss: 0.4034 - val_accuracy: 0.8165\n",
      "Epoch 47/100\n",
      "4225/4225 [==============================] - 0s 40us/step - loss: 0.4094 - accuracy: 0.8088 - val_loss: 0.4032 - val_accuracy: 0.8174\n",
      "Epoch 48/100\n",
      "4225/4225 [==============================] - 0s 38us/step - loss: 0.4091 - accuracy: 0.8071 - val_loss: 0.4023 - val_accuracy: 0.8136\n",
      "Epoch 49/100\n",
      "4225/4225 [==============================] - 0s 43us/step - loss: 0.4090 - accuracy: 0.8090 - val_loss: 0.4046 - val_accuracy: 0.8193\n",
      "Epoch 50/100\n",
      "4225/4225 [==============================] - 0s 39us/step - loss: 0.4087 - accuracy: 0.8090 - val_loss: 0.4031 - val_accuracy: 0.8165\n",
      "Epoch 51/100\n",
      "4225/4225 [==============================] - 0s 40us/step - loss: 0.4086 - accuracy: 0.8097 - val_loss: 0.4032 - val_accuracy: 0.8165\n",
      "Epoch 52/100\n",
      "4225/4225 [==============================] - 0s 39us/step - loss: 0.4084 - accuracy: 0.8088 - val_loss: 0.4063 - val_accuracy: 0.8193\n",
      "Epoch 53/100\n",
      "4225/4225 [==============================] - 0s 34us/step - loss: 0.4088 - accuracy: 0.8088 - val_loss: 0.4048 - val_accuracy: 0.8165\n",
      "Epoch 54/100\n",
      "4225/4225 [==============================] - 0s 39us/step - loss: 0.4083 - accuracy: 0.8099 - val_loss: 0.4043 - val_accuracy: 0.8174\n",
      "Epoch 55/100\n",
      "4225/4225 [==============================] - 0s 38us/step - loss: 0.4081 - accuracy: 0.8097 - val_loss: 0.4040 - val_accuracy: 0.8184\n",
      "Epoch 56/100\n",
      "4225/4225 [==============================] - 0s 41us/step - loss: 0.4079 - accuracy: 0.8099 - val_loss: 0.4046 - val_accuracy: 0.8184\n",
      "Epoch 57/100\n",
      "4225/4225 [==============================] - 0s 42us/step - loss: 0.4077 - accuracy: 0.8095 - val_loss: 0.4030 - val_accuracy: 0.8146\n",
      "Epoch 58/100\n",
      "4225/4225 [==============================] - 0s 43us/step - loss: 0.4089 - accuracy: 0.8095 - val_loss: 0.4036 - val_accuracy: 0.8165\n",
      "Epoch 59/100\n",
      "4225/4225 [==============================] - 0s 41us/step - loss: 0.4078 - accuracy: 0.8116 - val_loss: 0.4035 - val_accuracy: 0.8165\n",
      "Epoch 60/100\n",
      "4225/4225 [==============================] - 0s 41us/step - loss: 0.4075 - accuracy: 0.8097 - val_loss: 0.4031 - val_accuracy: 0.8155\n",
      "Epoch 61/100\n",
      "4225/4225 [==============================] - 0s 36us/step - loss: 0.4073 - accuracy: 0.8118 - val_loss: 0.4041 - val_accuracy: 0.8174\n",
      "Epoch 62/100\n",
      "4225/4225 [==============================] - 0s 40us/step - loss: 0.4073 - accuracy: 0.8095 - val_loss: 0.4032 - val_accuracy: 0.8165\n",
      "Epoch 63/100\n",
      "4225/4225 [==============================] - 0s 39us/step - loss: 0.4071 - accuracy: 0.8107 - val_loss: 0.4059 - val_accuracy: 0.8146\n",
      "Epoch 64/100\n",
      "4225/4225 [==============================] - 0s 38us/step - loss: 0.4074 - accuracy: 0.8095 - val_loss: 0.4055 - val_accuracy: 0.8165\n",
      "Epoch 65/100\n",
      "4225/4225 [==============================] - 0s 41us/step - loss: 0.4069 - accuracy: 0.8085 - val_loss: 0.4039 - val_accuracy: 0.8146\n",
      "Epoch 66/100\n",
      "4225/4225 [==============================] - 0s 37us/step - loss: 0.4069 - accuracy: 0.8109 - val_loss: 0.4035 - val_accuracy: 0.8155\n",
      "Epoch 67/100\n",
      "4225/4225 [==============================] - 0s 40us/step - loss: 0.4068 - accuracy: 0.8085 - val_loss: 0.4050 - val_accuracy: 0.8136\n",
      "Epoch 68/100\n",
      "4225/4225 [==============================] - 0s 40us/step - loss: 0.4068 - accuracy: 0.8102 - val_loss: 0.4042 - val_accuracy: 0.8146\n",
      "Epoch 69/100\n",
      "4225/4225 [==============================] - 0s 38us/step - loss: 0.4067 - accuracy: 0.8102 - val_loss: 0.4047 - val_accuracy: 0.8146\n",
      "Epoch 70/100\n",
      "4225/4225 [==============================] - 0s 39us/step - loss: 0.4063 - accuracy: 0.8104 - val_loss: 0.4020 - val_accuracy: 0.8146\n",
      "Epoch 71/100\n",
      "4225/4225 [==============================] - 0s 38us/step - loss: 0.4065 - accuracy: 0.8114 - val_loss: 0.4036 - val_accuracy: 0.8165\n",
      "Epoch 72/100\n",
      "4225/4225 [==============================] - 0s 39us/step - loss: 0.4063 - accuracy: 0.8107 - val_loss: 0.4030 - val_accuracy: 0.8136\n",
      "Epoch 73/100\n",
      "4225/4225 [==============================] - 0s 39us/step - loss: 0.4062 - accuracy: 0.8104 - val_loss: 0.4030 - val_accuracy: 0.8146\n",
      "Epoch 74/100\n",
      "4225/4225 [==============================] - 0s 38us/step - loss: 0.4061 - accuracy: 0.8109 - val_loss: 0.4038 - val_accuracy: 0.8146\n",
      "Epoch 75/100\n",
      "4225/4225 [==============================] - 0s 40us/step - loss: 0.4060 - accuracy: 0.8102 - val_loss: 0.4022 - val_accuracy: 0.8146\n",
      "Epoch 76/100\n",
      "4225/4225 [==============================] - 0s 37us/step - loss: 0.4061 - accuracy: 0.8107 - val_loss: 0.4022 - val_accuracy: 0.8146\n",
      "Epoch 77/100\n",
      "4225/4225 [==============================] - 0s 39us/step - loss: 0.4059 - accuracy: 0.8116 - val_loss: 0.4049 - val_accuracy: 0.8146\n",
      "Epoch 78/100\n",
      "4225/4225 [==============================] - 0s 42us/step - loss: 0.4061 - accuracy: 0.8097 - val_loss: 0.4049 - val_accuracy: 0.8136\n",
      "Epoch 79/100\n",
      "4225/4225 [==============================] - 0s 38us/step - loss: 0.4059 - accuracy: 0.8097 - val_loss: 0.4034 - val_accuracy: 0.8165\n",
      "Epoch 80/100\n",
      "4225/4225 [==============================] - 0s 39us/step - loss: 0.4057 - accuracy: 0.8109 - val_loss: 0.4042 - val_accuracy: 0.8146\n",
      "Epoch 81/100\n",
      "4225/4225 [==============================] - 0s 39us/step - loss: 0.4057 - accuracy: 0.8102 - val_loss: 0.4038 - val_accuracy: 0.8136\n",
      "Epoch 82/100\n",
      "4225/4225 [==============================] - 0s 38us/step - loss: 0.4056 - accuracy: 0.8118 - val_loss: 0.4032 - val_accuracy: 0.8136\n",
      "Epoch 83/100\n",
      "4225/4225 [==============================] - 0s 41us/step - loss: 0.4055 - accuracy: 0.8111 - val_loss: 0.4059 - val_accuracy: 0.8136\n",
      "Epoch 84/100\n",
      "4225/4225 [==============================] - 0s 39us/step - loss: 0.4056 - accuracy: 0.8116 - val_loss: 0.4040 - val_accuracy: 0.8127\n",
      "Epoch 85/100\n",
      "4225/4225 [==============================] - 0s 42us/step - loss: 0.4054 - accuracy: 0.8114 - val_loss: 0.4032 - val_accuracy: 0.8136\n",
      "Epoch 86/100\n",
      "4225/4225 [==============================] - 0s 40us/step - loss: 0.4054 - accuracy: 0.8102 - val_loss: 0.4041 - val_accuracy: 0.8127\n",
      "Epoch 87/100\n",
      "4225/4225 [==============================] - 0s 39us/step - loss: 0.4053 - accuracy: 0.8092 - val_loss: 0.4029 - val_accuracy: 0.8136\n",
      "Epoch 88/100\n",
      "4225/4225 [==============================] - 0s 39us/step - loss: 0.4054 - accuracy: 0.8111 - val_loss: 0.4029 - val_accuracy: 0.8136\n",
      "Epoch 89/100\n",
      "4225/4225 [==============================] - 0s 43us/step - loss: 0.4055 - accuracy: 0.8099 - val_loss: 0.4040 - val_accuracy: 0.8136\n",
      "Epoch 90/100\n",
      "4225/4225 [==============================] - 0s 39us/step - loss: 0.4052 - accuracy: 0.8111 - val_loss: 0.4054 - val_accuracy: 0.8155\n",
      "Epoch 91/100\n",
      "4225/4225 [==============================] - 0s 38us/step - loss: 0.4052 - accuracy: 0.8090 - val_loss: 0.4041 - val_accuracy: 0.8136\n",
      "Epoch 92/100\n",
      "4225/4225 [==============================] - 0s 38us/step - loss: 0.4050 - accuracy: 0.8109 - val_loss: 0.4060 - val_accuracy: 0.8146\n",
      "Epoch 93/100\n",
      "4225/4225 [==============================] - 0s 40us/step - loss: 0.4052 - accuracy: 0.8104 - val_loss: 0.4048 - val_accuracy: 0.8136\n",
      "Epoch 94/100\n",
      "4225/4225 [==============================] - 0s 38us/step - loss: 0.4050 - accuracy: 0.8109 - val_loss: 0.4043 - val_accuracy: 0.8127\n",
      "Epoch 95/100\n",
      "4225/4225 [==============================] - 0s 41us/step - loss: 0.4050 - accuracy: 0.8114 - val_loss: 0.4042 - val_accuracy: 0.8108\n",
      "Epoch 96/100\n",
      "4225/4225 [==============================] - 0s 42us/step - loss: 0.4049 - accuracy: 0.8107 - val_loss: 0.4079 - val_accuracy: 0.8127\n",
      "Epoch 97/100\n",
      "4225/4225 [==============================] - 0s 40us/step - loss: 0.4053 - accuracy: 0.8090 - val_loss: 0.4031 - val_accuracy: 0.8184\n",
      "Epoch 98/100\n",
      "4225/4225 [==============================] - 0s 40us/step - loss: 0.4050 - accuracy: 0.8111 - val_loss: 0.4048 - val_accuracy: 0.8155\n",
      "Epoch 99/100\n",
      "4225/4225 [==============================] - 0s 37us/step - loss: 0.4056 - accuracy: 0.8085 - val_loss: 0.4054 - val_accuracy: 0.8127\n",
      "Epoch 100/100\n",
      "4225/4225 [==============================] - 0s 39us/step - loss: 0.4048 - accuracy: 0.8109 - val_loss: 0.4043 - val_accuracy: 0.8136\n"
     ]
    }
   ],
   "source": [
    "model2_history = model2.fit(X_train_preprocessed_arr, y_train, epochs=100, batch_size=64, validation_split=0.2)"
   ]
  },
  {
   "cell_type": "code",
   "execution_count": 66,
   "metadata": {},
   "outputs": [
    {
     "data": {
      "image/png": "[encoded data removed]",
      "text/plain": [
       "<Figure size 600x400 with 1 Axes>"
      ]
     },
     "metadata": {},
     "output_type": "display_data"
    }
   ],
   "source": [
    "from matplotlib import pyplot as plt\n",
    "plt.plot(model2_history.history['accuracy'])\n",
    "plt.plot(model2_history.history['val_accuracy'])\n",
    "plt.title('Accuracy Plot')\n",
    "plt.ylabel('Accuracy')\n",
    "plt.xlabel('Epoch')\n",
    "plt.legend(['Train', 'Validation'])\n",
    "plt.show()"
   ]
  },
  {
   "cell_type": "code",
   "execution_count": 67,
   "metadata": {},
   "outputs": [
    {
     "data": {
      "image/png": "[encoded data removed]",
      "text/plain": [
       "<Figure size 600x400 with 1 Axes>"
      ]
     },
     "metadata": {},
     "output_type": "display_data"
    }
   ],
   "source": [
    "plt.plot(model2_history.history['loss'])\n",
    "plt.plot(model2_history.history['val_loss'])\n",
    "plt.title('Loss Function Plot')\n",
    "plt.ylabel('Loss')\n",
    "plt.xlabel('Epoch')\n",
    "plt.legend(['Train', 'Validation'])\n",
    "plt.show()"
   ]
  },
  {
   "cell_type": "code",
   "execution_count": 68,
   "metadata": {},
   "outputs": [
    {
     "name": "stdout",
     "output_type": "stream",
     "text": [
      "[[3498  382]\n",
      " [ 613  789]]\n",
      "[[1168  126]\n",
      " [ 222  245]]\n",
      "Train Accuracy:  0.8116243847027641\n",
      "Train Recall:  0.5627674750356634\n",
      "Train Precision:  0.6737830913748932\n",
      "-----------------------\n",
      "Val Accuracy:  0.8023850085178875\n",
      "Val Recall:  0.5246252676659529\n",
      "Val Precision:  0.660377358490566\n"
     ]
    }
   ],
   "source": [
    "val_pred = model2.predict_classes(X_val_preprocessed_arr)\n",
    "train_pred = model2.predict_classes(X_train_preprocessed_arr)\n",
    "\n",
    "confusion_matrix_val = confusion_matrix(y_val, val_pred)\n",
    "confusion_matrix_train = confusion_matrix(y_train, train_pred)\n",
    "\n",
    "print(confusion_matrix_train)\n",
    "print(confusion_matrix_val)\n",
    "\n",
    "from sklearn.metrics import accuracy_score,recall_score,confusion_matrix,f1_score,precision_score\n",
    "accuracy_score_train = accuracy_score(y_train, train_pred)\n",
    "accuracy_score_val = accuracy_score(y_val, val_pred)\n",
    "\n",
    "recall_score_train = recall_score(y_train, train_pred)\n",
    "recall_score_val = recall_score(y_val, val_pred)\n",
    "\n",
    "precision_score_train = precision_score(y_train, train_pred)\n",
    "precision_score_val = precision_score(y_val, val_pred)\n",
    "\n",
    "\n",
    "print(\"Train Accuracy: \",accuracy_score_train)\n",
    "print(\"Train Recall: \",recall_score_train)\n",
    "print(\"Train Precision: \",precision_score_train)\n",
    "\n",
    "print(\"-----------------------\")\n",
    "\n",
    "print(\"Val Accuracy: \",accuracy_score_val)\n",
    "print(\"Val Recall: \",recall_score_val)\n",
    "print(\"Val Precision: \",precision_score_val)"
   ]
  },
  {
   "cell_type": "markdown",
   "metadata": {},
   "source": [
    "### Model - 3 (MLP with 2 layers)\n",
    "#### Activation function - relu and 25 neurons in hidden layer and 'Adam' as optimization"
   ]
  },
  {
   "cell_type": "code",
   "execution_count": 71,
   "metadata": {},
   "outputs": [],
   "source": [
    "model3 = Sequential()\n",
    "\n",
    "model3.add(Dense(25, input_shape=(47,), activation='relu', kernel_initializer='normal'))\n",
    "model3.add(Dense(1, activation='sigmoid', kernel_initializer='normal'))\n",
    "\n",
    "opt = keras.optimizers.Adam(learning_rate=0.01)\n",
    "model3.compile(loss = 'binary_crossentropy', optimizer = opt, metrics = ['accuracy'])"
   ]
  },
  {
   "cell_type": "code",
   "execution_count": 72,
   "metadata": {},
   "outputs": [
    {
     "name": "stdout",
     "output_type": "stream",
     "text": [
      "Train on 4225 samples, validate on 1057 samples\n",
      "Epoch 1/100\n",
      "4225/4225 [==============================] - 0s 62us/step - loss: 0.4555 - accuracy: 0.7837 - val_loss: 0.4121 - val_accuracy: 0.8098\n",
      "Epoch 2/100\n",
      "4225/4225 [==============================] - 0s 27us/step - loss: 0.4127 - accuracy: 0.8033 - val_loss: 0.4281 - val_accuracy: 0.8051\n",
      "Epoch 3/100\n",
      "4225/4225 [==============================] - 0s 29us/step - loss: 0.4165 - accuracy: 0.8012 - val_loss: 0.4171 - val_accuracy: 0.8023\n",
      "Epoch 4/100\n",
      "4225/4225 [==============================] - 0s 26us/step - loss: 0.4112 - accuracy: 0.8038 - val_loss: 0.4296 - val_accuracy: 0.8004\n",
      "Epoch 5/100\n",
      "4225/4225 [==============================] - 0s 23us/step - loss: 0.4096 - accuracy: 0.8071 - val_loss: 0.4089 - val_accuracy: 0.8155\n",
      "Epoch 6/100\n",
      "4225/4225 [==============================] - 0s 24us/step - loss: 0.4111 - accuracy: 0.8017 - val_loss: 0.4093 - val_accuracy: 0.8098\n",
      "Epoch 7/100\n",
      "4225/4225 [==============================] - 0s 29us/step - loss: 0.4097 - accuracy: 0.8069 - val_loss: 0.4073 - val_accuracy: 0.8117\n",
      "Epoch 8/100\n",
      "4225/4225 [==============================] - 0s 23us/step - loss: 0.4175 - accuracy: 0.8066 - val_loss: 0.4118 - val_accuracy: 0.8155\n",
      "Epoch 9/100\n",
      "4225/4225 [==============================] - 0s 21us/step - loss: 0.4061 - accuracy: 0.8088 - val_loss: 0.4101 - val_accuracy: 0.8051\n",
      "Epoch 10/100\n",
      "4225/4225 [==============================] - 0s 30us/step - loss: 0.4057 - accuracy: 0.8064 - val_loss: 0.4140 - val_accuracy: 0.8089\n",
      "Epoch 11/100\n",
      "4225/4225 [==============================] - 0s 33us/step - loss: 0.4089 - accuracy: 0.8062 - val_loss: 0.4109 - val_accuracy: 0.8221\n",
      "Epoch 12/100\n",
      "4225/4225 [==============================] - 0s 27us/step - loss: 0.4032 - accuracy: 0.8059 - val_loss: 0.4093 - val_accuracy: 0.8193\n",
      "Epoch 13/100\n",
      "4225/4225 [==============================] - 0s 27us/step - loss: 0.4038 - accuracy: 0.8078 - val_loss: 0.4181 - val_accuracy: 0.8098\n",
      "Epoch 14/100\n",
      "4225/4225 [==============================] - 0s 22us/step - loss: 0.4202 - accuracy: 0.8014 - val_loss: 0.4136 - val_accuracy: 0.8136\n",
      "Epoch 15/100\n",
      "4225/4225 [==============================] - 0s 33us/step - loss: 0.4039 - accuracy: 0.8078 - val_loss: 0.4204 - val_accuracy: 0.8051\n",
      "Epoch 16/100\n",
      "4225/4225 [==============================] - 0s 30us/step - loss: 0.4044 - accuracy: 0.8021 - val_loss: 0.4163 - val_accuracy: 0.8051\n",
      "Epoch 17/100\n",
      "4225/4225 [==============================] - 0s 28us/step - loss: 0.4044 - accuracy: 0.8059 - val_loss: 0.4129 - val_accuracy: 0.8051\n",
      "Epoch 18/100\n",
      "4225/4225 [==============================] - 0s 32us/step - loss: 0.4015 - accuracy: 0.8102 - val_loss: 0.4117 - val_accuracy: 0.8155\n",
      "Epoch 19/100\n",
      "4225/4225 [==============================] - 0s 25us/step - loss: 0.4014 - accuracy: 0.8071 - val_loss: 0.4202 - val_accuracy: 0.8070\n",
      "Epoch 20/100\n",
      "4225/4225 [==============================] - 0s 23us/step - loss: 0.4054 - accuracy: 0.8107 - val_loss: 0.4144 - val_accuracy: 0.8165\n",
      "Epoch 21/100\n",
      "4225/4225 [==============================] - 0s 27us/step - loss: 0.4012 - accuracy: 0.8062 - val_loss: 0.4148 - val_accuracy: 0.8061\n",
      "Epoch 22/100\n",
      "4225/4225 [==============================] - 0s 22us/step - loss: 0.3983 - accuracy: 0.8097 - val_loss: 0.4122 - val_accuracy: 0.8042\n",
      "Epoch 23/100\n",
      "4225/4225 [==============================] - 0s 25us/step - loss: 0.3991 - accuracy: 0.8085 - val_loss: 0.4092 - val_accuracy: 0.8079\n",
      "Epoch 24/100\n",
      "4225/4225 [==============================] - 0s 21us/step - loss: 0.3967 - accuracy: 0.8104 - val_loss: 0.4123 - val_accuracy: 0.8117\n",
      "Epoch 25/100\n",
      "4225/4225 [==============================] - 0s 24us/step - loss: 0.3945 - accuracy: 0.8114 - val_loss: 0.4194 - val_accuracy: 0.8098\n",
      "Epoch 26/100\n",
      "4225/4225 [==============================] - 0s 27us/step - loss: 0.3952 - accuracy: 0.8116 - val_loss: 0.4148 - val_accuracy: 0.8127\n",
      "Epoch 27/100\n",
      "4225/4225 [==============================] - 0s 29us/step - loss: 0.4039 - accuracy: 0.8083 - val_loss: 0.4183 - val_accuracy: 0.8127\n",
      "Epoch 28/100\n",
      "4225/4225 [==============================] - 0s 22us/step - loss: 0.3970 - accuracy: 0.8111 - val_loss: 0.4317 - val_accuracy: 0.8032\n",
      "Epoch 29/100\n",
      "4225/4225 [==============================] - 0s 28us/step - loss: 0.3964 - accuracy: 0.8085 - val_loss: 0.4173 - val_accuracy: 0.8061\n",
      "Epoch 30/100\n",
      "4225/4225 [==============================] - 0s 28us/step - loss: 0.3939 - accuracy: 0.8128 - val_loss: 0.4174 - val_accuracy: 0.8032\n",
      "Epoch 31/100\n",
      "4225/4225 [==============================] - 0s 28us/step - loss: 0.3932 - accuracy: 0.8114 - val_loss: 0.4190 - val_accuracy: 0.8127\n",
      "Epoch 32/100\n",
      "4225/4225 [==============================] - 0s 27us/step - loss: 0.4105 - accuracy: 0.8062 - val_loss: 0.4331 - val_accuracy: 0.8032\n",
      "Epoch 33/100\n",
      "4225/4225 [==============================] - 0s 25us/step - loss: 0.3952 - accuracy: 0.8097 - val_loss: 0.4273 - val_accuracy: 0.8042\n",
      "Epoch 34/100\n",
      "4225/4225 [==============================] - 0s 30us/step - loss: 0.3912 - accuracy: 0.8135 - val_loss: 0.4397 - val_accuracy: 0.8061\n",
      "Epoch 35/100\n",
      "4225/4225 [==============================] - 0s 27us/step - loss: 0.3955 - accuracy: 0.8097 - val_loss: 0.4210 - val_accuracy: 0.8108\n",
      "Epoch 36/100\n",
      "4225/4225 [==============================] - 0s 25us/step - loss: 0.3911 - accuracy: 0.8130 - val_loss: 0.4206 - val_accuracy: 0.8061\n",
      "Epoch 37/100\n",
      "4225/4225 [==============================] - 0s 24us/step - loss: 0.3917 - accuracy: 0.8111 - val_loss: 0.4276 - val_accuracy: 0.8089\n",
      "Epoch 38/100\n",
      "4225/4225 [==============================] - 0s 31us/step - loss: 0.3883 - accuracy: 0.8159 - val_loss: 0.4250 - val_accuracy: 0.8051\n",
      "Epoch 39/100\n",
      "4225/4225 [==============================] - 0s 29us/step - loss: 0.3864 - accuracy: 0.8173 - val_loss: 0.4389 - val_accuracy: 0.8013\n",
      "Epoch 40/100\n",
      "4225/4225 [==============================] - 0s 29us/step - loss: 0.3914 - accuracy: 0.8142 - val_loss: 0.4284 - val_accuracy: 0.8070\n",
      "Epoch 41/100\n",
      "4225/4225 [==============================] - 0s 27us/step - loss: 0.3857 - accuracy: 0.8166 - val_loss: 0.4283 - val_accuracy: 0.8061\n",
      "Epoch 42/100\n",
      "4225/4225 [==============================] - 0s 24us/step - loss: 0.3849 - accuracy: 0.8142 - val_loss: 0.4325 - val_accuracy: 0.8061\n",
      "Epoch 43/100\n",
      "4225/4225 [==============================] - 0s 21us/step - loss: 0.3830 - accuracy: 0.8140 - val_loss: 0.4316 - val_accuracy: 0.8032\n",
      "Epoch 44/100\n",
      "4225/4225 [==============================] - 0s 32us/step - loss: 0.3837 - accuracy: 0.8170 - val_loss: 0.4383 - val_accuracy: 0.8079\n",
      "Epoch 45/100\n",
      "4225/4225 [==============================] - 0s 35us/step - loss: 0.3820 - accuracy: 0.8137 - val_loss: 0.4458 - val_accuracy: 0.8079\n",
      "Epoch 46/100\n",
      "4225/4225 [==============================] - 0s 27us/step - loss: 0.3866 - accuracy: 0.8140 - val_loss: 0.4385 - val_accuracy: 0.8070\n",
      "Epoch 47/100\n",
      "4225/4225 [==============================] - 0s 29us/step - loss: 0.3816 - accuracy: 0.8194 - val_loss: 0.4381 - val_accuracy: 0.8070\n",
      "Epoch 48/100\n",
      "4225/4225 [==============================] - 0s 38us/step - loss: 0.3803 - accuracy: 0.8170 - val_loss: 0.4363 - val_accuracy: 0.8023\n",
      "Epoch 49/100\n",
      "4225/4225 [==============================] - 0s 36us/step - loss: 0.3793 - accuracy: 0.8189 - val_loss: 0.4439 - val_accuracy: 0.8013\n",
      "Epoch 50/100\n",
      "4225/4225 [==============================] - 0s 26us/step - loss: 0.3798 - accuracy: 0.8192 - val_loss: 0.4390 - val_accuracy: 0.8051\n",
      "Epoch 51/100\n",
      "4225/4225 [==============================] - 0s 25us/step - loss: 0.3812 - accuracy: 0.8168 - val_loss: 0.4379 - val_accuracy: 0.8051\n",
      "Epoch 52/100\n",
      "4225/4225 [==============================] - 0s 30us/step - loss: 0.3763 - accuracy: 0.8225 - val_loss: 0.4447 - val_accuracy: 0.8051\n",
      "Epoch 53/100\n",
      "4225/4225 [==============================] - 0s 33us/step - loss: 0.3761 - accuracy: 0.8215 - val_loss: 0.4396 - val_accuracy: 0.7947\n",
      "Epoch 54/100\n",
      "4225/4225 [==============================] - 0s 36us/step - loss: 0.3867 - accuracy: 0.8182 - val_loss: 0.4397 - val_accuracy: 0.8013\n",
      "Epoch 55/100\n",
      "4225/4225 [==============================] - 0s 30us/step - loss: 0.3778 - accuracy: 0.8211 - val_loss: 0.4425 - val_accuracy: 0.7975\n",
      "Epoch 56/100\n",
      "4225/4225 [==============================] - 0s 28us/step - loss: 0.3771 - accuracy: 0.8189 - val_loss: 0.4388 - val_accuracy: 0.8061\n",
      "Epoch 57/100\n",
      "4225/4225 [==============================] - 0s 28us/step - loss: 0.3741 - accuracy: 0.8204 - val_loss: 0.4481 - val_accuracy: 0.8079\n",
      "Epoch 58/100\n",
      "4225/4225 [==============================] - 0s 23us/step - loss: 0.3732 - accuracy: 0.8218 - val_loss: 0.4458 - val_accuracy: 0.8013\n",
      "Epoch 59/100\n",
      "4225/4225 [==============================] - 0s 24us/step - loss: 0.3726 - accuracy: 0.8230 - val_loss: 0.4591 - val_accuracy: 0.8061\n",
      "Epoch 60/100\n",
      "4225/4225 [==============================] - 0s 25us/step - loss: 0.3848 - accuracy: 0.8133 - val_loss: 0.4465 - val_accuracy: 0.8061\n",
      "Epoch 61/100\n",
      "4225/4225 [==============================] - 0s 27us/step - loss: 0.3734 - accuracy: 0.8211 - val_loss: 0.4477 - val_accuracy: 0.7938\n",
      "Epoch 62/100\n",
      "4225/4225 [==============================] - 0s 35us/step - loss: 0.3711 - accuracy: 0.8251 - val_loss: 0.4566 - val_accuracy: 0.7985\n",
      "Epoch 63/100\n",
      "4225/4225 [==============================] - 0s 32us/step - loss: 0.3716 - accuracy: 0.8196 - val_loss: 0.4501 - val_accuracy: 0.7966\n",
      "Epoch 64/100\n",
      "4225/4225 [==============================] - 0s 32us/step - loss: 0.3674 - accuracy: 0.8237 - val_loss: 0.4541 - val_accuracy: 0.8061\n",
      "Epoch 65/100\n",
      "4225/4225 [==============================] - 0s 26us/step - loss: 0.3664 - accuracy: 0.8253 - val_loss: 0.4550 - val_accuracy: 0.8023\n",
      "Epoch 66/100\n",
      "4225/4225 [==============================] - 0s 31us/step - loss: 0.3685 - accuracy: 0.8258 - val_loss: 0.4627 - val_accuracy: 0.8004\n",
      "Epoch 67/100\n",
      "4225/4225 [==============================] - 0s 28us/step - loss: 0.3705 - accuracy: 0.8163 - val_loss: 0.4653 - val_accuracy: 0.8098\n",
      "Epoch 68/100\n",
      "4225/4225 [==============================] - 0s 28us/step - loss: 0.3685 - accuracy: 0.8215 - val_loss: 0.4634 - val_accuracy: 0.8127\n",
      "Epoch 69/100\n",
      "4225/4225 [==============================] - 0s 30us/step - loss: 0.3663 - accuracy: 0.8246 - val_loss: 0.4594 - val_accuracy: 0.7994\n",
      "Epoch 70/100\n",
      "4225/4225 [==============================] - 0s 28us/step - loss: 0.3685 - accuracy: 0.8220 - val_loss: 0.4610 - val_accuracy: 0.8042\n",
      "Epoch 71/100\n",
      "4225/4225 [==============================] - 0s 34us/step - loss: 0.3699 - accuracy: 0.8175 - val_loss: 0.4722 - val_accuracy: 0.8042\n",
      "Epoch 72/100\n",
      "4225/4225 [==============================] - 0s 33us/step - loss: 0.3693 - accuracy: 0.8208 - val_loss: 0.4670 - val_accuracy: 0.8051\n",
      "Epoch 73/100\n",
      "4225/4225 [==============================] - 0s 25us/step - loss: 0.3652 - accuracy: 0.8232 - val_loss: 0.4684 - val_accuracy: 0.7909\n",
      "Epoch 74/100\n",
      "4225/4225 [==============================] - 0s 26us/step - loss: 0.3671 - accuracy: 0.8211 - val_loss: 0.4810 - val_accuracy: 0.8051\n",
      "Epoch 75/100\n",
      "4225/4225 [==============================] - 0s 31us/step - loss: 0.3628 - accuracy: 0.8225 - val_loss: 0.4824 - val_accuracy: 0.7994\n",
      "Epoch 76/100\n",
      "4225/4225 [==============================] - 0s 30us/step - loss: 0.3697 - accuracy: 0.8192 - val_loss: 0.4668 - val_accuracy: 0.7966\n",
      "Epoch 77/100\n",
      "4225/4225 [==============================] - 0s 25us/step - loss: 0.3603 - accuracy: 0.8246 - val_loss: 0.4780 - val_accuracy: 0.8079\n",
      "Epoch 78/100\n",
      "4225/4225 [==============================] - 0s 24us/step - loss: 0.3583 - accuracy: 0.8234 - val_loss: 0.4772 - val_accuracy: 0.8032\n",
      "Epoch 79/100\n",
      "4225/4225 [==============================] - 0s 25us/step - loss: 0.3641 - accuracy: 0.8230 - val_loss: 0.4868 - val_accuracy: 0.7994\n",
      "Epoch 80/100\n",
      "4225/4225 [==============================] - 0s 31us/step - loss: 0.3608 - accuracy: 0.8234 - val_loss: 0.4930 - val_accuracy: 0.8032\n",
      "Epoch 81/100\n",
      "4225/4225 [==============================] - 0s 29us/step - loss: 0.3598 - accuracy: 0.8249 - val_loss: 0.4936 - val_accuracy: 0.8051\n",
      "Epoch 82/100\n",
      "4225/4225 [==============================] - 0s 26us/step - loss: 0.3549 - accuracy: 0.8279 - val_loss: 0.4874 - val_accuracy: 0.7947\n",
      "Epoch 83/100\n",
      "4225/4225 [==============================] - 0s 34us/step - loss: 0.3569 - accuracy: 0.8234 - val_loss: 0.4889 - val_accuracy: 0.8004\n",
      "Epoch 84/100\n",
      "4225/4225 [==============================] - 0s 35us/step - loss: 0.3529 - accuracy: 0.8322 - val_loss: 0.4912 - val_accuracy: 0.7890\n",
      "Epoch 85/100\n",
      "4225/4225 [==============================] - 0s 33us/step - loss: 0.3678 - accuracy: 0.8241 - val_loss: 0.4806 - val_accuracy: 0.7900\n",
      "Epoch 86/100\n",
      "4225/4225 [==============================] - 0s 30us/step - loss: 0.3633 - accuracy: 0.8232 - val_loss: 0.4960 - val_accuracy: 0.7928\n",
      "Epoch 87/100\n",
      "4225/4225 [==============================] - 0s 25us/step - loss: 0.3669 - accuracy: 0.8249 - val_loss: 0.4906 - val_accuracy: 0.7881\n",
      "Epoch 88/100\n",
      "4225/4225 [==============================] - 0s 30us/step - loss: 0.3573 - accuracy: 0.8230 - val_loss: 0.4960 - val_accuracy: 0.8004\n",
      "Epoch 89/100\n",
      "4225/4225 [==============================] - 0s 28us/step - loss: 0.3535 - accuracy: 0.8284 - val_loss: 0.4986 - val_accuracy: 0.8032\n",
      "Epoch 90/100\n",
      "4225/4225 [==============================] - 0s 24us/step - loss: 0.3542 - accuracy: 0.8263 - val_loss: 0.5008 - val_accuracy: 0.7890\n",
      "Epoch 91/100\n",
      "4225/4225 [==============================] - 0s 25us/step - loss: 0.3519 - accuracy: 0.8286 - val_loss: 0.5086 - val_accuracy: 0.7966\n",
      "Epoch 92/100\n",
      "4225/4225 [==============================] - 0s 32us/step - loss: 0.3512 - accuracy: 0.8267 - val_loss: 0.5130 - val_accuracy: 0.7852\n",
      "Epoch 93/100\n",
      "4225/4225 [==============================] - 0s 30us/step - loss: 0.3489 - accuracy: 0.8327 - val_loss: 0.5091 - val_accuracy: 0.7919\n",
      "Epoch 94/100\n",
      "4225/4225 [==============================] - 0s 29us/step - loss: 0.3508 - accuracy: 0.8284 - val_loss: 0.5199 - val_accuracy: 0.7871\n",
      "Epoch 95/100\n",
      "4225/4225 [==============================] - 0s 29us/step - loss: 0.3703 - accuracy: 0.8149 - val_loss: 0.4948 - val_accuracy: 0.7928\n",
      "Epoch 96/100\n",
      "4225/4225 [==============================] - 0s 30us/step - loss: 0.3527 - accuracy: 0.8282 - val_loss: 0.5071 - val_accuracy: 0.7928\n",
      "Epoch 97/100\n",
      "4225/4225 [==============================] - 0s 32us/step - loss: 0.3509 - accuracy: 0.8317 - val_loss: 0.5074 - val_accuracy: 0.8013\n",
      "Epoch 98/100\n",
      "4225/4225 [==============================] - 0s 36us/step - loss: 0.3495 - accuracy: 0.8265 - val_loss: 0.5126 - val_accuracy: 0.8004\n",
      "Epoch 99/100\n",
      "4225/4225 [==============================] - 0s 30us/step - loss: 0.3474 - accuracy: 0.8315 - val_loss: 0.5246 - val_accuracy: 0.7890\n",
      "Epoch 100/100\n",
      "4225/4225 [==============================] - 0s 36us/step - loss: 0.3589 - accuracy: 0.8263 - val_loss: 0.5104 - val_accuracy: 0.7956\n"
     ]
    }
   ],
   "source": [
    "model3_history = model3.fit(X_train_preprocessed_arr, y_train, epochs=100, batch_size=64, validation_split=0.2)"
   ]
  },
  {
   "cell_type": "code",
   "execution_count": 73,
   "metadata": {},
   "outputs": [
    {
     "name": "stdout",
     "output_type": "stream",
     "text": [
      "[[3492  388]\n",
      " [ 536  866]]\n",
      "[[1126  168]\n",
      " [ 219  248]]\n",
      "Train Accuracy:  0.8250662627792503\n",
      "Train Recall:  0.6176890156918687\n",
      "Train Precision:  0.6905901116427432\n",
      "-----------------------\n",
      "Val Accuracy:  0.7802385008517888\n",
      "Val Recall:  0.5310492505353319\n",
      "Val Precision:  0.5961538461538461\n"
     ]
    }
   ],
   "source": [
    "val_pred = model3.predict_classes(X_val_preprocessed_arr)\n",
    "train_pred = model3.predict_classes(X_train_preprocessed_arr)\n",
    "\n",
    "confusion_matrix_val = confusion_matrix(y_val, val_pred)\n",
    "confusion_matrix_train = confusion_matrix(y_train, train_pred)\n",
    "\n",
    "print(confusion_matrix_train)\n",
    "print(confusion_matrix_val)\n",
    "\n",
    "from sklearn.metrics import accuracy_score,recall_score,confusion_matrix,f1_score,precision_score\n",
    "accuracy_score_train = accuracy_score(y_train, train_pred)\n",
    "accuracy_score_val = accuracy_score(y_val, val_pred)\n",
    "\n",
    "recall_score_train = recall_score(y_train, train_pred)\n",
    "recall_score_val = recall_score(y_val, val_pred)\n",
    "\n",
    "precision_score_train = precision_score(y_train, train_pred)\n",
    "precision_score_val = precision_score(y_val, val_pred)\n",
    "\n",
    "\n",
    "print(\"Train Accuracy: \",accuracy_score_train)\n",
    "print(\"Train Recall: \",recall_score_train)\n",
    "print(\"Train Precision: \",precision_score_train)\n",
    "\n",
    "print(\"-----------------------\")\n",
    "\n",
    "print(\"Val Accuracy: \",accuracy_score_val)\n",
    "print(\"Val Recall: \",recall_score_val)\n",
    "print(\"Val Precision: \",precision_score_val)"
   ]
  },
  {
   "cell_type": "markdown",
   "metadata": {},
   "source": [
    "### Model - 4 (MLP with 3 layers)\n",
    "#### Activation function - relu and 25 neurons in 1st hidden layer and 20 in 2nd hidden layer and 'SGD' as optimization"
   ]
  },
  {
   "cell_type": "code",
   "execution_count": 78,
   "metadata": {},
   "outputs": [],
   "source": [
    "model4 = Sequential()\n",
    "\n",
    "model4.add(Dense(25, input_shape=(47,), activation='relu', kernel_initializer='normal'))\n",
    "model4.add(Dense(20, activation='relu', kernel_initializer='normal'))\n",
    "model4.add(Dense(1, activation='sigmoid', kernel_initializer='normal'))"
   ]
  },
  {
   "cell_type": "code",
   "execution_count": 79,
   "metadata": {},
   "outputs": [],
   "source": [
    "model4.compile(loss='binary_crossentropy', optimizer='sgd', metrics=['accuracy'])"
   ]
  },
  {
   "cell_type": "code",
   "execution_count": 80,
   "metadata": {},
   "outputs": [
    {
     "name": "stdout",
     "output_type": "stream",
     "text": [
      "Train on 4225 samples, validate on 1057 samples\n",
      "Epoch 1/100\n",
      "4225/4225 [==============================] - 0s 65us/step - loss: 0.6772 - accuracy: 0.7245 - val_loss: 0.6628 - val_accuracy: 0.7360\n",
      "Epoch 2/100\n",
      "4225/4225 [==============================] - 0s 23us/step - loss: 0.6513 - accuracy: 0.7342 - val_loss: 0.6390 - val_accuracy: 0.7360\n",
      "Epoch 3/100\n",
      "4225/4225 [==============================] - 0s 23us/step - loss: 0.6312 - accuracy: 0.7342 - val_loss: 0.6235 - val_accuracy: 0.7360\n",
      "Epoch 4/100\n",
      "4225/4225 [==============================] - 0s 24us/step - loss: 0.6180 - accuracy: 0.7342 - val_loss: 0.6121 - val_accuracy: 0.7360\n",
      "Epoch 5/100\n",
      "4225/4225 [==============================] - 0s 23us/step - loss: 0.6084 - accuracy: 0.7342 - val_loss: 0.6026 - val_accuracy: 0.7360\n",
      "Epoch 6/100\n",
      "4225/4225 [==============================] - 0s 25us/step - loss: 0.6003 - accuracy: 0.7342 - val_loss: 0.5956 - val_accuracy: 0.7360\n",
      "Epoch 7/100\n",
      "4225/4225 [==============================] - 0s 23us/step - loss: 0.5944 - accuracy: 0.7342 - val_loss: 0.5905 - val_accuracy: 0.7360\n",
      "Epoch 8/100\n",
      "4225/4225 [==============================] - 0s 23us/step - loss: 0.5901 - accuracy: 0.7342 - val_loss: 0.5867 - val_accuracy: 0.7360\n",
      "Epoch 9/100\n",
      "4225/4225 [==============================] - 0s 22us/step - loss: 0.5869 - accuracy: 0.7342 - val_loss: 0.5839 - val_accuracy: 0.7360\n",
      "Epoch 10/100\n",
      "4225/4225 [==============================] - 0s 22us/step - loss: 0.5845 - accuracy: 0.7342 - val_loss: 0.5817 - val_accuracy: 0.7360\n",
      "Epoch 11/100\n",
      "4225/4225 [==============================] - 0s 22us/step - loss: 0.5826 - accuracy: 0.7342 - val_loss: 0.5805 - val_accuracy: 0.7360\n",
      "Epoch 12/100\n",
      "4225/4225 [==============================] - 0s 24us/step - loss: 0.5815 - accuracy: 0.7342 - val_loss: 0.5794 - val_accuracy: 0.7360\n",
      "Epoch 13/100\n",
      "4225/4225 [==============================] - 0s 31us/step - loss: 0.5806 - accuracy: 0.7342 - val_loss: 0.5782 - val_accuracy: 0.7360\n",
      "Epoch 14/100\n",
      "4225/4225 [==============================] - 0s 26us/step - loss: 0.5795 - accuracy: 0.7342 - val_loss: 0.5771 - val_accuracy: 0.7360\n",
      "Epoch 15/100\n",
      "4225/4225 [==============================] - 0s 33us/step - loss: 0.5786 - accuracy: 0.7342 - val_loss: 0.5763 - val_accuracy: 0.7360\n",
      "Epoch 16/100\n",
      "4225/4225 [==============================] - 0s 34us/step - loss: 0.5778 - accuracy: 0.7342 - val_loss: 0.5754 - val_accuracy: 0.7360\n",
      "Epoch 17/100\n",
      "4225/4225 [==============================] - 0s 34us/step - loss: 0.5771 - accuracy: 0.7342 - val_loss: 0.5749 - val_accuracy: 0.7360\n",
      "Epoch 18/100\n",
      "4225/4225 [==============================] - 0s 32us/step - loss: 0.5765 - accuracy: 0.7342 - val_loss: 0.5742 - val_accuracy: 0.7360\n",
      "Epoch 19/100\n",
      "4225/4225 [==============================] - 0s 24us/step - loss: 0.5759 - accuracy: 0.7342 - val_loss: 0.5734 - val_accuracy: 0.7360\n",
      "Epoch 20/100\n",
      "4225/4225 [==============================] - 0s 28us/step - loss: 0.5751 - accuracy: 0.7342 - val_loss: 0.5726 - val_accuracy: 0.7360\n",
      "Epoch 21/100\n",
      "4225/4225 [==============================] - 0s 29us/step - loss: 0.5743 - accuracy: 0.7342 - val_loss: 0.5716 - val_accuracy: 0.7360\n",
      "Epoch 22/100\n",
      "4225/4225 [==============================] - 0s 33us/step - loss: 0.5733 - accuracy: 0.7342 - val_loss: 0.5705 - val_accuracy: 0.7360\n",
      "Epoch 23/100\n",
      "4225/4225 [==============================] - 0s 33us/step - loss: 0.5722 - accuracy: 0.7342 - val_loss: 0.5693 - val_accuracy: 0.7360\n",
      "Epoch 24/100\n",
      "4225/4225 [==============================] - 0s 30us/step - loss: 0.5709 - accuracy: 0.7342 - val_loss: 0.5680 - val_accuracy: 0.7360\n",
      "Epoch 25/100\n",
      "4225/4225 [==============================] - 0s 24us/step - loss: 0.5695 - accuracy: 0.7342 - val_loss: 0.5663 - val_accuracy: 0.7360\n",
      "Epoch 26/100\n",
      "4225/4225 [==============================] - 0s 22us/step - loss: 0.5678 - accuracy: 0.7342 - val_loss: 0.5644 - val_accuracy: 0.7360\n",
      "Epoch 27/100\n",
      "4225/4225 [==============================] - 0s 27us/step - loss: 0.5658 - accuracy: 0.7342 - val_loss: 0.5624 - val_accuracy: 0.7360\n",
      "Epoch 28/100\n",
      "4225/4225 [==============================] - 0s 24us/step - loss: 0.5636 - accuracy: 0.7342 - val_loss: 0.5597 - val_accuracy: 0.7360\n",
      "Epoch 29/100\n",
      "4225/4225 [==============================] - 0s 33us/step - loss: 0.5608 - accuracy: 0.7342 - val_loss: 0.5565 - val_accuracy: 0.7360\n",
      "Epoch 30/100\n",
      "4225/4225 [==============================] - 0s 28us/step - loss: 0.5574 - accuracy: 0.7342 - val_loss: 0.5526 - val_accuracy: 0.7360\n",
      "Epoch 31/100\n",
      "4225/4225 [==============================] - 0s 24us/step - loss: 0.5532 - accuracy: 0.7342 - val_loss: 0.5479 - val_accuracy: 0.7360\n",
      "Epoch 32/100\n",
      "4225/4225 [==============================] - 0s 35us/step - loss: 0.5482 - accuracy: 0.7342 - val_loss: 0.5421 - val_accuracy: 0.7360\n",
      "Epoch 33/100\n",
      "4225/4225 [==============================] - 0s 29us/step - loss: 0.5420 - accuracy: 0.7342 - val_loss: 0.5357 - val_accuracy: 0.7360\n",
      "Epoch 34/100\n",
      "4225/4225 [==============================] - 0s 25us/step - loss: 0.5351 - accuracy: 0.7342 - val_loss: 0.5276 - val_accuracy: 0.7360\n",
      "Epoch 35/100\n",
      "4225/4225 [==============================] - 0s 30us/step - loss: 0.5265 - accuracy: 0.7342 - val_loss: 0.5177 - val_accuracy: 0.7360\n",
      "Epoch 36/100\n",
      "4225/4225 [==============================] - 0s 31us/step - loss: 0.5162 - accuracy: 0.7342 - val_loss: 0.5068 - val_accuracy: 0.7360\n",
      "Epoch 37/100\n",
      "4225/4225 [==============================] - 0s 28us/step - loss: 0.5052 - accuracy: 0.7342 - val_loss: 0.4943 - val_accuracy: 0.7360\n",
      "Epoch 38/100\n",
      "4225/4225 [==============================] - 0s 32us/step - loss: 0.4928 - accuracy: 0.7342 - val_loss: 0.4816 - val_accuracy: 0.7360\n",
      "Epoch 39/100\n",
      "4225/4225 [==============================] - 0s 29us/step - loss: 0.4805 - accuracy: 0.7344 - val_loss: 0.4681 - val_accuracy: 0.7370\n",
      "Epoch 40/100\n",
      "4225/4225 [==============================] - 0s 26us/step - loss: 0.4680 - accuracy: 0.7520 - val_loss: 0.4555 - val_accuracy: 0.7833\n",
      "Epoch 41/100\n",
      "4225/4225 [==============================] - 0s 29us/step - loss: 0.4566 - accuracy: 0.7778 - val_loss: 0.4434 - val_accuracy: 0.8013\n",
      "Epoch 42/100\n",
      "4225/4225 [==============================] - 0s 23us/step - loss: 0.4464 - accuracy: 0.7946 - val_loss: 0.4337 - val_accuracy: 0.8070\n",
      "Epoch 43/100\n",
      "4225/4225 [==============================] - 0s 28us/step - loss: 0.4386 - accuracy: 0.7960 - val_loss: 0.4260 - val_accuracy: 0.8079\n",
      "Epoch 44/100\n",
      "4225/4225 [==============================] - 0s 21us/step - loss: 0.4323 - accuracy: 0.7986 - val_loss: 0.4209 - val_accuracy: 0.8089\n",
      "Epoch 45/100\n",
      "4225/4225 [==============================] - 0s 21us/step - loss: 0.4278 - accuracy: 0.7995 - val_loss: 0.4163 - val_accuracy: 0.8108\n",
      "Epoch 46/100\n",
      "4225/4225 [==============================] - 0s 24us/step - loss: 0.4247 - accuracy: 0.8014 - val_loss: 0.4156 - val_accuracy: 0.8098\n",
      "Epoch 47/100\n",
      "4225/4225 [==============================] - 0s 25us/step - loss: 0.4229 - accuracy: 0.8014 - val_loss: 0.4122 - val_accuracy: 0.8136\n",
      "Epoch 48/100\n",
      "4225/4225 [==============================] - 0s 24us/step - loss: 0.4209 - accuracy: 0.8019 - val_loss: 0.4134 - val_accuracy: 0.8098\n",
      "Epoch 49/100\n",
      "4225/4225 [==============================] - 0s 23us/step - loss: 0.4199 - accuracy: 0.8017 - val_loss: 0.4102 - val_accuracy: 0.8127\n",
      "Epoch 50/100\n",
      "4225/4225 [==============================] - 0s 22us/step - loss: 0.4185 - accuracy: 0.8040 - val_loss: 0.4087 - val_accuracy: 0.8117\n",
      "Epoch 51/100\n",
      "4225/4225 [==============================] - 0s 27us/step - loss: 0.4176 - accuracy: 0.8045 - val_loss: 0.4071 - val_accuracy: 0.8127\n",
      "Epoch 52/100\n",
      "4225/4225 [==============================] - 0s 23us/step - loss: 0.4169 - accuracy: 0.8043 - val_loss: 0.4062 - val_accuracy: 0.8117\n",
      "Epoch 53/100\n",
      "4225/4225 [==============================] - 0s 24us/step - loss: 0.4163 - accuracy: 0.8054 - val_loss: 0.4059 - val_accuracy: 0.8136\n",
      "Epoch 54/100\n",
      "4225/4225 [==============================] - 0s 21us/step - loss: 0.4158 - accuracy: 0.8054 - val_loss: 0.4062 - val_accuracy: 0.8127\n",
      "Epoch 55/100\n",
      "4225/4225 [==============================] - 0s 25us/step - loss: 0.4151 - accuracy: 0.8069 - val_loss: 0.4057 - val_accuracy: 0.8127\n",
      "Epoch 56/100\n",
      "4225/4225 [==============================] - 0s 26us/step - loss: 0.4145 - accuracy: 0.8064 - val_loss: 0.4049 - val_accuracy: 0.8155\n",
      "Epoch 57/100\n",
      "4225/4225 [==============================] - 0s 32us/step - loss: 0.4139 - accuracy: 0.8045 - val_loss: 0.4071 - val_accuracy: 0.8127\n",
      "Epoch 58/100\n",
      "4225/4225 [==============================] - 0s 32us/step - loss: 0.4138 - accuracy: 0.8066 - val_loss: 0.4053 - val_accuracy: 0.8155\n",
      "Epoch 59/100\n",
      "4225/4225 [==============================] - 0s 31us/step - loss: 0.4135 - accuracy: 0.8083 - val_loss: 0.4090 - val_accuracy: 0.8098\n",
      "Epoch 60/100\n",
      "4225/4225 [==============================] - 0s 24us/step - loss: 0.4136 - accuracy: 0.8066 - val_loss: 0.4048 - val_accuracy: 0.8127\n",
      "Epoch 61/100\n",
      "4225/4225 [==============================] - 0s 25us/step - loss: 0.4127 - accuracy: 0.8078 - val_loss: 0.4042 - val_accuracy: 0.8146\n",
      "Epoch 62/100\n",
      "4225/4225 [==============================] - 0s 26us/step - loss: 0.4123 - accuracy: 0.8083 - val_loss: 0.4088 - val_accuracy: 0.8098\n",
      "Epoch 63/100\n",
      "4225/4225 [==============================] - 0s 33us/step - loss: 0.4124 - accuracy: 0.8071 - val_loss: 0.4037 - val_accuracy: 0.8136\n",
      "Epoch 64/100\n",
      "4225/4225 [==============================] - 0s 25us/step - loss: 0.4117 - accuracy: 0.8090 - val_loss: 0.4037 - val_accuracy: 0.8136\n",
      "Epoch 65/100\n",
      "4225/4225 [==============================] - 0s 24us/step - loss: 0.4114 - accuracy: 0.8090 - val_loss: 0.4111 - val_accuracy: 0.8061\n",
      "Epoch 66/100\n",
      "4225/4225 [==============================] - 0s 29us/step - loss: 0.4121 - accuracy: 0.8064 - val_loss: 0.4036 - val_accuracy: 0.8127\n",
      "Epoch 67/100\n",
      "4225/4225 [==============================] - 0s 21us/step - loss: 0.4108 - accuracy: 0.8092 - val_loss: 0.4030 - val_accuracy: 0.8155\n",
      "Epoch 68/100\n",
      "4225/4225 [==============================] - 0s 24us/step - loss: 0.4103 - accuracy: 0.8090 - val_loss: 0.4090 - val_accuracy: 0.8127\n",
      "Epoch 69/100\n",
      "4225/4225 [==============================] - 0s 28us/step - loss: 0.4109 - accuracy: 0.8076 - val_loss: 0.4041 - val_accuracy: 0.8146\n",
      "Epoch 70/100\n",
      "4225/4225 [==============================] - 0s 22us/step - loss: 0.4101 - accuracy: 0.8088 - val_loss: 0.4030 - val_accuracy: 0.8165\n",
      "Epoch 71/100\n",
      "4225/4225 [==============================] - 0s 21us/step - loss: 0.4098 - accuracy: 0.8092 - val_loss: 0.4068 - val_accuracy: 0.8127\n",
      "Epoch 72/100\n",
      "4225/4225 [==============================] - 0s 20us/step - loss: 0.4101 - accuracy: 0.8080 - val_loss: 0.4151 - val_accuracy: 0.8013\n",
      "Epoch 73/100\n",
      "4225/4225 [==============================] - 0s 31us/step - loss: 0.4106 - accuracy: 0.8059 - val_loss: 0.4015 - val_accuracy: 0.8146\n",
      "Epoch 74/100\n",
      "4225/4225 [==============================] - 0s 25us/step - loss: 0.4095 - accuracy: 0.8109 - val_loss: 0.4033 - val_accuracy: 0.8155\n",
      "Epoch 75/100\n",
      "4225/4225 [==============================] - 0s 23us/step - loss: 0.4089 - accuracy: 0.8090 - val_loss: 0.4034 - val_accuracy: 0.8155\n",
      "Epoch 76/100\n",
      "4225/4225 [==============================] - 0s 21us/step - loss: 0.4087 - accuracy: 0.8090 - val_loss: 0.4039 - val_accuracy: 0.8127\n",
      "Epoch 77/100\n",
      "4225/4225 [==============================] - 0s 22us/step - loss: 0.4086 - accuracy: 0.8099 - val_loss: 0.4027 - val_accuracy: 0.8155\n",
      "Epoch 78/100\n",
      "4225/4225 [==============================] - 0s 29us/step - loss: 0.4093 - accuracy: 0.8080 - val_loss: 0.4026 - val_accuracy: 0.8155\n",
      "Epoch 79/100\n",
      "4225/4225 [==============================] - 0s 32us/step - loss: 0.4083 - accuracy: 0.8104 - val_loss: 0.4016 - val_accuracy: 0.8117\n",
      "Epoch 80/100\n",
      "4225/4225 [==============================] - 0s 36us/step - loss: 0.4082 - accuracy: 0.8076 - val_loss: 0.4026 - val_accuracy: 0.8155\n",
      "Epoch 81/100\n",
      "4225/4225 [==============================] - 0s 29us/step - loss: 0.4080 - accuracy: 0.8095 - val_loss: 0.4022 - val_accuracy: 0.8155\n",
      "Epoch 82/100\n",
      "4225/4225 [==============================] - 0s 25us/step - loss: 0.4078 - accuracy: 0.8083 - val_loss: 0.4020 - val_accuracy: 0.8165\n",
      "Epoch 83/100\n",
      "4225/4225 [==============================] - 0s 31us/step - loss: 0.4077 - accuracy: 0.8102 - val_loss: 0.4066 - val_accuracy: 0.8146\n",
      "Epoch 84/100\n",
      "4225/4225 [==============================] - 0s 36us/step - loss: 0.4080 - accuracy: 0.8090 - val_loss: 0.4083 - val_accuracy: 0.8127\n",
      "Epoch 85/100\n",
      "4225/4225 [==============================] - 0s 34us/step - loss: 0.4080 - accuracy: 0.8073 - val_loss: 0.4027 - val_accuracy: 0.8136\n",
      "Epoch 86/100\n",
      "4225/4225 [==============================] - 0s 30us/step - loss: 0.4074 - accuracy: 0.8099 - val_loss: 0.4015 - val_accuracy: 0.8165\n",
      "Epoch 87/100\n",
      "4225/4225 [==============================] - 0s 31us/step - loss: 0.4075 - accuracy: 0.8092 - val_loss: 0.4034 - val_accuracy: 0.8136\n",
      "Epoch 88/100\n",
      "4225/4225 [==============================] - 0s 26us/step - loss: 0.4071 - accuracy: 0.8114 - val_loss: 0.4030 - val_accuracy: 0.8136\n",
      "Epoch 89/100\n",
      "4225/4225 [==============================] - 0s 25us/step - loss: 0.4070 - accuracy: 0.8095 - val_loss: 0.4096 - val_accuracy: 0.8098\n",
      "Epoch 90/100\n",
      "4225/4225 [==============================] - 0s 26us/step - loss: 0.4074 - accuracy: 0.8090 - val_loss: 0.4030 - val_accuracy: 0.8155\n",
      "Epoch 91/100\n",
      "4225/4225 [==============================] - 0s 33us/step - loss: 0.4072 - accuracy: 0.8111 - val_loss: 0.4019 - val_accuracy: 0.8146\n",
      "Epoch 92/100\n",
      "4225/4225 [==============================] - 0s 29us/step - loss: 0.4072 - accuracy: 0.8095 - val_loss: 0.4039 - val_accuracy: 0.8127\n",
      "Epoch 93/100\n",
      "4225/4225 [==============================] - 0s 28us/step - loss: 0.4068 - accuracy: 0.8102 - val_loss: 0.4111 - val_accuracy: 0.8032\n",
      "Epoch 94/100\n",
      "4225/4225 [==============================] - 0s 28us/step - loss: 0.4076 - accuracy: 0.8111 - val_loss: 0.4071 - val_accuracy: 0.8117\n",
      "Epoch 95/100\n",
      "4225/4225 [==============================] - 0s 23us/step - loss: 0.4067 - accuracy: 0.8090 - val_loss: 0.4018 - val_accuracy: 0.8127\n",
      "Epoch 96/100\n",
      "4225/4225 [==============================] - 0s 22us/step - loss: 0.4064 - accuracy: 0.8095 - val_loss: 0.4047 - val_accuracy: 0.8127\n",
      "Epoch 97/100\n",
      "4225/4225 [==============================] - 0s 25us/step - loss: 0.4072 - accuracy: 0.8062 - val_loss: 0.4033 - val_accuracy: 0.8165\n",
      "Epoch 98/100\n",
      "4225/4225 [==============================] - 0s 35us/step - loss: 0.4062 - accuracy: 0.8125 - val_loss: 0.4022 - val_accuracy: 0.8127\n",
      "Epoch 99/100\n",
      "4225/4225 [==============================] - 0s 33us/step - loss: 0.4061 - accuracy: 0.8095 - val_loss: 0.4122 - val_accuracy: 0.8051\n",
      "Epoch 100/100\n",
      "4225/4225 [==============================] - 0s 37us/step - loss: 0.4067 - accuracy: 0.8080 - val_loss: 0.4023 - val_accuracy: 0.8165\n"
     ]
    }
   ],
   "source": [
    "model4_history = model4.fit(X_train_preprocessed_arr, y_train, epochs=100, batch_size=64, validation_split=0.2)"
   ]
  },
  {
   "cell_type": "code",
   "execution_count": 81,
   "metadata": {},
   "outputs": [
    {
     "name": "stdout",
     "output_type": "stream",
     "text": [
      "[[3398  482]\n",
      " [ 536  866]]\n",
      "[[1134  160]\n",
      " [ 198  269]]\n",
      "Train Accuracy:  0.8072699734948883\n",
      "Train Recall:  0.6176890156918687\n",
      "Train Precision:  0.642433234421365\n",
      "-----------------------\n",
      "Val Accuracy:  0.7967064168086314\n",
      "Val Recall:  0.576017130620985\n",
      "Val Precision:  0.627039627039627\n"
     ]
    }
   ],
   "source": [
    "val_pred = model4.predict_classes(X_val_preprocessed_arr)\n",
    "train_pred = model4.predict_classes(X_train_preprocessed_arr)\n",
    "\n",
    "confusion_matrix_val = confusion_matrix(y_val, val_pred)\n",
    "confusion_matrix_train = confusion_matrix(y_train, train_pred)\n",
    "\n",
    "print(confusion_matrix_train)\n",
    "print(confusion_matrix_val)\n",
    "\n",
    "from sklearn.metrics import accuracy_score,recall_score,confusion_matrix,f1_score,precision_score\n",
    "accuracy_score_train = accuracy_score(y_train, train_pred)\n",
    "accuracy_score_val = accuracy_score(y_val, val_pred)\n",
    "\n",
    "recall_score_train = recall_score(y_train, train_pred)\n",
    "recall_score_val = recall_score(y_val, val_pred)\n",
    "\n",
    "precision_score_train = precision_score(y_train, train_pred)\n",
    "precision_score_val = precision_score(y_val, val_pred)\n",
    "\n",
    "\n",
    "print(\"Train Accuracy: \",accuracy_score_train)\n",
    "print(\"Train Recall: \",recall_score_train)\n",
    "print(\"Train Precision: \",precision_score_train)\n",
    "\n",
    "print(\"-----------------------\")\n",
    "\n",
    "print(\"Val Accuracy: \",accuracy_score_val)\n",
    "print(\"Val Recall: \",recall_score_val)\n",
    "print(\"Val Precision: \",precision_score_val)"
   ]
  },
  {
   "cell_type": "markdown",
   "metadata": {},
   "source": [
    "### Model - 5 (MLP with 3 layers)\n",
    "#### Activation function - relu and 25 neurons in 1st hidden layer and 20 in 2nd hidden layer and Adam as optimization"
   ]
  },
  {
   "cell_type": "code",
   "execution_count": 83,
   "metadata": {},
   "outputs": [],
   "source": [
    "model5 = Sequential()\n",
    "\n",
    "model5.add(Dense(25, input_shape=(47,), activation='relu', kernel_initializer='normal'))\n",
    "model5.add(Dense(20, activation='relu', kernel_initializer='normal'))\n",
    "model5.add(Dense(1, activation='sigmoid', kernel_initializer='normal'))\n",
    "\n",
    "opt = keras.optimizers.Adam(learning_rate=0.01)\n",
    "model5.compile(loss = 'binary_crossentropy', optimizer = opt, metrics = ['accuracy'])"
   ]
  },
  {
   "cell_type": "code",
   "execution_count": 84,
   "metadata": {},
   "outputs": [
    {
     "name": "stdout",
     "output_type": "stream",
     "text": [
      "Train on 4225 samples, validate on 1057 samples\n",
      "Epoch 1/100\n",
      "4225/4225 [==============================] - 0s 74us/step - loss: 0.4672 - accuracy: 0.7666 - val_loss: 0.4863 - val_accuracy: 0.8051\n",
      "Epoch 2/100\n",
      "4225/4225 [==============================] - 0s 23us/step - loss: 0.4187 - accuracy: 0.8024 - val_loss: 0.4130 - val_accuracy: 0.8004\n",
      "Epoch 3/100\n",
      "4225/4225 [==============================] - 0s 23us/step - loss: 0.4140 - accuracy: 0.8090 - val_loss: 0.4083 - val_accuracy: 0.8127\n",
      "Epoch 4/100\n",
      "4225/4225 [==============================] - 0s 22us/step - loss: 0.4073 - accuracy: 0.8062 - val_loss: 0.4147 - val_accuracy: 0.8108\n",
      "Epoch 5/100\n",
      "4225/4225 [==============================] - 0s 28us/step - loss: 0.4076 - accuracy: 0.8066 - val_loss: 0.4221 - val_accuracy: 0.8108\n",
      "Epoch 6/100\n",
      "4225/4225 [==============================] - 0s 32us/step - loss: 0.4095 - accuracy: 0.8057 - val_loss: 0.4139 - val_accuracy: 0.8117\n",
      "Epoch 7/100\n",
      "4225/4225 [==============================] - 0s 28us/step - loss: 0.4077 - accuracy: 0.8128 - val_loss: 0.4372 - val_accuracy: 0.8070\n",
      "Epoch 8/100\n",
      "4225/4225 [==============================] - 0s 32us/step - loss: 0.4022 - accuracy: 0.8130 - val_loss: 0.4197 - val_accuracy: 0.8042\n",
      "Epoch 9/100\n",
      "4225/4225 [==============================] - 0s 29us/step - loss: 0.4045 - accuracy: 0.8083 - val_loss: 0.4144 - val_accuracy: 0.8117\n",
      "Epoch 10/100\n",
      "4225/4225 [==============================] - 0s 25us/step - loss: 0.4122 - accuracy: 0.8080 - val_loss: 0.4186 - val_accuracy: 0.8013\n",
      "Epoch 11/100\n",
      "4225/4225 [==============================] - 0s 32us/step - loss: 0.4022 - accuracy: 0.8111 - val_loss: 0.4241 - val_accuracy: 0.8032\n",
      "Epoch 12/100\n",
      "4225/4225 [==============================] - 0s 25us/step - loss: 0.4284 - accuracy: 0.7697 - val_loss: 0.4232 - val_accuracy: 0.8136\n",
      "Epoch 13/100\n",
      "4225/4225 [==============================] - 0s 24us/step - loss: 0.4097 - accuracy: 0.8104 - val_loss: 0.4242 - val_accuracy: 0.8127\n",
      "Epoch 14/100\n",
      "4225/4225 [==============================] - 0s 25us/step - loss: 0.4055 - accuracy: 0.8085 - val_loss: 0.4210 - val_accuracy: 0.8061\n",
      "Epoch 15/100\n",
      "4225/4225 [==============================] - 0s 28us/step - loss: 0.4007 - accuracy: 0.8095 - val_loss: 0.4183 - val_accuracy: 0.8117\n",
      "Epoch 16/100\n",
      "4225/4225 [==============================] - 0s 32us/step - loss: 0.4003 - accuracy: 0.8128 - val_loss: 0.4367 - val_accuracy: 0.8089\n",
      "Epoch 17/100\n",
      "4225/4225 [==============================] - 0s 28us/step - loss: 0.3973 - accuracy: 0.8071 - val_loss: 0.4273 - val_accuracy: 0.8089\n",
      "Epoch 18/100\n",
      "4225/4225 [==============================] - 0s 30us/step - loss: 0.3923 - accuracy: 0.8163 - val_loss: 0.4243 - val_accuracy: 0.8004\n",
      "Epoch 19/100\n",
      "4225/4225 [==============================] - 0s 33us/step - loss: 0.4011 - accuracy: 0.8111 - val_loss: 0.4542 - val_accuracy: 0.8051\n",
      "Epoch 20/100\n",
      "4225/4225 [==============================] - 0s 36us/step - loss: 0.4036 - accuracy: 0.8019 - val_loss: 0.4408 - val_accuracy: 0.8089\n",
      "Epoch 21/100\n",
      "4225/4225 [==============================] - 0s 32us/step - loss: 0.3959 - accuracy: 0.8085 - val_loss: 0.4194 - val_accuracy: 0.8042\n",
      "Epoch 22/100\n",
      "4225/4225 [==============================] - 0s 33us/step - loss: 0.3901 - accuracy: 0.8125 - val_loss: 0.4297 - val_accuracy: 0.8089\n",
      "Epoch 23/100\n",
      "4225/4225 [==============================] - 0s 30us/step - loss: 0.3896 - accuracy: 0.8149 - val_loss: 0.4272 - val_accuracy: 0.8127\n",
      "Epoch 24/100\n",
      "4225/4225 [==============================] - 0s 26us/step - loss: 0.3848 - accuracy: 0.8194 - val_loss: 0.4344 - val_accuracy: 0.8089\n",
      "Epoch 25/100\n",
      "4225/4225 [==============================] - 0s 33us/step - loss: 0.3838 - accuracy: 0.8175 - val_loss: 0.4490 - val_accuracy: 0.8155\n",
      "Epoch 26/100\n",
      "4225/4225 [==============================] - 0s 29us/step - loss: 0.3863 - accuracy: 0.8142 - val_loss: 0.4346 - val_accuracy: 0.8032\n",
      "Epoch 27/100\n",
      "4225/4225 [==============================] - 0s 25us/step - loss: 0.3809 - accuracy: 0.8199 - val_loss: 0.4414 - val_accuracy: 0.8070\n",
      "Epoch 28/100\n",
      "4225/4225 [==============================] - 0s 26us/step - loss: 0.3797 - accuracy: 0.8194 - val_loss: 0.4350 - val_accuracy: 0.8042\n",
      "Epoch 29/100\n",
      "4225/4225 [==============================] - 0s 29us/step - loss: 0.3784 - accuracy: 0.8178 - val_loss: 0.4351 - val_accuracy: 0.8079\n",
      "Epoch 30/100\n",
      "4225/4225 [==============================] - 0s 26us/step - loss: 0.3752 - accuracy: 0.8204 - val_loss: 0.4536 - val_accuracy: 0.8051\n",
      "Epoch 31/100\n",
      "4225/4225 [==============================] - 0s 29us/step - loss: 0.3780 - accuracy: 0.8189 - val_loss: 0.4339 - val_accuracy: 0.8089\n",
      "Epoch 32/100\n",
      "4225/4225 [==============================] - 0s 25us/step - loss: 0.3957 - accuracy: 0.8187 - val_loss: 0.4373 - val_accuracy: 0.8155\n",
      "Epoch 33/100\n",
      "4225/4225 [==============================] - 0s 22us/step - loss: 0.3801 - accuracy: 0.8196 - val_loss: 0.4377 - val_accuracy: 0.8136\n",
      "Epoch 34/100\n",
      "4225/4225 [==============================] - 0s 25us/step - loss: 0.3777 - accuracy: 0.8199 - val_loss: 0.4343 - val_accuracy: 0.8089\n",
      "Epoch 35/100\n",
      "4225/4225 [==============================] - 0s 25us/step - loss: 0.3723 - accuracy: 0.8241 - val_loss: 0.4429 - val_accuracy: 0.8117\n",
      "Epoch 36/100\n",
      "4225/4225 [==============================] - 0s 32us/step - loss: 0.3683 - accuracy: 0.8220 - val_loss: 0.4614 - val_accuracy: 0.8032\n",
      "Epoch 37/100\n",
      "4225/4225 [==============================] - 0s 35us/step - loss: 0.3656 - accuracy: 0.8220 - val_loss: 0.4606 - val_accuracy: 0.8079\n",
      "Epoch 38/100\n",
      "4225/4225 [==============================] - 0s 36us/step - loss: 0.3742 - accuracy: 0.8156 - val_loss: 0.4471 - val_accuracy: 0.8042\n",
      "Epoch 39/100\n",
      "4225/4225 [==============================] - 0s 36us/step - loss: 0.3649 - accuracy: 0.8211 - val_loss: 0.4588 - val_accuracy: 0.8032\n",
      "Epoch 40/100\n",
      "4225/4225 [==============================] - 0s 34us/step - loss: 0.3672 - accuracy: 0.8258 - val_loss: 0.4594 - val_accuracy: 0.8042\n",
      "Epoch 41/100\n",
      "4225/4225 [==============================] - 0s 32us/step - loss: 0.3646 - accuracy: 0.8220 - val_loss: 0.4807 - val_accuracy: 0.7966\n",
      "Epoch 42/100\n",
      "4225/4225 [==============================] - 0s 36us/step - loss: 0.3690 - accuracy: 0.8246 - val_loss: 0.4693 - val_accuracy: 0.7966\n",
      "Epoch 43/100\n",
      "4225/4225 [==============================] - 0s 35us/step - loss: 0.3609 - accuracy: 0.8256 - val_loss: 0.4704 - val_accuracy: 0.8032\n",
      "Epoch 44/100\n",
      "4225/4225 [==============================] - 0s 31us/step - loss: 0.3636 - accuracy: 0.8237 - val_loss: 0.4653 - val_accuracy: 0.8023\n",
      "Epoch 45/100\n",
      "4225/4225 [==============================] - 0s 29us/step - loss: 0.3543 - accuracy: 0.8265 - val_loss: 0.4971 - val_accuracy: 0.7928\n",
      "Epoch 46/100\n",
      "4225/4225 [==============================] - 0s 32us/step - loss: 0.3536 - accuracy: 0.8275 - val_loss: 0.4727 - val_accuracy: 0.8004\n",
      "Epoch 47/100\n",
      "4225/4225 [==============================] - 0s 41us/step - loss: 0.3505 - accuracy: 0.8296 - val_loss: 0.4970 - val_accuracy: 0.8042\n",
      "Epoch 48/100\n",
      "4225/4225 [==============================] - 0s 40us/step - loss: 0.3551 - accuracy: 0.8218 - val_loss: 0.5139 - val_accuracy: 0.8004\n",
      "Epoch 49/100\n",
      "4225/4225 [==============================] - 0s 35us/step - loss: 0.3531 - accuracy: 0.8253 - val_loss: 0.5044 - val_accuracy: 0.7956\n",
      "Epoch 50/100\n",
      "4225/4225 [==============================] - 0s 37us/step - loss: 0.3470 - accuracy: 0.8251 - val_loss: 0.5236 - val_accuracy: 0.7928\n",
      "Epoch 51/100\n",
      "4225/4225 [==============================] - 0s 38us/step - loss: 0.3479 - accuracy: 0.8341 - val_loss: 0.5316 - val_accuracy: 0.7881\n",
      "Epoch 52/100\n",
      "4225/4225 [==============================] - 0s 40us/step - loss: 0.3581 - accuracy: 0.8204 - val_loss: 0.5063 - val_accuracy: 0.7881\n",
      "Epoch 53/100\n",
      "4225/4225 [==============================] - 0s 35us/step - loss: 0.3448 - accuracy: 0.8298 - val_loss: 0.5249 - val_accuracy: 0.7881\n",
      "Epoch 54/100\n",
      "4225/4225 [==============================] - 0s 45us/step - loss: 0.3456 - accuracy: 0.8279 - val_loss: 0.5327 - val_accuracy: 0.7871\n",
      "Epoch 55/100\n",
      "4225/4225 [==============================] - 0s 33us/step - loss: 0.3684 - accuracy: 0.8057 - val_loss: 0.5233 - val_accuracy: 0.7871\n",
      "Epoch 56/100\n",
      "4225/4225 [==============================] - 0s 37us/step - loss: 0.3457 - accuracy: 0.8312 - val_loss: 0.5432 - val_accuracy: 0.7994\n",
      "Epoch 57/100\n",
      "4225/4225 [==============================] - 0s 28us/step - loss: 0.3427 - accuracy: 0.8298 - val_loss: 0.5341 - val_accuracy: 0.7928\n",
      "Epoch 58/100\n",
      "4225/4225 [==============================] - 0s 23us/step - loss: 0.3399 - accuracy: 0.8315 - val_loss: 0.5564 - val_accuracy: 0.7881\n",
      "Epoch 59/100\n",
      "4225/4225 [==============================] - 0s 28us/step - loss: 0.3379 - accuracy: 0.8353 - val_loss: 0.5624 - val_accuracy: 0.7833\n",
      "Epoch 60/100\n",
      "4225/4225 [==============================] - 0s 31us/step - loss: 0.3534 - accuracy: 0.8026 - val_loss: 0.5541 - val_accuracy: 0.7815\n",
      "Epoch 61/100\n",
      "4225/4225 [==============================] - 0s 30us/step - loss: 0.3392 - accuracy: 0.8230 - val_loss: 0.5670 - val_accuracy: 0.7928\n",
      "Epoch 62/100\n",
      "4225/4225 [==============================] - 0s 34us/step - loss: 0.3384 - accuracy: 0.8267 - val_loss: 0.5712 - val_accuracy: 0.7871\n",
      "Epoch 63/100\n",
      "4225/4225 [==============================] - 0s 36us/step - loss: 0.3311 - accuracy: 0.8367 - val_loss: 0.5652 - val_accuracy: 0.7758\n",
      "Epoch 64/100\n",
      "4225/4225 [==============================] - 0s 36us/step - loss: 0.3318 - accuracy: 0.8350 - val_loss: 0.5640 - val_accuracy: 0.7805\n",
      "Epoch 65/100\n",
      "4225/4225 [==============================] - 0s 44us/step - loss: 0.3280 - accuracy: 0.8414 - val_loss: 0.5904 - val_accuracy: 0.7881\n",
      "Epoch 66/100\n",
      "4225/4225 [==============================] - 0s 40us/step - loss: 0.3267 - accuracy: 0.8346 - val_loss: 0.6265 - val_accuracy: 0.7881\n",
      "Epoch 67/100\n",
      "4225/4225 [==============================] - 0s 32us/step - loss: 0.3228 - accuracy: 0.8405 - val_loss: 0.6006 - val_accuracy: 0.7786\n",
      "Epoch 68/100\n",
      "4225/4225 [==============================] - 0s 28us/step - loss: 0.3246 - accuracy: 0.8386 - val_loss: 0.6365 - val_accuracy: 0.7748\n",
      "Epoch 69/100\n",
      "4225/4225 [==============================] - 0s 26us/step - loss: 0.3246 - accuracy: 0.8421 - val_loss: 0.6065 - val_accuracy: 0.7833\n",
      "Epoch 70/100\n",
      "4225/4225 [==============================] - 0s 26us/step - loss: 0.3160 - accuracy: 0.8459 - val_loss: 0.6266 - val_accuracy: 0.7815\n",
      "Epoch 71/100\n",
      "4225/4225 [==============================] - 0s 27us/step - loss: 0.3246 - accuracy: 0.8436 - val_loss: 0.6385 - val_accuracy: 0.7796\n",
      "Epoch 72/100\n",
      "4225/4225 [==============================] - 0s 22us/step - loss: 0.3150 - accuracy: 0.8398 - val_loss: 0.6041 - val_accuracy: 0.7673\n",
      "Epoch 73/100\n",
      "4225/4225 [==============================] - 0s 26us/step - loss: 0.3180 - accuracy: 0.8450 - val_loss: 0.6645 - val_accuracy: 0.7729\n",
      "Epoch 74/100\n",
      "4225/4225 [==============================] - 0s 31us/step - loss: 0.3149 - accuracy: 0.8421 - val_loss: 0.6616 - val_accuracy: 0.7748\n",
      "Epoch 75/100\n",
      "4225/4225 [==============================] - 0s 35us/step - loss: 0.3173 - accuracy: 0.8419 - val_loss: 0.6338 - val_accuracy: 0.7777\n",
      "Epoch 76/100\n",
      "4225/4225 [==============================] - 0s 26us/step - loss: 0.3344 - accuracy: 0.8286 - val_loss: 0.6233 - val_accuracy: 0.7682\n",
      "Epoch 77/100\n",
      "4225/4225 [==============================] - 0s 26us/step - loss: 0.3183 - accuracy: 0.8447 - val_loss: 0.6599 - val_accuracy: 0.7729\n",
      "Epoch 78/100\n",
      "4225/4225 [==============================] - 0s 30us/step - loss: 0.3100 - accuracy: 0.8469 - val_loss: 0.6991 - val_accuracy: 0.7786\n",
      "Epoch 79/100\n",
      "4225/4225 [==============================] - 0s 28us/step - loss: 0.3214 - accuracy: 0.8393 - val_loss: 0.6813 - val_accuracy: 0.7805\n",
      "Epoch 80/100\n",
      "4225/4225 [==============================] - 0s 36us/step - loss: 0.3109 - accuracy: 0.8530 - val_loss: 0.7513 - val_accuracy: 0.7748\n",
      "Epoch 81/100\n",
      "4225/4225 [==============================] - 0s 36us/step - loss: 0.3100 - accuracy: 0.8450 - val_loss: 0.6962 - val_accuracy: 0.7777\n",
      "Epoch 82/100\n",
      "4225/4225 [==============================] - 0s 35us/step - loss: 0.3100 - accuracy: 0.8471 - val_loss: 0.6732 - val_accuracy: 0.7644\n",
      "Epoch 83/100\n",
      "4225/4225 [==============================] - 0s 38us/step - loss: 0.3112 - accuracy: 0.8492 - val_loss: 0.7012 - val_accuracy: 0.7692\n",
      "Epoch 84/100\n",
      "4225/4225 [==============================] - 0s 31us/step - loss: 0.3108 - accuracy: 0.8473 - val_loss: 0.6987 - val_accuracy: 0.7673\n",
      "Epoch 85/100\n",
      "4225/4225 [==============================] - 0s 28us/step - loss: 0.3019 - accuracy: 0.8516 - val_loss: 0.7312 - val_accuracy: 0.7692\n",
      "Epoch 86/100\n",
      "4225/4225 [==============================] - 0s 39us/step - loss: 0.3056 - accuracy: 0.8478 - val_loss: 0.7332 - val_accuracy: 0.7692\n",
      "Epoch 87/100\n",
      "4225/4225 [==============================] - 0s 34us/step - loss: 0.2962 - accuracy: 0.8518 - val_loss: 0.7477 - val_accuracy: 0.7606\n",
      "Epoch 88/100\n",
      "4225/4225 [==============================] - 0s 40us/step - loss: 0.2975 - accuracy: 0.8514 - val_loss: 0.7803 - val_accuracy: 0.7569\n",
      "Epoch 89/100\n",
      "4225/4225 [==============================] - 0s 42us/step - loss: 0.3038 - accuracy: 0.8540 - val_loss: 0.7855 - val_accuracy: 0.7701\n",
      "Epoch 90/100\n",
      "4225/4225 [==============================] - 0s 49us/step - loss: 0.3006 - accuracy: 0.8521 - val_loss: 0.7629 - val_accuracy: 0.7692\n",
      "Epoch 91/100\n",
      "4225/4225 [==============================] - 0s 40us/step - loss: 0.3001 - accuracy: 0.8516 - val_loss: 0.7898 - val_accuracy: 0.7701\n",
      "Epoch 92/100\n",
      "4225/4225 [==============================] - 0s 32us/step - loss: 0.2962 - accuracy: 0.8544 - val_loss: 0.8650 - val_accuracy: 0.7701\n",
      "Epoch 93/100\n",
      "4225/4225 [==============================] - 0s 34us/step - loss: 0.3110 - accuracy: 0.8516 - val_loss: 0.7633 - val_accuracy: 0.7692\n",
      "Epoch 94/100\n",
      "4225/4225 [==============================] - 0s 29us/step - loss: 0.3093 - accuracy: 0.8485 - val_loss: 0.7656 - val_accuracy: 0.7758\n",
      "Epoch 95/100\n",
      "4225/4225 [==============================] - 0s 29us/step - loss: 0.2955 - accuracy: 0.8509 - val_loss: 0.7887 - val_accuracy: 0.7701\n",
      "Epoch 96/100\n",
      "4225/4225 [==============================] - 0s 32us/step - loss: 0.2993 - accuracy: 0.8516 - val_loss: 0.9099 - val_accuracy: 0.7729\n",
      "Epoch 97/100\n",
      "4225/4225 [==============================] - 0s 30us/step - loss: 0.2969 - accuracy: 0.8528 - val_loss: 0.8381 - val_accuracy: 0.7786\n",
      "Epoch 98/100\n",
      "4225/4225 [==============================] - 0s 33us/step - loss: 0.2944 - accuracy: 0.8521 - val_loss: 0.9102 - val_accuracy: 0.7758\n",
      "Epoch 99/100\n",
      "4225/4225 [==============================] - 0s 29us/step - loss: 0.2905 - accuracy: 0.8566 - val_loss: 0.8015 - val_accuracy: 0.7616\n",
      "Epoch 100/100\n",
      "4225/4225 [==============================] - ETA: 0s - loss: 0.2918 - accuracy: 0.85 - 0s 29us/step - loss: 0.2920 - accuracy: 0.8554 - val_loss: 0.8455 - val_accuracy: 0.7483\n"
     ]
    }
   ],
   "source": [
    "model5_history = model5.fit(X_train_preprocessed_arr, y_train, epochs=100, batch_size=64, validation_split=0.2)"
   ]
  },
  {
   "cell_type": "code",
   "execution_count": 85,
   "metadata": {},
   "outputs": [
    {
     "name": "stdout",
     "output_type": "stream",
     "text": [
      "[[3518  362]\n",
      " [ 491  911]]\n",
      "[[1115  179]\n",
      " [ 225  242]]\n",
      "Train Accuracy:  0.8385081408557364\n",
      "Train Recall:  0.6497860199714693\n",
      "Train Precision:  0.7156323644933229\n",
      "-----------------------\n",
      "Val Accuracy:  0.7705848949460534\n",
      "Val Recall:  0.5182012847965739\n",
      "Val Precision:  0.5748218527315915\n"
     ]
    }
   ],
   "source": [
    "val_pred = model5.predict_classes(X_val_preprocessed_arr)\n",
    "train_pred = model5.predict_classes(X_train_preprocessed_arr)\n",
    "\n",
    "confusion_matrix_val = confusion_matrix(y_val, val_pred)\n",
    "confusion_matrix_train = confusion_matrix(y_train, train_pred)\n",
    "\n",
    "print(confusion_matrix_train)\n",
    "print(confusion_matrix_val)\n",
    "\n",
    "from sklearn.metrics import accuracy_score,recall_score,confusion_matrix,f1_score,precision_score\n",
    "accuracy_score_train = accuracy_score(y_train, train_pred)\n",
    "accuracy_score_val = accuracy_score(y_val, val_pred)\n",
    "\n",
    "recall_score_train = recall_score(y_train, train_pred)\n",
    "recall_score_val = recall_score(y_val, val_pred)\n",
    "\n",
    "precision_score_train = precision_score(y_train, train_pred)\n",
    "precision_score_val = precision_score(y_val, val_pred)\n",
    "\n",
    "\n",
    "print(\"Train Accuracy: \",accuracy_score_train)\n",
    "print(\"Train Recall: \",recall_score_train)\n",
    "print(\"Train Precision: \",precision_score_train)\n",
    "\n",
    "print(\"-----------------------\")\n",
    "\n",
    "print(\"Val Accuracy: \",accuracy_score_val)\n",
    "print(\"Val Recall: \",recall_score_val)\n",
    "print(\"Val Precision: \",precision_score_val)"
   ]
  },
  {
   "cell_type": "markdown",
   "metadata": {},
   "source": [
    "### Model - 6 (MLP with 4 layers)\n",
    "#### Activation function - relu and 25 neurons in 1st hidden layer and 20 in 2nd hidden layer and 'SGD' as optimization"
   ]
  },
  {
   "cell_type": "code",
   "execution_count": 89,
   "metadata": {},
   "outputs": [],
   "source": [
    "model6 = Sequential()\n",
    "\n",
    "model6.add(Dense(256, input_shape=(47,), activation='relu', kernel_initializer='normal'))\n",
    "model6.add(Dense(64, activation='relu'))\n",
    "model6.add(Dense(8, activation='relu'))\n",
    "model6.add(Dense(1, activation='sigmoid'))"
   ]
  },
  {
   "cell_type": "code",
   "execution_count": 90,
   "metadata": {},
   "outputs": [],
   "source": [
    "model6.compile(loss='binary_crossentropy', optimizer='sgd', metrics=['accuracy'])"
   ]
  },
  {
   "cell_type": "code",
   "execution_count": 91,
   "metadata": {},
   "outputs": [
    {
     "name": "stdout",
     "output_type": "stream",
     "text": [
      "Train on 4225 samples, validate on 1057 samples\n",
      "Epoch 1/100\n",
      "4225/4225 [==============================] - 0s 71us/step - loss: 0.6729 - accuracy: 0.6679 - val_loss: 0.6443 - val_accuracy: 0.7360\n",
      "Epoch 2/100\n",
      "4225/4225 [==============================] - 0s 41us/step - loss: 0.6258 - accuracy: 0.7342 - val_loss: 0.6079 - val_accuracy: 0.7360\n",
      "Epoch 3/100\n",
      "4225/4225 [==============================] - 0s 36us/step - loss: 0.5924 - accuracy: 0.7342 - val_loss: 0.5727 - val_accuracy: 0.7360\n",
      "Epoch 4/100\n",
      "4225/4225 [==============================] - 0s 33us/step - loss: 0.5595 - accuracy: 0.7342 - val_loss: 0.5413 - val_accuracy: 0.7360\n",
      "Epoch 5/100\n",
      "4225/4225 [==============================] - 0s 29us/step - loss: 0.5299 - accuracy: 0.7342 - val_loss: 0.5130 - val_accuracy: 0.7360\n",
      "Epoch 6/100\n",
      "4225/4225 [==============================] - 0s 28us/step - loss: 0.5031 - accuracy: 0.7411 - val_loss: 0.4855 - val_accuracy: 0.7417\n",
      "Epoch 7/100\n",
      "4225/4225 [==============================] - 0s 30us/step - loss: 0.4786 - accuracy: 0.7598 - val_loss: 0.4608 - val_accuracy: 0.7919\n",
      "Epoch 8/100\n",
      "4225/4225 [==============================] - 0s 29us/step - loss: 0.4576 - accuracy: 0.7830 - val_loss: 0.4422 - val_accuracy: 0.8004\n",
      "Epoch 9/100\n",
      "4225/4225 [==============================] - ETA: 0s - loss: 0.4433 - accuracy: 0.79 - 0s 31us/step - loss: 0.4420 - accuracy: 0.7920 - val_loss: 0.4279 - val_accuracy: 0.8061\n",
      "Epoch 10/100\n",
      "4225/4225 [==============================] - 0s 28us/step - loss: 0.4317 - accuracy: 0.7993 - val_loss: 0.4190 - val_accuracy: 0.8117\n",
      "Epoch 11/100\n",
      "4225/4225 [==============================] - 0s 30us/step - loss: 0.4257 - accuracy: 0.8024 - val_loss: 0.4151 - val_accuracy: 0.8108\n",
      "Epoch 12/100\n",
      "4225/4225 [==============================] - 0s 33us/step - loss: 0.4219 - accuracy: 0.8026 - val_loss: 0.4106 - val_accuracy: 0.8146\n",
      "Epoch 13/100\n",
      "4225/4225 [==============================] - 0s 28us/step - loss: 0.4193 - accuracy: 0.8036 - val_loss: 0.4113 - val_accuracy: 0.8127\n",
      "Epoch 14/100\n",
      "4225/4225 [==============================] - 0s 28us/step - loss: 0.4184 - accuracy: 0.8052 - val_loss: 0.4106 - val_accuracy: 0.8146\n",
      "Epoch 15/100\n",
      "4225/4225 [==============================] - 0s 29us/step - loss: 0.4173 - accuracy: 0.8076 - val_loss: 0.4156 - val_accuracy: 0.8136\n",
      "Epoch 16/100\n",
      "4225/4225 [==============================] - 0s 28us/step - loss: 0.4174 - accuracy: 0.8071 - val_loss: 0.4147 - val_accuracy: 0.8146\n",
      "Epoch 17/100\n",
      "4225/4225 [==============================] - 0s 33us/step - loss: 0.4167 - accuracy: 0.8069 - val_loss: 0.4062 - val_accuracy: 0.8231\n",
      "Epoch 18/100\n",
      "4225/4225 [==============================] - 0s 28us/step - loss: 0.4135 - accuracy: 0.8050 - val_loss: 0.4068 - val_accuracy: 0.8098\n",
      "Epoch 19/100\n",
      "4225/4225 [==============================] - 0s 33us/step - loss: 0.4120 - accuracy: 0.8085 - val_loss: 0.4046 - val_accuracy: 0.8184\n",
      "Epoch 20/100\n",
      "4225/4225 [==============================] - 0s 35us/step - loss: 0.4114 - accuracy: 0.8078 - val_loss: 0.4032 - val_accuracy: 0.8221\n",
      "Epoch 21/100\n",
      "4225/4225 [==============================] - 0s 37us/step - loss: 0.4106 - accuracy: 0.8071 - val_loss: 0.4122 - val_accuracy: 0.8051\n",
      "Epoch 22/100\n",
      "4225/4225 [==============================] - 0s 28us/step - loss: 0.4102 - accuracy: 0.8088 - val_loss: 0.4135 - val_accuracy: 0.8042\n",
      "Epoch 23/100\n",
      "4225/4225 [==============================] - 0s 35us/step - loss: 0.4086 - accuracy: 0.8088 - val_loss: 0.4031 - val_accuracy: 0.8193\n",
      "Epoch 24/100\n",
      "4225/4225 [==============================] - 0s 27us/step - loss: 0.4080 - accuracy: 0.8121 - val_loss: 0.4053 - val_accuracy: 0.8146\n",
      "Epoch 25/100\n",
      "4225/4225 [==============================] - 0s 31us/step - loss: 0.4072 - accuracy: 0.8121 - val_loss: 0.4094 - val_accuracy: 0.8146\n",
      "Epoch 26/100\n",
      "4225/4225 [==============================] - 0s 26us/step - loss: 0.4077 - accuracy: 0.8066 - val_loss: 0.4085 - val_accuracy: 0.8155\n",
      "Epoch 27/100\n",
      "4225/4225 [==============================] - 0s 27us/step - loss: 0.4075 - accuracy: 0.8114 - val_loss: 0.4046 - val_accuracy: 0.8117\n",
      "Epoch 28/100\n",
      "4225/4225 [==============================] - 0s 26us/step - loss: 0.4062 - accuracy: 0.8118 - val_loss: 0.4020 - val_accuracy: 0.8174\n",
      "Epoch 29/100\n",
      "4225/4225 [==============================] - 0s 36us/step - loss: 0.4053 - accuracy: 0.8092 - val_loss: 0.4021 - val_accuracy: 0.8165\n",
      "Epoch 30/100\n",
      "4225/4225 [==============================] - 0s 29us/step - loss: 0.4053 - accuracy: 0.8104 - val_loss: 0.4042 - val_accuracy: 0.8108\n",
      "Epoch 31/100\n",
      "4225/4225 [==============================] - 0s 29us/step - loss: 0.4044 - accuracy: 0.8104 - val_loss: 0.4071 - val_accuracy: 0.8089\n",
      "Epoch 32/100\n",
      "4225/4225 [==============================] - 0s 30us/step - loss: 0.4047 - accuracy: 0.8128 - val_loss: 0.4049 - val_accuracy: 0.8098\n",
      "Epoch 33/100\n",
      "4225/4225 [==============================] - 0s 31us/step - loss: 0.4037 - accuracy: 0.8121 - val_loss: 0.4038 - val_accuracy: 0.8079\n",
      "Epoch 34/100\n",
      "4225/4225 [==============================] - 0s 37us/step - loss: 0.4034 - accuracy: 0.8109 - val_loss: 0.4062 - val_accuracy: 0.8098\n",
      "Epoch 35/100\n",
      "4225/4225 [==============================] - 0s 40us/step - loss: 0.4037 - accuracy: 0.8114 - val_loss: 0.4036 - val_accuracy: 0.8098\n",
      "Epoch 36/100\n",
      "4225/4225 [==============================] - 0s 33us/step - loss: 0.4028 - accuracy: 0.8121 - val_loss: 0.4028 - val_accuracy: 0.8089\n",
      "Epoch 37/100\n",
      "4225/4225 [==============================] - 0s 28us/step - loss: 0.4028 - accuracy: 0.8102 - val_loss: 0.4110 - val_accuracy: 0.8108\n",
      "Epoch 38/100\n",
      "4225/4225 [==============================] - 0s 34us/step - loss: 0.4025 - accuracy: 0.8149 - val_loss: 0.4066 - val_accuracy: 0.8070\n",
      "Epoch 39/100\n",
      "4225/4225 [==============================] - 0s 36us/step - loss: 0.4011 - accuracy: 0.8128 - val_loss: 0.4066 - val_accuracy: 0.8089\n",
      "Epoch 40/100\n",
      "4225/4225 [==============================] - 0s 33us/step - loss: 0.4018 - accuracy: 0.8125 - val_loss: 0.4151 - val_accuracy: 0.8079\n",
      "Epoch 41/100\n",
      "4225/4225 [==============================] - 0s 30us/step - loss: 0.4022 - accuracy: 0.8116 - val_loss: 0.4207 - val_accuracy: 0.7994\n",
      "Epoch 42/100\n",
      "4225/4225 [==============================] - 0s 26us/step - loss: 0.4044 - accuracy: 0.8099 - val_loss: 0.4044 - val_accuracy: 0.8108\n",
      "Epoch 43/100\n",
      "4225/4225 [==============================] - 0s 37us/step - loss: 0.4010 - accuracy: 0.8121 - val_loss: 0.4106 - val_accuracy: 0.8108\n",
      "Epoch 44/100\n",
      "4225/4225 [==============================] - 0s 34us/step - loss: 0.4024 - accuracy: 0.8109 - val_loss: 0.4039 - val_accuracy: 0.8098\n",
      "Epoch 45/100\n",
      "4225/4225 [==============================] - 0s 27us/step - loss: 0.4005 - accuracy: 0.8154 - val_loss: 0.4043 - val_accuracy: 0.8108\n",
      "Epoch 46/100\n",
      "4225/4225 [==============================] - 0s 31us/step - loss: 0.4002 - accuracy: 0.8140 - val_loss: 0.4088 - val_accuracy: 0.8013\n",
      "Epoch 47/100\n",
      "4225/4225 [==============================] - 0s 31us/step - loss: 0.4002 - accuracy: 0.8144 - val_loss: 0.4021 - val_accuracy: 0.8184\n",
      "Epoch 48/100\n",
      "4225/4225 [==============================] - 0s 38us/step - loss: 0.3997 - accuracy: 0.8140 - val_loss: 0.4025 - val_accuracy: 0.8193\n",
      "Epoch 49/100\n",
      "4225/4225 [==============================] - 0s 36us/step - loss: 0.3996 - accuracy: 0.8111 - val_loss: 0.4043 - val_accuracy: 0.8089\n",
      "Epoch 50/100\n",
      "4225/4225 [==============================] - 0s 38us/step - loss: 0.3991 - accuracy: 0.8133 - val_loss: 0.4042 - val_accuracy: 0.8089\n",
      "Epoch 51/100\n",
      "4225/4225 [==============================] - 0s 35us/step - loss: 0.3986 - accuracy: 0.8130 - val_loss: 0.4089 - val_accuracy: 0.8042\n",
      "Epoch 52/100\n",
      "4225/4225 [==============================] - 0s 35us/step - loss: 0.3990 - accuracy: 0.8128 - val_loss: 0.4311 - val_accuracy: 0.7994\n",
      "Epoch 53/100\n",
      "4225/4225 [==============================] - 0s 34us/step - loss: 0.4006 - accuracy: 0.8099 - val_loss: 0.4065 - val_accuracy: 0.8023\n",
      "Epoch 54/100\n",
      "4225/4225 [==============================] - 0s 30us/step - loss: 0.3983 - accuracy: 0.8121 - val_loss: 0.4037 - val_accuracy: 0.8136\n",
      "Epoch 55/100\n",
      "4225/4225 [==============================] - 0s 33us/step - loss: 0.3985 - accuracy: 0.8142 - val_loss: 0.4040 - val_accuracy: 0.8089\n",
      "Epoch 56/100\n",
      "4225/4225 [==============================] - 0s 36us/step - loss: 0.3976 - accuracy: 0.8118 - val_loss: 0.4049 - val_accuracy: 0.8079\n",
      "Epoch 57/100\n",
      "4225/4225 [==============================] - 0s 37us/step - loss: 0.3974 - accuracy: 0.8133 - val_loss: 0.4265 - val_accuracy: 0.8098\n",
      "Epoch 58/100\n",
      "4225/4225 [==============================] - 0s 30us/step - loss: 0.3988 - accuracy: 0.8156 - val_loss: 0.4112 - val_accuracy: 0.8061\n",
      "Epoch 59/100\n",
      "4225/4225 [==============================] - 0s 44us/step - loss: 0.3966 - accuracy: 0.8147 - val_loss: 0.4454 - val_accuracy: 0.7985\n",
      "Epoch 60/100\n",
      "4225/4225 [==============================] - 0s 40us/step - loss: 0.3994 - accuracy: 0.8133 - val_loss: 0.4084 - val_accuracy: 0.8023\n",
      "Epoch 61/100\n",
      "4225/4225 [==============================] - 0s 36us/step - loss: 0.3965 - accuracy: 0.8159 - val_loss: 0.4049 - val_accuracy: 0.8079\n",
      "Epoch 62/100\n",
      "4225/4225 [==============================] - 0s 37us/step - loss: 0.3966 - accuracy: 0.8161 - val_loss: 0.4045 - val_accuracy: 0.8089\n",
      "Epoch 63/100\n",
      "4225/4225 [==============================] - 0s 42us/step - loss: 0.3962 - accuracy: 0.8168 - val_loss: 0.4075 - val_accuracy: 0.8013\n",
      "Epoch 64/100\n",
      "4225/4225 [==============================] - 0s 43us/step - loss: 0.3961 - accuracy: 0.8168 - val_loss: 0.4103 - val_accuracy: 0.8079\n",
      "Epoch 65/100\n",
      "4225/4225 [==============================] - 0s 34us/step - loss: 0.3962 - accuracy: 0.8123 - val_loss: 0.4120 - val_accuracy: 0.8089\n",
      "Epoch 66/100\n",
      "4225/4225 [==============================] - 0s 38us/step - loss: 0.3955 - accuracy: 0.8128 - val_loss: 0.4050 - val_accuracy: 0.8061\n",
      "Epoch 67/100\n",
      "4225/4225 [==============================] - 0s 45us/step - loss: 0.3952 - accuracy: 0.8154 - val_loss: 0.4032 - val_accuracy: 0.8098\n",
      "Epoch 68/100\n",
      "4225/4225 [==============================] - 0s 47us/step - loss: 0.3953 - accuracy: 0.8142 - val_loss: 0.4042 - val_accuracy: 0.8089\n",
      "Epoch 69/100\n",
      "4225/4225 [==============================] - 0s 40us/step - loss: 0.3949 - accuracy: 0.8166 - val_loss: 0.4169 - val_accuracy: 0.8089\n",
      "Epoch 70/100\n",
      "4225/4225 [==============================] - 0s 34us/step - loss: 0.3949 - accuracy: 0.8170 - val_loss: 0.4054 - val_accuracy: 0.8108\n",
      "Epoch 71/100\n",
      "4225/4225 [==============================] - 0s 31us/step - loss: 0.3944 - accuracy: 0.8175 - val_loss: 0.4040 - val_accuracy: 0.8079\n",
      "Epoch 72/100\n",
      "4225/4225 [==============================] - 0s 30us/step - loss: 0.3943 - accuracy: 0.8180 - val_loss: 0.4070 - val_accuracy: 0.8042\n",
      "Epoch 73/100\n",
      "4225/4225 [==============================] - 0s 31us/step - loss: 0.3939 - accuracy: 0.8151 - val_loss: 0.4068 - val_accuracy: 0.8070\n",
      "Epoch 74/100\n",
      "4225/4225 [==============================] - 0s 29us/step - loss: 0.3937 - accuracy: 0.8185 - val_loss: 0.4053 - val_accuracy: 0.8061\n",
      "Epoch 75/100\n",
      "4225/4225 [==============================] - 0s 29us/step - loss: 0.3937 - accuracy: 0.8185 - val_loss: 0.4037 - val_accuracy: 0.8184\n",
      "Epoch 76/100\n",
      "4225/4225 [==============================] - 0s 32us/step - loss: 0.3930 - accuracy: 0.8180 - val_loss: 0.4040 - val_accuracy: 0.8108\n",
      "Epoch 77/100\n",
      "4225/4225 [==============================] - 0s 32us/step - loss: 0.3926 - accuracy: 0.8173 - val_loss: 0.4036 - val_accuracy: 0.8193\n",
      "Epoch 78/100\n",
      "4225/4225 [==============================] - 0s 44us/step - loss: 0.3919 - accuracy: 0.8137 - val_loss: 0.4041 - val_accuracy: 0.8079\n",
      "Epoch 79/100\n",
      "4225/4225 [==============================] - 0s 42us/step - loss: 0.3924 - accuracy: 0.8178 - val_loss: 0.4031 - val_accuracy: 0.8202\n",
      "Epoch 80/100\n",
      "4225/4225 [==============================] - 0s 38us/step - loss: 0.3927 - accuracy: 0.8182 - val_loss: 0.4097 - val_accuracy: 0.8070\n",
      "Epoch 81/100\n",
      "4225/4225 [==============================] - 0s 30us/step - loss: 0.3919 - accuracy: 0.8123 - val_loss: 0.4086 - val_accuracy: 0.8042\n",
      "Epoch 82/100\n",
      "4225/4225 [==============================] - 0s 39us/step - loss: 0.3920 - accuracy: 0.8194 - val_loss: 0.4070 - val_accuracy: 0.8032\n",
      "Epoch 83/100\n",
      "4225/4225 [==============================] - 0s 32us/step - loss: 0.3918 - accuracy: 0.8178 - val_loss: 0.4081 - val_accuracy: 0.8051\n",
      "Epoch 84/100\n",
      "4225/4225 [==============================] - 0s 36us/step - loss: 0.3915 - accuracy: 0.8163 - val_loss: 0.4034 - val_accuracy: 0.8136\n",
      "Epoch 85/100\n",
      "4225/4225 [==============================] - 0s 31us/step - loss: 0.3912 - accuracy: 0.8187 - val_loss: 0.4084 - val_accuracy: 0.8032\n",
      "Epoch 86/100\n",
      "4225/4225 [==============================] - 0s 34us/step - loss: 0.3907 - accuracy: 0.8196 - val_loss: 0.4414 - val_accuracy: 0.7824\n",
      "Epoch 87/100\n",
      "4225/4225 [==============================] - 0s 33us/step - loss: 0.3962 - accuracy: 0.8137 - val_loss: 0.4101 - val_accuracy: 0.8098\n",
      "Epoch 88/100\n",
      "4225/4225 [==============================] - 0s 34us/step - loss: 0.3911 - accuracy: 0.8180 - val_loss: 0.4148 - val_accuracy: 0.8079\n",
      "Epoch 89/100\n",
      "4225/4225 [==============================] - 0s 30us/step - loss: 0.3903 - accuracy: 0.8178 - val_loss: 0.4196 - val_accuracy: 0.8089\n",
      "Epoch 90/100\n",
      "4225/4225 [==============================] - 0s 35us/step - loss: 0.3907 - accuracy: 0.8189 - val_loss: 0.4045 - val_accuracy: 0.8193\n",
      "Epoch 91/100\n",
      "4225/4225 [==============================] - 0s 40us/step - loss: 0.3899 - accuracy: 0.8180 - val_loss: 0.4093 - val_accuracy: 0.8023\n",
      "Epoch 92/100\n",
      "4225/4225 [==============================] - 0s 36us/step - loss: 0.3897 - accuracy: 0.8189 - val_loss: 0.4212 - val_accuracy: 0.8042\n",
      "Epoch 93/100\n",
      "4225/4225 [==============================] - 0s 36us/step - loss: 0.3896 - accuracy: 0.8185 - val_loss: 0.4250 - val_accuracy: 0.7928\n",
      "Epoch 94/100\n",
      "4225/4225 [==============================] - 0s 41us/step - loss: 0.3917 - accuracy: 0.8163 - val_loss: 0.4050 - val_accuracy: 0.8165\n",
      "Epoch 95/100\n",
      "4225/4225 [==============================] - 0s 33us/step - loss: 0.3896 - accuracy: 0.8173 - val_loss: 0.4116 - val_accuracy: 0.8051\n",
      "Epoch 96/100\n",
      "4225/4225 [==============================] - 0s 35us/step - loss: 0.3890 - accuracy: 0.8170 - val_loss: 0.4052 - val_accuracy: 0.8042\n",
      "Epoch 97/100\n",
      "4225/4225 [==============================] - 0s 37us/step - loss: 0.3887 - accuracy: 0.8218 - val_loss: 0.4079 - val_accuracy: 0.8004\n",
      "Epoch 98/100\n",
      "4225/4225 [==============================] - 0s 40us/step - loss: 0.3881 - accuracy: 0.8220 - val_loss: 0.4452 - val_accuracy: 0.8051\n",
      "Epoch 99/100\n",
      "4225/4225 [==============================] - 0s 35us/step - loss: 0.3898 - accuracy: 0.8213 - val_loss: 0.4139 - val_accuracy: 0.8032\n",
      "Epoch 100/100\n",
      "4225/4225 [==============================] - 0s 39us/step - loss: 0.3879 - accuracy: 0.8192 - val_loss: 0.4054 - val_accuracy: 0.8070\n"
     ]
    }
   ],
   "source": [
    "model6_history = model6.fit(X_train_preprocessed_arr, y_train, epochs=100, batch_size=64, validation_split=0.2)"
   ]
  },
  {
   "cell_type": "code",
   "execution_count": 92,
   "metadata": {},
   "outputs": [
    {
     "name": "stdout",
     "output_type": "stream",
     "text": [
      "[[3527  353]\n",
      " [ 601  801]]\n",
      "[[1168  126]\n",
      " [ 229  238]]\n",
      "Train Accuracy:  0.8193865959863688\n",
      "Train Recall:  0.5713266761768901\n",
      "Train Precision:  0.6941074523396881\n",
      "-----------------------\n",
      "Val Accuracy:  0.7984099943214082\n",
      "Val Recall:  0.5096359743040685\n",
      "Val Precision:  0.6538461538461539\n"
     ]
    }
   ],
   "source": [
    "val_pred = model6.predict_classes(X_val_preprocessed_arr)\n",
    "train_pred = model6.predict_classes(X_train_preprocessed_arr)\n",
    "\n",
    "confusion_matrix_val = confusion_matrix(y_val, val_pred)\n",
    "confusion_matrix_train = confusion_matrix(y_train, train_pred)\n",
    "\n",
    "print(confusion_matrix_train)\n",
    "print(confusion_matrix_val)\n",
    "\n",
    "from sklearn.metrics import accuracy_score,recall_score,confusion_matrix,f1_score,precision_score\n",
    "accuracy_score_train = accuracy_score(y_train, train_pred)\n",
    "accuracy_score_val = accuracy_score(y_val, val_pred)\n",
    "\n",
    "recall_score_train = recall_score(y_train, train_pred)\n",
    "recall_score_val = recall_score(y_val, val_pred)\n",
    "\n",
    "precision_score_train = precision_score(y_train, train_pred)\n",
    "precision_score_val = precision_score(y_val, val_pred)\n",
    "\n",
    "\n",
    "print(\"Train Accuracy: \",accuracy_score_train)\n",
    "print(\"Train Recall: \",recall_score_train)\n",
    "print(\"Train Precision: \",precision_score_train)\n",
    "\n",
    "print(\"-----------------------\")\n",
    "\n",
    "print(\"Val Accuracy: \",accuracy_score_val)\n",
    "print(\"Val Recall: \",recall_score_val)\n",
    "print(\"Val Precision: \",precision_score_val)"
   ]
  },
  {
   "cell_type": "markdown",
   "metadata": {},
   "source": [
    "### Model - 7 (MLP with 4 layers)\n",
    "#### Activation function - relu and 25 neurons in 1st hidden layer and 20 in 2nd hidden layer and 'Adam' as optimization"
   ]
  },
  {
   "cell_type": "code",
   "execution_count": 94,
   "metadata": {},
   "outputs": [],
   "source": [
    "model7 = Sequential()\n",
    "\n",
    "model7.add(Dense(256, input_shape=(47,), activation='relu', kernel_initializer='normal'))\n",
    "model7.add(Dense(64, activation='relu'))\n",
    "model7.add(Dense(8, activation='relu'))\n",
    "model7.add(Dense(1, activation='sigmoid'))"
   ]
  },
  {
   "cell_type": "code",
   "execution_count": 95,
   "metadata": {},
   "outputs": [],
   "source": [
    "opt = keras.optimizers.Adam(learning_rate=0.01)\n",
    "model7.compile(loss = 'binary_crossentropy', optimizer = opt, metrics = ['accuracy'])"
   ]
  },
  {
   "cell_type": "code",
   "execution_count": 96,
   "metadata": {},
   "outputs": [
    {
     "name": "stdout",
     "output_type": "stream",
     "text": [
      "Train on 4225 samples, validate on 1057 samples\n",
      "Epoch 1/100\n",
      "4225/4225 [==============================] - 0s 84us/step - loss: 0.4622 - accuracy: 0.7425 - val_loss: 0.4314 - val_accuracy: 0.8089\n",
      "Epoch 2/100\n",
      "4225/4225 [==============================] - 0s 37us/step - loss: 0.4306 - accuracy: 0.7962 - val_loss: 0.4195 - val_accuracy: 0.8079\n",
      "Epoch 3/100\n",
      "4225/4225 [==============================] - 0s 36us/step - loss: 0.4213 - accuracy: 0.7957 - val_loss: 0.4438 - val_accuracy: 0.8013\n",
      "Epoch 4/100\n",
      "4225/4225 [==============================] - 0s 39us/step - loss: 0.4339 - accuracy: 0.7912 - val_loss: 0.4266 - val_accuracy: 0.8108\n",
      "Epoch 5/100\n",
      "4225/4225 [==============================] - 0s 36us/step - loss: 0.4363 - accuracy: 0.7825 - val_loss: 0.4172 - val_accuracy: 0.8136\n",
      "Epoch 6/100\n",
      "4225/4225 [==============================] - 0s 36us/step - loss: 0.4138 - accuracy: 0.8017 - val_loss: 0.4082 - val_accuracy: 0.8070\n",
      "Epoch 7/100\n",
      "4225/4225 [==============================] - ETA: 0s - loss: 0.4159 - accuracy: 0.79 - 0s 36us/step - loss: 0.4143 - accuracy: 0.7964 - val_loss: 0.4134 - val_accuracy: 0.8032\n",
      "Epoch 8/100\n",
      "4225/4225 [==============================] - 0s 33us/step - loss: 0.4105 - accuracy: 0.8047 - val_loss: 0.4113 - val_accuracy: 0.8079\n",
      "Epoch 9/100\n",
      "4225/4225 [==============================] - 0s 36us/step - loss: 0.4087 - accuracy: 0.8040 - val_loss: 0.4082 - val_accuracy: 0.8098\n",
      "Epoch 10/100\n",
      "4225/4225 [==============================] - 0s 34us/step - loss: 0.4004 - accuracy: 0.8104 - val_loss: 0.4106 - val_accuracy: 0.7994\n",
      "Epoch 11/100\n",
      "4225/4225 [==============================] - 0s 34us/step - loss: 0.4019 - accuracy: 0.8123 - val_loss: 0.4114 - val_accuracy: 0.8098\n",
      "Epoch 12/100\n",
      "4225/4225 [==============================] - 0s 34us/step - loss: 0.3996 - accuracy: 0.8090 - val_loss: 0.4111 - val_accuracy: 0.8117\n",
      "Epoch 13/100\n",
      "4225/4225 [==============================] - 0s 33us/step - loss: 0.3960 - accuracy: 0.8123 - val_loss: 0.4151 - val_accuracy: 0.8098\n",
      "Epoch 14/100\n",
      "4225/4225 [==============================] - 0s 35us/step - loss: 0.3925 - accuracy: 0.8123 - val_loss: 0.4315 - val_accuracy: 0.8070\n",
      "Epoch 15/100\n",
      "4225/4225 [==============================] - 0s 35us/step - loss: 0.3924 - accuracy: 0.8156 - val_loss: 0.4215 - val_accuracy: 0.8061\n",
      "Epoch 16/100\n",
      "4225/4225 [==============================] - 0s 33us/step - loss: 0.3891 - accuracy: 0.8147 - val_loss: 0.4336 - val_accuracy: 0.8042\n",
      "Epoch 17/100\n",
      "4225/4225 [==============================] - 0s 29us/step - loss: 0.3862 - accuracy: 0.8168 - val_loss: 0.4394 - val_accuracy: 0.8051\n",
      "Epoch 18/100\n",
      "4225/4225 [==============================] - 0s 35us/step - loss: 0.3785 - accuracy: 0.8156 - val_loss: 0.4585 - val_accuracy: 0.8023\n",
      "Epoch 19/100\n",
      "4225/4225 [==============================] - 0s 40us/step - loss: 0.3827 - accuracy: 0.8199 - val_loss: 0.4449 - val_accuracy: 0.8070\n",
      "Epoch 20/100\n",
      "4225/4225 [==============================] - 0s 39us/step - loss: 0.3834 - accuracy: 0.8135 - val_loss: 0.4582 - val_accuracy: 0.8079\n",
      "Epoch 21/100\n",
      "4225/4225 [==============================] - 0s 32us/step - loss: 0.3743 - accuracy: 0.8206 - val_loss: 0.4370 - val_accuracy: 0.7919\n",
      "Epoch 22/100\n",
      "4225/4225 [==============================] - 0s 31us/step - loss: 0.3676 - accuracy: 0.8232 - val_loss: 0.4464 - val_accuracy: 0.7956\n",
      "Epoch 23/100\n",
      "4225/4225 [==============================] - 0s 37us/step - loss: 0.3613 - accuracy: 0.8267 - val_loss: 0.4847 - val_accuracy: 0.8013\n",
      "Epoch 24/100\n",
      "4225/4225 [==============================] - 0s 40us/step - loss: 0.3704 - accuracy: 0.8182 - val_loss: 0.4411 - val_accuracy: 0.7928\n",
      "Epoch 25/100\n",
      "4225/4225 [==============================] - 0s 34us/step - loss: 0.3652 - accuracy: 0.8253 - val_loss: 0.4632 - val_accuracy: 0.7843\n",
      "Epoch 26/100\n",
      "4225/4225 [==============================] - 0s 31us/step - loss: 0.3483 - accuracy: 0.8282 - val_loss: 0.4633 - val_accuracy: 0.7815\n",
      "Epoch 27/100\n",
      "4225/4225 [==============================] - 0s 32us/step - loss: 0.3465 - accuracy: 0.8355 - val_loss: 0.4843 - val_accuracy: 0.7644\n",
      "Epoch 28/100\n",
      "4225/4225 [==============================] - 0s 34us/step - loss: 0.3870 - accuracy: 0.8033 - val_loss: 0.4484 - val_accuracy: 0.7994\n",
      "Epoch 29/100\n",
      "4225/4225 [==============================] - 0s 32us/step - loss: 0.3487 - accuracy: 0.8298 - val_loss: 0.5149 - val_accuracy: 0.7966\n",
      "Epoch 30/100\n",
      "4225/4225 [==============================] - 0s 33us/step - loss: 0.3372 - accuracy: 0.8324 - val_loss: 0.4948 - val_accuracy: 0.7890\n",
      "Epoch 31/100\n",
      "4225/4225 [==============================] - 0s 37us/step - loss: 0.3291 - accuracy: 0.8355 - val_loss: 0.5225 - val_accuracy: 0.7777\n",
      "Epoch 32/100\n",
      "4225/4225 [==============================] - 0s 41us/step - loss: 0.3355 - accuracy: 0.8298 - val_loss: 0.5309 - val_accuracy: 0.7938\n",
      "Epoch 33/100\n",
      "4225/4225 [==============================] - 0s 35us/step - loss: 0.3202 - accuracy: 0.8402 - val_loss: 0.5250 - val_accuracy: 0.7909\n",
      "Epoch 34/100\n",
      "4225/4225 [==============================] - 0s 32us/step - loss: 0.3020 - accuracy: 0.8528 - val_loss: 0.5523 - val_accuracy: 0.7692\n",
      "Epoch 35/100\n",
      "4225/4225 [==============================] - 0s 34us/step - loss: 0.2947 - accuracy: 0.8547 - val_loss: 0.5559 - val_accuracy: 0.7748\n",
      "Epoch 36/100\n",
      "4225/4225 [==============================] - 0s 35us/step - loss: 0.2946 - accuracy: 0.8556 - val_loss: 0.6734 - val_accuracy: 0.7862\n",
      "Epoch 37/100\n",
      "4225/4225 [==============================] - 0s 35us/step - loss: 0.2841 - accuracy: 0.8592 - val_loss: 0.6409 - val_accuracy: 0.7701\n",
      "Epoch 38/100\n",
      "4225/4225 [==============================] - 0s 34us/step - loss: 0.2786 - accuracy: 0.8637 - val_loss: 0.6267 - val_accuracy: 0.7843\n",
      "Epoch 39/100\n",
      "4225/4225 [==============================] - 0s 37us/step - loss: 0.2666 - accuracy: 0.8708 - val_loss: 0.7532 - val_accuracy: 0.7786\n",
      "Epoch 40/100\n",
      "4225/4225 [==============================] - 0s 35us/step - loss: 0.2590 - accuracy: 0.8682 - val_loss: 0.7572 - val_accuracy: 0.7588\n",
      "Epoch 41/100\n",
      "4225/4225 [==============================] - 0s 33us/step - loss: 0.2584 - accuracy: 0.8767 - val_loss: 0.7510 - val_accuracy: 0.7786\n",
      "Epoch 42/100\n",
      "4225/4225 [==============================] - 0s 37us/step - loss: 0.2456 - accuracy: 0.8764 - val_loss: 0.8466 - val_accuracy: 0.7796\n",
      "Epoch 43/100\n",
      "4225/4225 [==============================] - 0s 37us/step - loss: 0.2464 - accuracy: 0.8779 - val_loss: 0.8333 - val_accuracy: 0.7644\n",
      "Epoch 44/100\n",
      "4225/4225 [==============================] - 0s 41us/step - loss: 0.2354 - accuracy: 0.8845 - val_loss: 0.8411 - val_accuracy: 0.7597\n",
      "Epoch 45/100\n",
      "4225/4225 [==============================] - 0s 41us/step - loss: 0.2250 - accuracy: 0.8944 - val_loss: 0.9570 - val_accuracy: 0.7673\n",
      "Epoch 46/100\n",
      "4225/4225 [==============================] - 0s 32us/step - loss: 0.2314 - accuracy: 0.8914 - val_loss: 0.8551 - val_accuracy: 0.7474\n",
      "Epoch 47/100\n",
      "4225/4225 [==============================] - 0s 35us/step - loss: 0.2218 - accuracy: 0.8973 - val_loss: 0.8239 - val_accuracy: 0.7559\n",
      "Epoch 48/100\n",
      "4225/4225 [==============================] - 0s 33us/step - loss: 0.2744 - accuracy: 0.8715 - val_loss: 0.6811 - val_accuracy: 0.7597\n",
      "Epoch 49/100\n",
      "4225/4225 [==============================] - 0s 32us/step - loss: 0.2563 - accuracy: 0.8779 - val_loss: 0.8217 - val_accuracy: 0.7796\n",
      "Epoch 50/100\n",
      "4225/4225 [==============================] - 0s 39us/step - loss: 0.2242 - accuracy: 0.8940 - val_loss: 0.8395 - val_accuracy: 0.7663\n",
      "Epoch 51/100\n",
      "4225/4225 [==============================] - 0s 33us/step - loss: 0.2109 - accuracy: 0.9001 - val_loss: 0.9075 - val_accuracy: 0.7550\n",
      "Epoch 52/100\n",
      "4225/4225 [==============================] - 0s 34us/step - loss: 0.2081 - accuracy: 0.9022 - val_loss: 1.0573 - val_accuracy: 0.7720\n",
      "Epoch 53/100\n",
      "4225/4225 [==============================] - 0s 32us/step - loss: 0.2232 - accuracy: 0.8947 - val_loss: 0.9374 - val_accuracy: 0.7692\n",
      "Epoch 54/100\n",
      "4225/4225 [==============================] - 0s 36us/step - loss: 0.2014 - accuracy: 0.9079 - val_loss: 1.1486 - val_accuracy: 0.7767\n",
      "Epoch 55/100\n",
      "4225/4225 [==============================] - 0s 32us/step - loss: 0.1874 - accuracy: 0.9124 - val_loss: 1.1135 - val_accuracy: 0.7635\n",
      "Epoch 56/100\n",
      "4225/4225 [==============================] - 0s 30us/step - loss: 0.1828 - accuracy: 0.9136 - val_loss: 1.2305 - val_accuracy: 0.7654\n",
      "Epoch 57/100\n",
      "4225/4225 [==============================] - 0s 33us/step - loss: 0.1815 - accuracy: 0.9131 - val_loss: 1.1670 - val_accuracy: 0.7663\n",
      "Epoch 58/100\n",
      "4225/4225 [==============================] - 0s 29us/step - loss: 0.2013 - accuracy: 0.9037 - val_loss: 1.1455 - val_accuracy: 0.7644\n",
      "Epoch 59/100\n",
      "4225/4225 [==============================] - ETA: 0s - loss: 0.1833 - accuracy: 0.91 - 0s 30us/step - loss: 0.1836 - accuracy: 0.9150 - val_loss: 1.2821 - val_accuracy: 0.7588\n",
      "Epoch 60/100\n",
      "4225/4225 [==============================] - 0s 27us/step - loss: 0.1757 - accuracy: 0.9176 - val_loss: 1.3093 - val_accuracy: 0.7692\n",
      "Epoch 61/100\n",
      "4225/4225 [==============================] - 0s 33us/step - loss: 0.1748 - accuracy: 0.9181 - val_loss: 1.3618 - val_accuracy: 0.7559\n",
      "Epoch 62/100\n",
      "4225/4225 [==============================] - 0s 27us/step - loss: 0.2480 - accuracy: 0.8833 - val_loss: 0.9759 - val_accuracy: 0.7682\n",
      "Epoch 63/100\n",
      "4225/4225 [==============================] - 0s 26us/step - loss: 0.1919 - accuracy: 0.9110 - val_loss: 1.2291 - val_accuracy: 0.7739\n",
      "Epoch 64/100\n",
      "4225/4225 [==============================] - 0s 27us/step - loss: 0.1736 - accuracy: 0.9164 - val_loss: 1.2920 - val_accuracy: 0.7550\n",
      "Epoch 65/100\n",
      "4225/4225 [==============================] - 0s 27us/step - loss: 0.1648 - accuracy: 0.9221 - val_loss: 1.3568 - val_accuracy: 0.7606\n",
      "Epoch 66/100\n",
      "4225/4225 [==============================] - 0s 33us/step - loss: 0.1682 - accuracy: 0.9214 - val_loss: 1.3425 - val_accuracy: 0.7701\n",
      "Epoch 67/100\n",
      "4225/4225 [==============================] - 0s 39us/step - loss: 0.1845 - accuracy: 0.9124 - val_loss: 1.2362 - val_accuracy: 0.7682\n",
      "Epoch 68/100\n",
      "4225/4225 [==============================] - 0s 35us/step - loss: 0.1690 - accuracy: 0.9200 - val_loss: 1.3516 - val_accuracy: 0.7512\n",
      "Epoch 69/100\n",
      "4225/4225 [==============================] - 0s 30us/step - loss: 0.1700 - accuracy: 0.9224 - val_loss: 1.3855 - val_accuracy: 0.7673\n",
      "Epoch 70/100\n",
      "4225/4225 [==============================] - 0s 30us/step - loss: 0.1636 - accuracy: 0.9231 - val_loss: 1.3027 - val_accuracy: 0.7569\n",
      "Epoch 71/100\n",
      "4225/4225 [==============================] - 0s 30us/step - loss: 0.1495 - accuracy: 0.9316 - val_loss: 1.4587 - val_accuracy: 0.7692\n",
      "Epoch 72/100\n",
      "4225/4225 [==============================] - 0s 39us/step - loss: 0.1464 - accuracy: 0.9323 - val_loss: 1.5843 - val_accuracy: 0.7578\n",
      "Epoch 73/100\n",
      "4225/4225 [==============================] - 0s 34us/step - loss: 0.1487 - accuracy: 0.9299 - val_loss: 1.6279 - val_accuracy: 0.7455\n",
      "Epoch 74/100\n",
      "4225/4225 [==============================] - 0s 39us/step - loss: 0.1485 - accuracy: 0.9314 - val_loss: 1.6442 - val_accuracy: 0.7654\n",
      "Epoch 75/100\n",
      "4225/4225 [==============================] - 0s 38us/step - loss: 0.1612 - accuracy: 0.9292 - val_loss: 1.5296 - val_accuracy: 0.7512\n",
      "Epoch 76/100\n",
      "4225/4225 [==============================] - 0s 37us/step - loss: 0.1399 - accuracy: 0.9361 - val_loss: 1.7669 - val_accuracy: 0.7635\n",
      "Epoch 77/100\n",
      "4225/4225 [==============================] - 0s 36us/step - loss: 0.1435 - accuracy: 0.9335 - val_loss: 1.7405 - val_accuracy: 0.7644\n",
      "Epoch 78/100\n",
      "4225/4225 [==============================] - 0s 34us/step - loss: 0.1251 - accuracy: 0.9380 - val_loss: 1.9049 - val_accuracy: 0.7531\n",
      "Epoch 79/100\n",
      "4225/4225 [==============================] - 0s 36us/step - loss: 0.1258 - accuracy: 0.9413 - val_loss: 1.9620 - val_accuracy: 0.7729\n",
      "Epoch 80/100\n",
      "4225/4225 [==============================] - 0s 40us/step - loss: 0.1533 - accuracy: 0.9314 - val_loss: 1.8332 - val_accuracy: 0.7682\n",
      "Epoch 81/100\n",
      "4225/4225 [==============================] - 0s 39us/step - loss: 0.1578 - accuracy: 0.9280 - val_loss: 1.5340 - val_accuracy: 0.7569\n",
      "Epoch 82/100\n",
      "4225/4225 [==============================] - 0s 39us/step - loss: 0.1368 - accuracy: 0.9396 - val_loss: 1.6082 - val_accuracy: 0.7625\n",
      "Epoch 83/100\n",
      "4225/4225 [==============================] - 0s 36us/step - loss: 0.1457 - accuracy: 0.9337 - val_loss: 1.4948 - val_accuracy: 0.7654\n",
      "Epoch 84/100\n",
      "4225/4225 [==============================] - 0s 37us/step - loss: 0.1319 - accuracy: 0.9404 - val_loss: 1.7531 - val_accuracy: 0.7711\n",
      "Epoch 85/100\n",
      "4225/4225 [==============================] - 0s 34us/step - loss: 0.1188 - accuracy: 0.9434 - val_loss: 1.7130 - val_accuracy: 0.7663\n",
      "Epoch 86/100\n",
      "4225/4225 [==============================] - 0s 34us/step - loss: 0.1172 - accuracy: 0.9460 - val_loss: 1.7910 - val_accuracy: 0.7720\n",
      "Epoch 87/100\n",
      "4225/4225 [==============================] - 0s 38us/step - loss: 0.1206 - accuracy: 0.9434 - val_loss: 1.9524 - val_accuracy: 0.7654\n",
      "Epoch 88/100\n",
      "4225/4225 [==============================] - 0s 36us/step - loss: 0.1565 - accuracy: 0.9349 - val_loss: 1.5527 - val_accuracy: 0.7692\n",
      "Epoch 89/100\n",
      "4225/4225 [==============================] - 0s 46us/step - loss: 0.1237 - accuracy: 0.9422 - val_loss: 1.7916 - val_accuracy: 0.7720\n",
      "Epoch 90/100\n",
      "4225/4225 [==============================] - 0s 35us/step - loss: 0.1160 - accuracy: 0.9439 - val_loss: 1.6002 - val_accuracy: 0.7597\n",
      "Epoch 91/100\n",
      "4225/4225 [==============================] - 0s 38us/step - loss: 0.1141 - accuracy: 0.9472 - val_loss: 1.8193 - val_accuracy: 0.7635\n",
      "Epoch 92/100\n",
      "4225/4225 [==============================] - 0s 34us/step - loss: 0.1145 - accuracy: 0.9453 - val_loss: 1.8817 - val_accuracy: 0.7729\n",
      "Epoch 93/100\n",
      "4225/4225 [==============================] - 0s 36us/step - loss: 0.1119 - accuracy: 0.9470 - val_loss: 1.9081 - val_accuracy: 0.7644\n",
      "Epoch 94/100\n",
      "4225/4225 [==============================] - 0s 32us/step - loss: 0.1423 - accuracy: 0.9380 - val_loss: 1.6348 - val_accuracy: 0.7796\n",
      "Epoch 95/100\n",
      "4225/4225 [==============================] - 0s 33us/step - loss: 0.1275 - accuracy: 0.9420 - val_loss: 1.7338 - val_accuracy: 0.7692\n",
      "Epoch 96/100\n",
      "4225/4225 [==============================] - 0s 33us/step - loss: 0.1206 - accuracy: 0.9463 - val_loss: 1.8024 - val_accuracy: 0.7616\n",
      "Epoch 97/100\n",
      "4225/4225 [==============================] - 0s 40us/step - loss: 0.1115 - accuracy: 0.9467 - val_loss: 1.7723 - val_accuracy: 0.7701\n",
      "Epoch 98/100\n",
      "4225/4225 [==============================] - 0s 34us/step - loss: 0.1357 - accuracy: 0.9382 - val_loss: 1.4288 - val_accuracy: 0.7644\n",
      "Epoch 99/100\n",
      "4225/4225 [==============================] - 0s 33us/step - loss: 0.1137 - accuracy: 0.9470 - val_loss: 1.7042 - val_accuracy: 0.7729\n",
      "Epoch 100/100\n",
      "4225/4225 [==============================] - 0s 37us/step - loss: 0.1044 - accuracy: 0.9489 - val_loss: 1.9688 - val_accuracy: 0.7625\n"
     ]
    }
   ],
   "source": [
    "model7_history = model7.fit(X_train_preprocessed_arr, y_train, epochs=100, batch_size=64, validation_split=0.2)"
   ]
  },
  {
   "cell_type": "code",
   "execution_count": 97,
   "metadata": {},
   "outputs": [
    {
     "name": "stdout",
     "output_type": "stream",
     "text": [
      "[[3666  214]\n",
      " [ 223 1179]]\n",
      "[[1100  194]\n",
      " [ 241  226]]\n",
      "Train Accuracy:  0.9172661870503597\n",
      "Train Recall:  0.8409415121255349\n",
      "Train Precision:  0.8463747307968413\n",
      "-----------------------\n",
      "Val Accuracy:  0.7529812606473595\n",
      "Val Recall:  0.48394004282655245\n",
      "Val Precision:  0.5380952380952381\n"
     ]
    }
   ],
   "source": [
    "val_pred = model7.predict_classes(X_val_preprocessed_arr)\n",
    "train_pred = model7.predict_classes(X_train_preprocessed_arr)\n",
    "\n",
    "confusion_matrix_val = confusion_matrix(y_val, val_pred)\n",
    "confusion_matrix_train = confusion_matrix(y_train, train_pred)\n",
    "\n",
    "print(confusion_matrix_train)\n",
    "print(confusion_matrix_val)\n",
    "\n",
    "from sklearn.metrics import accuracy_score,recall_score,confusion_matrix,f1_score,precision_score\n",
    "accuracy_score_train = accuracy_score(y_train, train_pred)\n",
    "accuracy_score_val = accuracy_score(y_val, val_pred)\n",
    "\n",
    "recall_score_train = recall_score(y_train, train_pred)\n",
    "recall_score_val = recall_score(y_val, val_pred)\n",
    "\n",
    "precision_score_train = precision_score(y_train, train_pred)\n",
    "precision_score_val = precision_score(y_val, val_pred)\n",
    "\n",
    "\n",
    "print(\"Train Accuracy: \",accuracy_score_train)\n",
    "print(\"Train Recall: \",recall_score_train)\n",
    "print(\"Train Precision: \",precision_score_train)\n",
    "\n",
    "print(\"-----------------------\")\n",
    "\n",
    "print(\"Val Accuracy: \",accuracy_score_val)\n",
    "print(\"Val Recall: \",recall_score_val)\n",
    "print(\"Val Precision: \",precision_score_val)"
   ]
  },
  {
   "cell_type": "code",
   "execution_count": null,
   "metadata": {},
   "outputs": [],
   "source": []
  }
 ],
 "metadata": {
  "kernelspec": {
   "display_name": "Python 3",
   "language": "python",
   "name": "python3"
  },
  "language_info": {
   "codemirror_mode": {
    "name": "ipython",
    "version": 3
   },
   "file_extension": ".py",
   "mimetype": "text/x-python",
   "name": "python",
   "nbconvert_exporter": "python",
   "pygments_lexer": "ipython3",
   "version": "3.8.8"
  }
 },
 "nbformat": 4,
 "nbformat_minor": 4
}
